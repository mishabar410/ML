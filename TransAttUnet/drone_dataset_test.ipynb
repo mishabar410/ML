{
  "nbformat": 4,
  "nbformat_minor": 0,
  "metadata": {
    "colab": {
      "provenance": []
    },
    "kernelspec": {
      "name": "python3",
      "display_name": "Python 3"
    },
    "language_info": {
      "name": "python"
    },
    "accelerator": "GPU",
    "gpuClass": "standard"
  },
  "cells": [
    {
      "cell_type": "code",
      "source": [
        "! pip install -q kaggle\n",
        "from google.colab import files\n",
        "files.upload()\n",
        "! mkdir ~/.kaggle\n",
        "! cp kaggle.json ~/.kaggle/\n",
        "! chmod 600 ~/.kaggle/kaggle.json"
      ],
      "metadata": {
        "id": "ft9APKA9ZcEw",
        "outputId": "68f1cf34-9374-4c0b-f670-51f0f98bb184",
        "colab": {
          "base_uri": "https://localhost:8080/",
          "height": 90
        }
      },
      "execution_count": 1,
      "outputs": [
        {
          "output_type": "display_data",
          "data": {
            "text/plain": [
              "<IPython.core.display.HTML object>"
            ],
            "text/html": [
              "\n",
              "     <input type=\"file\" id=\"files-a7cdbce5-ae56-4324-b02c-cfbf2e09193f\" name=\"files[]\" multiple disabled\n",
              "        style=\"border:none\" />\n",
              "     <output id=\"result-a7cdbce5-ae56-4324-b02c-cfbf2e09193f\">\n",
              "      Upload widget is only available when the cell has been executed in the\n",
              "      current browser session. Please rerun this cell to enable.\n",
              "      </output>\n",
              "      <script>// Copyright 2017 Google LLC\n",
              "//\n",
              "// Licensed under the Apache License, Version 2.0 (the \"License\");\n",
              "// you may not use this file except in compliance with the License.\n",
              "// You may obtain a copy of the License at\n",
              "//\n",
              "//      http://www.apache.org/licenses/LICENSE-2.0\n",
              "//\n",
              "// Unless required by applicable law or agreed to in writing, software\n",
              "// distributed under the License is distributed on an \"AS IS\" BASIS,\n",
              "// WITHOUT WARRANTIES OR CONDITIONS OF ANY KIND, either express or implied.\n",
              "// See the License for the specific language governing permissions and\n",
              "// limitations under the License.\n",
              "\n",
              "/**\n",
              " * @fileoverview Helpers for google.colab Python module.\n",
              " */\n",
              "(function(scope) {\n",
              "function span(text, styleAttributes = {}) {\n",
              "  const element = document.createElement('span');\n",
              "  element.textContent = text;\n",
              "  for (const key of Object.keys(styleAttributes)) {\n",
              "    element.style[key] = styleAttributes[key];\n",
              "  }\n",
              "  return element;\n",
              "}\n",
              "\n",
              "// Max number of bytes which will be uploaded at a time.\n",
              "const MAX_PAYLOAD_SIZE = 100 * 1024;\n",
              "\n",
              "function _uploadFiles(inputId, outputId) {\n",
              "  const steps = uploadFilesStep(inputId, outputId);\n",
              "  const outputElement = document.getElementById(outputId);\n",
              "  // Cache steps on the outputElement to make it available for the next call\n",
              "  // to uploadFilesContinue from Python.\n",
              "  outputElement.steps = steps;\n",
              "\n",
              "  return _uploadFilesContinue(outputId);\n",
              "}\n",
              "\n",
              "// This is roughly an async generator (not supported in the browser yet),\n",
              "// where there are multiple asynchronous steps and the Python side is going\n",
              "// to poll for completion of each step.\n",
              "// This uses a Promise to block the python side on completion of each step,\n",
              "// then passes the result of the previous step as the input to the next step.\n",
              "function _uploadFilesContinue(outputId) {\n",
              "  const outputElement = document.getElementById(outputId);\n",
              "  const steps = outputElement.steps;\n",
              "\n",
              "  const next = steps.next(outputElement.lastPromiseValue);\n",
              "  return Promise.resolve(next.value.promise).then((value) => {\n",
              "    // Cache the last promise value to make it available to the next\n",
              "    // step of the generator.\n",
              "    outputElement.lastPromiseValue = value;\n",
              "    return next.value.response;\n",
              "  });\n",
              "}\n",
              "\n",
              "/**\n",
              " * Generator function which is called between each async step of the upload\n",
              " * process.\n",
              " * @param {string} inputId Element ID of the input file picker element.\n",
              " * @param {string} outputId Element ID of the output display.\n",
              " * @return {!Iterable<!Object>} Iterable of next steps.\n",
              " */\n",
              "function* uploadFilesStep(inputId, outputId) {\n",
              "  const inputElement = document.getElementById(inputId);\n",
              "  inputElement.disabled = false;\n",
              "\n",
              "  const outputElement = document.getElementById(outputId);\n",
              "  outputElement.innerHTML = '';\n",
              "\n",
              "  const pickedPromise = new Promise((resolve) => {\n",
              "    inputElement.addEventListener('change', (e) => {\n",
              "      resolve(e.target.files);\n",
              "    });\n",
              "  });\n",
              "\n",
              "  const cancel = document.createElement('button');\n",
              "  inputElement.parentElement.appendChild(cancel);\n",
              "  cancel.textContent = 'Cancel upload';\n",
              "  const cancelPromise = new Promise((resolve) => {\n",
              "    cancel.onclick = () => {\n",
              "      resolve(null);\n",
              "    };\n",
              "  });\n",
              "\n",
              "  // Wait for the user to pick the files.\n",
              "  const files = yield {\n",
              "    promise: Promise.race([pickedPromise, cancelPromise]),\n",
              "    response: {\n",
              "      action: 'starting',\n",
              "    }\n",
              "  };\n",
              "\n",
              "  cancel.remove();\n",
              "\n",
              "  // Disable the input element since further picks are not allowed.\n",
              "  inputElement.disabled = true;\n",
              "\n",
              "  if (!files) {\n",
              "    return {\n",
              "      response: {\n",
              "        action: 'complete',\n",
              "      }\n",
              "    };\n",
              "  }\n",
              "\n",
              "  for (const file of files) {\n",
              "    const li = document.createElement('li');\n",
              "    li.append(span(file.name, {fontWeight: 'bold'}));\n",
              "    li.append(span(\n",
              "        `(${file.type || 'n/a'}) - ${file.size} bytes, ` +\n",
              "        `last modified: ${\n",
              "            file.lastModifiedDate ? file.lastModifiedDate.toLocaleDateString() :\n",
              "                                    'n/a'} - `));\n",
              "    const percent = span('0% done');\n",
              "    li.appendChild(percent);\n",
              "\n",
              "    outputElement.appendChild(li);\n",
              "\n",
              "    const fileDataPromise = new Promise((resolve) => {\n",
              "      const reader = new FileReader();\n",
              "      reader.onload = (e) => {\n",
              "        resolve(e.target.result);\n",
              "      };\n",
              "      reader.readAsArrayBuffer(file);\n",
              "    });\n",
              "    // Wait for the data to be ready.\n",
              "    let fileData = yield {\n",
              "      promise: fileDataPromise,\n",
              "      response: {\n",
              "        action: 'continue',\n",
              "      }\n",
              "    };\n",
              "\n",
              "    // Use a chunked sending to avoid message size limits. See b/62115660.\n",
              "    let position = 0;\n",
              "    do {\n",
              "      const length = Math.min(fileData.byteLength - position, MAX_PAYLOAD_SIZE);\n",
              "      const chunk = new Uint8Array(fileData, position, length);\n",
              "      position += length;\n",
              "\n",
              "      const base64 = btoa(String.fromCharCode.apply(null, chunk));\n",
              "      yield {\n",
              "        response: {\n",
              "          action: 'append',\n",
              "          file: file.name,\n",
              "          data: base64,\n",
              "        },\n",
              "      };\n",
              "\n",
              "      let percentDone = fileData.byteLength === 0 ?\n",
              "          100 :\n",
              "          Math.round((position / fileData.byteLength) * 100);\n",
              "      percent.textContent = `${percentDone}% done`;\n",
              "\n",
              "    } while (position < fileData.byteLength);\n",
              "  }\n",
              "\n",
              "  // All done.\n",
              "  yield {\n",
              "    response: {\n",
              "      action: 'complete',\n",
              "    }\n",
              "  };\n",
              "}\n",
              "\n",
              "scope.google = scope.google || {};\n",
              "scope.google.colab = scope.google.colab || {};\n",
              "scope.google.colab._files = {\n",
              "  _uploadFiles,\n",
              "  _uploadFilesContinue,\n",
              "};\n",
              "})(self);\n",
              "</script> "
            ]
          },
          "metadata": {}
        },
        {
          "output_type": "stream",
          "name": "stdout",
          "text": [
            "Saving kaggle.json to kaggle (2).json\n",
            "mkdir: cannot create directory ‘/root/.kaggle’: File exists\n"
          ]
        }
      ]
    },
    {
      "cell_type": "code",
      "source": [
        "# from google.colab import files\n",
        "# files.upload()"
      ],
      "metadata": {
        "id": "DxFLgT9dV1Ud"
      },
      "execution_count": 2,
      "outputs": []
    },
    {
      "cell_type": "code",
      "source": [
        "# my_file = open(\"count_colors.txt\", \"r\")\n",
        "# count_colors = my_file.read()\n",
        "# count_colors = count_colors.split(\", \")\n",
        "# for i in range(23):\n",
        "#     count_colors[i] = float(count_colors[i])\n",
        "\n",
        "# print(count_colors)"
      ],
      "metadata": {
        "id": "WUfOJKztXdkW"
      },
      "execution_count": 3,
      "outputs": []
    },
    {
      "cell_type": "code",
      "source": [
        "!kaggle datasets download bulentsiyah/semantic-drone-dataset -p /content/sample_data/ --unzip"
      ],
      "metadata": {
        "id": "gih56CsBfm3s",
        "outputId": "de318326-4a7e-4de6-d9df-2a8537b8d7d7",
        "colab": {
          "base_uri": "https://localhost:8080/"
        }
      },
      "execution_count": 4,
      "outputs": [
        {
          "output_type": "stream",
          "name": "stdout",
          "text": [
            "Downloading semantic-drone-dataset.zip to /content/sample_data\n",
            " 99% 3.86G/3.89G [00:20<00:00, 221MB/s]\n",
            "100% 3.89G/3.89G [00:20<00:00, 204MB/s]\n"
          ]
        }
      ]
    },
    {
      "cell_type": "code",
      "source": [
        "import numpy as np \n",
        "import pandas as pd\n",
        "import matplotlib.pyplot as plt\n",
        "\n",
        "from sklearn.model_selection import train_test_split\n",
        "\n",
        "import torch\n",
        "import torch.nn as nn\n",
        "from torch.utils.data import Dataset, DataLoader\n",
        "from torchvision import transforms as T\n",
        "import torchvision\n",
        "import torch.nn.functional as F\n",
        "from torch.autograd import Variable\n",
        "\n",
        "from PIL import Image\n",
        "import cv2\n",
        "import albumentations as A\n",
        "\n",
        "import time\n",
        "import os\n",
        "from tqdm.notebook import tqdm\n",
        "\n",
        "# !pip install -q torchsummary\n",
        "\n",
        "from torchsummary import summary\n",
        "import statistics \n",
        "device = torch.device(\"cuda\" if torch.cuda.is_available() else \"cpu\")"
      ],
      "metadata": {
        "id": "bZVOdGB9iT2m"
      },
      "execution_count": 5,
      "outputs": []
    },
    {
      "cell_type": "code",
      "source": [
        "IMAGE_PATH = '../content/sample_data/dataset/semantic_drone_dataset/original_images/'\n",
        "MASK_PATH = '../content/sample_data/dataset/semantic_drone_dataset/label_images_semantic/'"
      ],
      "metadata": {
        "id": "dMkSr0Pwieaj"
      },
      "execution_count": 6,
      "outputs": []
    },
    {
      "cell_type": "code",
      "source": [
        "n_classes = 23 \n",
        "\n",
        "def create_df():\n",
        "    name = []\n",
        "    for dirname, _, filenames in os.walk(IMAGE_PATH):\n",
        "        for filename in filenames:\n",
        "            name.append(filename.split('.')[0])\n",
        "    \n",
        "    return pd.DataFrame({'id': name}, index = np.arange(0, len(name)))\n",
        "\n",
        "df = create_df()\n",
        "print('Total Images: ', len(df))"
      ],
      "metadata": {
        "id": "7ebGCZkfk8Dv",
        "outputId": "71082e39-8a39-4415-fc6f-64a5f098a56a",
        "colab": {
          "base_uri": "https://localhost:8080/"
        }
      },
      "execution_count": 7,
      "outputs": [
        {
          "output_type": "stream",
          "name": "stdout",
          "text": [
            "Total Images:  400\n"
          ]
        }
      ]
    },
    {
      "cell_type": "code",
      "source": [
        "X_trainval, X_test = train_test_split(df['id'].values, test_size=0.1, random_state=19)\n",
        "X_train, X_val = train_test_split(X_trainval, test_size=0.15, random_state=19)\n",
        "\n",
        "print('Train Size   : ', len(X_train))\n",
        "print('Val Size     : ', len(X_val))\n",
        "print('Test Size    : ', len(X_test))"
      ],
      "metadata": {
        "id": "RMJMMPorlg8i",
        "outputId": "42d513e2-0018-4a7a-e14c-7a5119f65c2b",
        "colab": {
          "base_uri": "https://localhost:8080/"
        }
      },
      "execution_count": 8,
      "outputs": [
        {
          "output_type": "stream",
          "name": "stdout",
          "text": [
            "Train Size   :  306\n",
            "Val Size     :  54\n",
            "Test Size    :  40\n"
          ]
        }
      ]
    },
    {
      "cell_type": "code",
      "source": [
        "img = Image.open(IMAGE_PATH + df['id'][100] + '.jpg')\n",
        "mask = Image.open(MASK_PATH + df['id'][100] + '.png')\n",
        "print('Image Size', np.asarray(img).shape)\n",
        "print('Mask Size', np.asarray(mask).shape)\n",
        "\n",
        "\n",
        "plt.imshow(img)\n",
        "plt.imshow(mask, alpha=0.6)\n",
        "plt.title('Picture with Mask Appplied')\n",
        "plt.show()"
      ],
      "metadata": {
        "id": "mgX-2lJ4nvP6",
        "outputId": "f096b983-d4d9-42ab-f476-6885c06d3f4f",
        "colab": {
          "base_uri": "https://localhost:8080/",
          "height": 316
        }
      },
      "execution_count": 9,
      "outputs": [
        {
          "output_type": "stream",
          "name": "stdout",
          "text": [
            "Image Size (4000, 6000, 3)\n",
            "Mask Size (4000, 6000)\n"
          ]
        },
        {
          "output_type": "display_data",
          "data": {
            "text/plain": [
              "<Figure size 432x288 with 1 Axes>"
            ],
            "image/png": "[encoded data removed]"
          },
          "metadata": {
            "needs_background": "light"
          }
        }
      ]
    },
    {
      "cell_type": "code",
      "source": [
        "class DroneDataset(Dataset):\n",
        "\n",
        "  def __init__(self, img_path, mask_path, X, mean, std, transform=None, patch=False):\n",
        "    self.img_path = img_path\n",
        "    self.mask_path = mask_path\n",
        "    self.X = X\n",
        "    self.transform = transform\n",
        "    self.patches = patch\n",
        "    self.mean = mean\n",
        "    self.std = std\n",
        "  \n",
        "  def __len__(self):\n",
        "    return len(self.X)\n",
        "\n",
        "  def __getitem__(self, idx):\n",
        "        img = cv2.imread(self.img_path + self.X[idx] + '.jpg')\n",
        "        img = cv2.cvtColor(img, cv2.COLOR_BGR2RGB)\n",
        "        mask = cv2.imread(self.mask_path + self.X[idx] + '.png', cv2.IMREAD_GRAYSCALE)\n",
        "        \n",
        "        if self.transform is not None:\n",
        "            aug = self.transform(image=img, mask=mask)\n",
        "            img = Image.fromarray(aug['image'])\n",
        "            mask = aug['mask']\n",
        "        \n",
        "        if self.transform is None:\n",
        "            img = Image.fromarray(img)\n",
        "        \n",
        "        t = T.Compose([T.ToTensor(), T.Normalize(self.mean, self.std)])\n",
        "        img = t(img)\n",
        "        mask = torch.from_numpy(mask).long()\n",
        "        \n",
        "        return img, mask"
      ],
      "metadata": {
        "id": "fkI3oOm9opr-"
      },
      "execution_count": 10,
      "outputs": []
    },
    {
      "cell_type": "code",
      "source": [
        "mean=[0.485, 0.456, 0.406]\n",
        "std=[0.229, 0.224, 0.225]\n",
        "\n",
        "t_train = A.Compose([A.Resize(704, 1056, interpolation=cv2.INTER_NEAREST), A.HorizontalFlip(), A.VerticalFlip(), \n",
        "                     A.GridDistortion(p=0.2), A.RandomBrightnessContrast((0,0.5),(0,0.5)),\n",
        "                     A.GaussNoise()])\n",
        "\n",
        "t_val = A.Compose([A.Resize(704, 1056, interpolation=cv2.INTER_NEAREST), A.HorizontalFlip(),\n",
        "                   A.GridDistortion(p=0.2)])\n",
        "\n",
        "#datasets\n",
        "train_set = DroneDataset(IMAGE_PATH, MASK_PATH, X_train, mean, std, t_train, patch=False)\n",
        "val_set = DroneDataset(IMAGE_PATH, MASK_PATH, X_val, mean, std, t_val, patch=False)\n",
        "\n",
        "#dataloader\n",
        "batch_size= 3\n",
        "\n",
        "train_loader = DataLoader(train_set, batch_size=batch_size, shuffle=True)\n",
        "val_loader = DataLoader(val_set, batch_size=batch_size, shuffle=True)               "
      ],
      "metadata": {
        "id": "LMw3X87f1ziv"
      },
      "execution_count": 11,
      "outputs": []
    },
    {
      "cell_type": "code",
      "source": [
        "# import numpy\n",
        "\n",
        "# t_find = A.Resize(704, 1056, interpolation=cv2.INTER_NEAREST)\n",
        "# find_set = DroneDataset(IMAGE_PATH, MASK_PATH, X_train, mean, std, t_find, patch=False)\n",
        "\n",
        "# count_colors = [0] \n",
        "# count_colors *= 23\n",
        "\n",
        "# for i in range(306):\n",
        "#     # print(count_colors)\n",
        "#     _ , mask = find_set[i]\n",
        "#     np_mask = mask.numpy()\n",
        "\n",
        "#     unique, counts = numpy.unique(np_mask, return_counts=True)\n",
        "#     for j, i in enumerate(unique):\n",
        "#         count_colors[i] += counts[j]\n",
        "\n",
        "# print(count_colors)"
      ],
      "metadata": {
        "id": "HIb8wYbipTto"
      },
      "execution_count": 12,
      "outputs": []
    },
    {
      "cell_type": "code",
      "source": [
        "# x = sum(count_colors)\n",
        "# for i in range(23):\n",
        "#     count_colors[i] /= x\n",
        "\n",
        "# print(count_colors)"
      ],
      "metadata": {
        "id": "5Dus50EsCYCQ"
      },
      "execution_count": 13,
      "outputs": []
    },
    {
      "cell_type": "code",
      "source": [
        "list_of_colors = []"
      ],
      "metadata": {
        "id": "mv9rkgvKELRD"
      },
      "execution_count": 14,
      "outputs": []
    },
    {
      "cell_type": "code",
      "source": [
        "# for j, i in enumerate(count_colors):\n",
        "#     if i/sum(count_colors) < 0.005:\n",
        "#         list_of_colors.append(j)\n",
        "#         print(j)\n",
        "#     # print(i)\n",
        "#     # print(i/sum(count_colors))"
      ],
      "metadata": {
        "id": "RIuQq0cRUMTD"
      },
      "execution_count": 15,
      "outputs": []
    },
    {
      "cell_type": "code",
      "source": [
        "# list_of_colors = [0, 12, 14, 16, 18, 21]\n",
        "# weights = []\n",
        "# for i in range(23):\n",
        "#     if (i in list_of_colors):\n",
        "#         weights.append(5.0)\n",
        "#     else:\n",
        "#         weights.append(1.0)\n",
        "#     # for j in list_of_colors:\n",
        "#     #     if i == j:\n",
        "#     #         weights.append(5.0)\n",
        "#     #         continue\n",
        "#     # weights.append(1.0)\n",
        "\n",
        "# class_weights = torch.FloatTensor(weights).cuda()"
      ],
      "metadata": {
        "id": "RJl2x8BUEoN-"
      },
      "execution_count": 16,
      "outputs": []
    },
    {
      "cell_type": "code",
      "source": [
        "# print(weights)"
      ],
      "metadata": {
        "id": "0FJCKivH2DXE"
      },
      "execution_count": 17,
      "outputs": []
    },
    {
      "cell_type": "code",
      "source": [
        "class DoubleConv(nn.Module):\n",
        "    def __init__(self, in_channels, out_channels):\n",
        "        super().__init__()\n",
        "        self.conv1 = nn.Conv2d(in_channels, out_channels, kernel_size=3)\n",
        "        self.bnorm1 = nn.BatchNorm2d(out_channels)\n",
        "        self.relu = nn.ReLU()\n",
        "        self.conv2 = nn.Conv2d(out_channels, out_channels, kernel_size=3)\n",
        "        self.bnorm2 = nn.BatchNorm2d(out_channels)\n",
        "    \n",
        "    def forward(self, x):\n",
        "        x1 = self.relu(self.bnorm1(self.conv1(x)))\n",
        "        x2 = self.relu(self.bnorm2(self.conv2(x1)))\n",
        "        return x2\n",
        "\n",
        "class Down(nn.Module):\n",
        "    def __init__(self, in_channels, out_channels):\n",
        "        super().__init__()\n",
        "        self.conv = DoubleConv(in_channels, out_channels)\n",
        "        self.mpool = nn.MaxPool2d(kernel_size = 3, stride = 2)\n",
        "\n",
        "    def forward(self, x):\n",
        "        return self.conv(self.mpool(x))\n",
        "\n",
        "class Up(nn.Module):\n",
        "    def __init__(self, in_channels, out_channels):\n",
        "        super().__init__()\n",
        "        self.conv = DoubleConv(in_channels, out_channels)\n",
        "        self.upsample = nn.Upsample(scale_factor = 2, mode = 'bilinear')\n",
        "\n",
        "    def forward(self, x1, x2):\n",
        "        x1 = self.upsample(x1)\n",
        "\n",
        "        diffY = x2.size()[2] - x1.size()[2]\n",
        "        diffX = x2.size()[3] - x1.size()[3]\n",
        "\n",
        "        x1 = F.pad(x1, [diffX // 2, diffX - diffX // 2,\n",
        "                        diffY // 2, diffY - diffY // 2])\n",
        "\n",
        "        x1 = torch.cat([x2, x1], 1)\n",
        "        return self.conv(x1)"
      ],
      "metadata": {
        "id": "-RXf_uJw113D"
      },
      "execution_count": 18,
      "outputs": []
    },
    {
      "cell_type": "code",
      "source": [
        "class GSA(nn.Module):\n",
        "    def __init__(self, in_channels):\n",
        "        super().__init__()\n",
        "        self.M_conv = nn.Conv2d(in_channels, in_channels // 8, kernel_size=1)\n",
        "        self.N_conv = nn.Conv2d(in_channels, in_channels // 8, kernel_size=1)\n",
        "        self.W_conv = nn.Conv2d(in_channels, in_channels, kernel_size=1)\n",
        "        self.gamma = nn.Parameter(torch.zeros(1))\n",
        "    \n",
        "    def forward(self, x):\n",
        "        batch_size, channels, height, width = x.size()\n",
        "        M = self.M_conv(x).view(batch_size, -1, height * width).permute(0, 2, 1)\n",
        "        N = self.N_conv(x).view(batch_size, -1, height * width)\n",
        "        W = self.W_conv(x).view(batch_size, -1, height * width)\n",
        "        B = F.softmax(torch.bmm(M, N), dim = -1).permute(0, 2, 1)\n",
        "        result = torch.bmm(W, B).view(batch_size, channels, height, width)\n",
        "        \n",
        "        return self.gamma * result + x"
      ],
      "metadata": {
        "id": "IoTHpMYsZ7cx"
      },
      "execution_count": 19,
      "outputs": []
    },
    {
      "cell_type": "code",
      "source": [
        "class Position_Encoding(nn.Module):\n",
        "    def __init__(self, num_pos_feats=256, len_embedding=32):\n",
        "        super().__init__()\n",
        "        self.row_embed = nn.Embedding(len_embedding, num_pos_feats)\n",
        "        self.col_embed = nn.Embedding(len_embedding, num_pos_feats)\n",
        "        self.reset_parameters()\n",
        "\n",
        "    def reset_parameters(self):\n",
        "        nn.init.uniform_(self.row_embed.weight)\n",
        "        nn.init.uniform_(self.col_embed.weight)\n",
        "\n",
        "    def forward(self, tensor_list):\n",
        "        x = tensor_list\n",
        "        h, w = x.shape[-2:]\n",
        "        i = torch.arange(w, device = x.device)\n",
        "        j = torch.arange(h, device = x.device)\n",
        "\n",
        "        x_emb = self.col_embed(i)\n",
        "        y_emb = self.col_embed(j)\n",
        "\n",
        "        pos = torch.cat([\n",
        "            x_emb.unsqueeze(0).repeat(h, 1, 1),\n",
        "            y_emb.unsqueeze(1).repeat(1, w, 1),\n",
        "        ], dim = -1).permute(2, 0, 1).unsqueeze(0).repeat(x.shape[0], 1, 1, 1)\n",
        "\n",
        "        return pos\n",
        "\n",
        "class Scalar_dot_product_attention(nn.Module):\n",
        "    def __init__(self, coef):\n",
        "        super().__init__()\n",
        "        self.d_k = coef ** 0.5\n",
        "        self.dropout = nn.Dropout(p = 0.1)\n",
        "\n",
        "    def forward(self, x):\n",
        "        batch_size, channels, height, width = x.size()\n",
        "        q = x.view(batch_size, channels, -1)\n",
        "        k = x.view(batch_size, channels, -1).permute(0, 2, 1)\n",
        "        v = x.view(batch_size, channels, -1)\n",
        "        attention = F.softmax(torch.matmul(q / self.d_k, k), dim = -1)\n",
        "        attention = self.dropout(attention)\n",
        "        return torch.matmul(attention, v).view(batch_size, channels, height, width)"
      ],
      "metadata": {
        "id": "lv5UIJ_waCu2"
      },
      "execution_count": 20,
      "outputs": []
    },
    {
      "cell_type": "code",
      "source": [
        "class Unet(nn.Module):\n",
        "    def __init__(self, number_of_classes):\n",
        "        super().__init__()\n",
        "        self.first_conv = DoubleConv(3, 64)\n",
        "\n",
        "        self.down1 = Down(64, 128)\n",
        "        self.down2 = Down(128, 256)\n",
        "        self.down3 = Down(256, 512 // 2)\n",
        "        # self.down4 = Down(512, 1024 // 2)\n",
        "\n",
        "        # self.up1 = Up(1024, 512 // 2)\n",
        "        self.up1 = Up(512, 256 // 2)\n",
        "        self.up2 = Up(256 * 2, 128 // 2)\n",
        "        self.up3 = Up(128 * 2, 64)\n",
        "        self.out = nn.Conv2d(64 * 2, number_of_classes, kernel_size = 1)\n",
        "\n",
        "        self.pos = Position_Encoding(256)\n",
        "        self.gsa = GSA(512)\n",
        "        self.prod = Scalar_dot_product_attention(512)\n",
        "\n",
        "    def forward(self, x):\n",
        "        x1 = self.first_conv(x)\n",
        "        x2 = self.down1(x1)\n",
        "        x3 = self.down2(x2)\n",
        "        x4 = self.down3(x3)\n",
        "        # x5 = self.down4(x4)\n",
        "\n",
        "        # x5_gsa = self.gsa(x5)\n",
        "        # x5 += self.pos(x5)\n",
        "        # x5_prod = self.prod(x5)\n",
        "        # x5 = x5_gsa + x5_prod\n",
        "\n",
        "        # x6 = self.up1(x5, x4)\n",
        "        # x5_scale = F.interpolate(x5, size = x6.shape[2:], mode = 'bilinear', align_corners=True)\n",
        "        # x6_cat = torch.cat((x6, x5_scale), 1)\n",
        "\n",
        "        x5 = self.up2(x4, x3)\n",
        "        x4_scale = F.interpolate(x4, size = x5.shape[2:], mode = 'bilinear', align_corners=True)\n",
        "        x5_cat = torch.cat((x4_scale, x5), 1)\n",
        "                \n",
        "        x6 = self.up3(x5_cat, x2)\n",
        "        x5_scale = F.interpolate(x5, size = x6.shape[2:], mode = 'bilinear', align_corners=True)\n",
        "        x6_cat = torch.cat((x5_scale, x6), 1)\n",
        "        \n",
        "        x7 = self.up4(x6_cat, x1)\n",
        "        x6_scale = F.interpolate(x6, size = x7.shape[2:], mode = 'bilinear', align_corners=True)\n",
        "        x7_cat = torch.cat((x6_scale, x7), 1)\n",
        "\n",
        "        return self.out(x7_cat)"
      ],
      "metadata": {
        "id": "XeNNdq5AaIeq"
      },
      "execution_count": 45,
      "outputs": []
    },
    {
      "cell_type": "code",
      "source": [
        "# model = UNET(3, 23)\n",
        "# optimizer = torch.optim.Adam(model.parameters())\n",
        "\n",
        "# epochs = 15"
      ],
      "metadata": {
        "id": "6e8XR_XxUe_d"
      },
      "execution_count": 46,
      "outputs": []
    },
    {
      "cell_type": "code",
      "source": [
        "# print(error)"
      ],
      "metadata": {
        "id": "8oPm3VNIgxNc"
      },
      "execution_count": 47,
      "outputs": []
    },
    {
      "cell_type": "code",
      "source": [
        "import torch\n",
        "torch.cuda.empty_cache()\n",
        "print(torch.cuda.memory_allocated()/1024/1024)"
      ],
      "metadata": {
        "id": "5RzTIdUTdYZF",
        "colab": {
          "base_uri": "https://localhost:8080/"
        },
        "outputId": "23ded2c9-0f68-49bd-e49b-c3bf14a946d3"
      },
      "execution_count": 48,
      "outputs": [
        {
          "output_type": "stream",
          "name": "stdout",
          "text": [
            "5095.62548828125\n"
          ]
        }
      ]
    },
    {
      "cell_type": "code",
      "source": [
        "# checkpoint = torch.load('dice_7ep.pt')\n",
        "# model.load_state_dict(checkpoint['model_state_dict'])\n",
        "# optimizer.load_state_dict(checkpoint['optimizer_state_dict'])\n",
        "# epoch = checkpoint['epoch']\n",
        "# loss = checkpoint['loss']\n",
        "\n",
        "# model = model.cuda()"
      ],
      "metadata": {
        "id": "dsdlo65N5M3J"
      },
      "execution_count": 49,
      "outputs": []
    },
    {
      "cell_type": "code",
      "source": [
        "# weights = []\n",
        "# for i in class_accuracy:\n",
        "#     if (i < 0.05):\n",
        "#         weights.append(5.0)\n",
        "#     elif (i > 0.5):\n",
        "#         weights.append(0.7)\n",
        "#     else:\n",
        "#         weights.append(1.0)\n",
        "# print(weights)\n",
        "# class_weights = torch.FloatTensor(weights).cuda()"
      ],
      "metadata": {
        "id": "Z8yhMt4QlsAg"
      },
      "execution_count": 50,
      "outputs": []
    },
    {
      "cell_type": "code",
      "source": [
        "# len(weights)"
      ],
      "metadata": {
        "id": "yf9ng9HBn2D8"
      },
      "execution_count": 51,
      "outputs": []
    },
    {
      "cell_type": "code",
      "source": [
        "# criterion = nn.CrossEntropyLoss(weight=class_weights)"
      ],
      "metadata": {
        "id": "Oi4B5Z62vN79"
      },
      "execution_count": 52,
      "outputs": []
    },
    {
      "cell_type": "code",
      "source": [
        "# print(output.shape)\n",
        "# print(y.shape)"
      ],
      "metadata": {
        "id": "IaxTcfNxIcWw"
      },
      "execution_count": 53,
      "outputs": []
    },
    {
      "cell_type": "code",
      "source": [
        "# model.cuda()"
      ],
      "metadata": {
        "id": "-a1UzUcWz3lg"
      },
      "execution_count": 54,
      "outputs": []
    },
    {
      "cell_type": "code",
      "source": [
        "class FocalLoss(nn.Module):\n",
        "    def __init__(self, gamma=0, alpha=None, size_average=True):\n",
        "        super(FocalLoss, self).__init__()\n",
        "        self.gamma = gamma\n",
        "        # self.alpha = alpha\n",
        "        # if isinstance(alpha,(float, int, long)): self.alpha = torch.Tensor([alpha,1-alpha])\n",
        "        # if isinstance(alpha, list): self.alpha = torch.Tensor(alpha)\n",
        "        self.size_average = size_average\n",
        "\n",
        "    def forward(self, input, target):\n",
        "        input = input.view(input.size(0), input.size(1), -1)  # N,C,H,W => N,C,H*W\n",
        "        input = input.transpose(1, 2)    # N,C,H*W => N,H*W,C\n",
        "        input = input.contiguous().view(-1, input.size(2))   # N,H*W,C => N*H*W,C\n",
        "        target = target.view(-1, 1)\n",
        "\n",
        "        logpt = F.log_softmax(input, -1)\n",
        "        logpt = logpt.gather(1, target)\n",
        "        logpt = logpt.view(-1)\n",
        "        pt = logpt.data.exp()\n",
        "        pt.requiers_grad = True\n",
        "        # if self.alpha is not None:\n",
        "        #     if self.alpha.type() != input.data.type():\n",
        "        #         self.alpha = self.alpha.type_as(input.data)\n",
        "        #     at = self.alpha.gather(0,target.data.view(-1))\n",
        "        #     logpt = logpt * Variable(at)\n",
        "\n",
        "        loss = -1 * (1 - pt) ** self.gamma * logpt\n",
        "        if self.size_average: \n",
        "            return loss.mean()\n",
        "        else: \n",
        "            return loss.sum()"
      ],
      "metadata": {
        "id": "6W0gxeSjjuh7"
      },
      "execution_count": 55,
      "outputs": []
    },
    {
      "cell_type": "code",
      "source": [
        "# criterion = FocalLoss(gamma = 2)"
      ],
      "metadata": {
        "id": "_p6XMBUKgGeZ"
      },
      "execution_count": 56,
      "outputs": []
    },
    {
      "cell_type": "code",
      "source": [
        "# class TverskyLoss(nn.Module):\n",
        "#     def __init__(self, alpha=0.5, beta=0.5, eps=1e-7):\n",
        "#         super(TverskyLoss, self).__init__()\n",
        "#         self.alpha = alpha\n",
        "#         self.beta = beta\n",
        "#         self.eps = eps\n",
        "\n",
        "#     def forward(self, true, logits):\n",
        "#         true = true.long()\n",
        "#         true = logits.long()\n",
        "#         num_classes = logits.shape[1]\n",
        "#         true_1_hot = torch.eye(num_classes)[true.squeeze(1)]\n",
        "#         true_1_hot = true_1_hot.permute(0, 3, 1, 2).float()\n",
        "#         probas = F.softmax(logits, dim=1)\n",
        "\n",
        "#         true_1_hot = true_1_hot.type(logits.type())\n",
        "#         dims = (0,) + tuple(range(2, true.ndimension()))\n",
        "#         intersection = torch.sum(probas * true_1_hot, dims)\n",
        "#         fps = torch.sum(probas * (1 - true_1_hot), dims)\n",
        "#         fns = torch.sum((1 - probas) * true_1_hot, dims)\n",
        "#         num = intersection\n",
        "#         denom = intersection + (self.alpha * fps) + (self.beta * fns)\n",
        "#         tversky_loss = (num / (denom + self.eps)).mean()\n",
        "\n",
        "#         return (1 - tversky_loss)"
      ],
      "metadata": {
        "id": "3o-5MF_oxfHu"
      },
      "execution_count": 57,
      "outputs": []
    },
    {
      "cell_type": "code",
      "source": [
        "# criterion = TverskyLoss()"
      ],
      "metadata": {
        "id": "2Dm6tzK79Y4n"
      },
      "execution_count": 58,
      "outputs": []
    },
    {
      "cell_type": "code",
      "source": [
        "smooth = 1\n",
        "\n",
        "all_colors = [0] * 24\n",
        "correct_colors = [0] * 24\n",
        "guessed_colors = [0] * 24\n",
        "loss = []\n",
        "\n",
        "\n",
        "class DiceLoss(nn.Module):\n",
        "    def __init__(self):\n",
        "        super(DiceLoss, self).__init__()\n",
        "        \n",
        "    def forward(self, output, y):\n",
        "        smooth = 1\n",
        "        all_colors = [0] * 24\n",
        "        correct_colors = [0] * 24\n",
        "        guessed_colors = [0] * 24\n",
        "        loss = []\n",
        "\n",
        "        output = torch.argmax(F.softmax(output, dim=1), dim=1)\n",
        "        output += 1\n",
        "        y += 1\n",
        "        correct = torch.eq(output, y).int()\n",
        "        correct = correct.cuda()\n",
        "\n",
        "        # incorrect = torch.ne(output, y).int()\n",
        "        # incorrect = correct.cuda()\n",
        "\n",
        "        output = output.cpu()\n",
        "        np_output = output.numpy()\n",
        "        unique_output, counts_output = np.unique(np_output, return_counts=True)\n",
        "        output = output.cuda()\n",
        "\n",
        "        output = output * correct\n",
        "        y = y.cpu()\n",
        "        np_y = y.numpy()\n",
        "        unique_y, counts_y = np.unique(np_y, return_counts=True)\n",
        "            \n",
        "        for j, i in enumerate(unique_y):\n",
        "            guessed_colors[i] += counts_y[j]\n",
        "\n",
        "        output = output.cpu()\n",
        "        np_output = output.numpy()\n",
        "        unique_output, counts_output = np.unique(np_output, return_counts=True)\n",
        "\n",
        "        for j, i in enumerate(unique_y):\n",
        "            all_colors[i] += counts_y[j]\n",
        "\n",
        "        for j, i in enumerate(unique_output):\n",
        "            correct_colors[i] += counts_output[j]\n",
        "\n",
        "        for i in range(23):\n",
        "            if (count_colors[i] > 0.04):\n",
        "                if (count_colors[i] > 0.1):\n",
        "                    loss.append(2 * correct_colors[i] * 0.01 / (all_colors[i] + guessed_colors[i] + smooth))\n",
        "                else:\n",
        "                    loss.append(2 * correct_colors[i] * 0.1 / (all_colors[i] + guessed_colors[i] + smooth))\n",
        "            else:\n",
        "                loss.append(2 * correct_colors[i] / (all_colors[i] + guessed_colors[i] + smooth))\n",
        "\n",
        "        return statistics.mean(loss)\n",
        "    # for j, i in enumerate(unique_output):\n",
        "    #     incorrect_colors[i] += counts_output[j]"
      ],
      "metadata": {
        "id": "viz7-WRX1A-E"
      },
      "execution_count": 59,
      "outputs": []
    },
    {
      "cell_type": "code",
      "source": [
        "def dice_loss(true, logits, eps=1e-7):\n",
        "    num_classes = logits.shape[1]\n",
        "    \n",
        "    # true_1_hot = torch.eye(num_classes)[true.squeeze(1)]\n",
        "    true_1_hot = torch.eye(num_classes)\n",
        "    # print(true_1_hot)\n",
        "    true_1_hot = true_1_hot.cuda()\n",
        "    true_1_hot = true_1_hot[true.squeeze(1)]\n",
        "    # print(true_1_hot.shape)\n",
        "\n",
        "    true_1_hot = true_1_hot.permute(0, 3, 1, 2).float()\n",
        "    # print(true_1_hot.shape)\n",
        "    probas = F.softmax(logits, dim=1)\n",
        "\n",
        "    true_1_hot = true_1_hot.type(logits.type())\n",
        "    dims = (0,) + tuple(range(2, true.ndimension()))\n",
        "    intersection = torch.sum(probas * true_1_hot, dims)\n",
        "    cardinality = torch.sum(probas + true_1_hot, dims)\n",
        "    # print(intersection)\n",
        "    # print(cardinality)\n",
        "\n",
        "    dice_loss = (2. * intersection / (cardinality + eps)).mean()\n",
        "\n",
        "    return (1 - dice_loss)"
      ],
      "metadata": {
        "id": "BOxqzOAG7Ei1"
      },
      "execution_count": 60,
      "outputs": []
    },
    {
      "cell_type": "code",
      "source": [
        "# weights = torch.eye(23)\n",
        "# lst = []\n",
        "# for i in range(23):\n",
        "#     if count_colors[i] > 0.04:\n",
        "#         if count_colors[i] > 0.1:\n",
        "#             weights[i][i] = 0.1\n",
        "#             lst.append(0.1)\n",
        "#         else:\n",
        "#             weights[i][i] = 0.5\n",
        "#             lst.append(0.5)\n",
        "\n",
        "#     else:\n",
        "#         weights[i][i] = 1.0\n",
        "#         lst.append(1.0)\n",
        "\n",
        "# x = statistics.mean(lst)\n",
        "# for i in range(23):\n",
        "#     weights[i][i] /= x"
      ],
      "metadata": {
        "id": "3SvKS-C0hjcI"
      },
      "execution_count": 61,
      "outputs": []
    },
    {
      "cell_type": "code",
      "source": [
        "# weight = []\n",
        "# for i in range(23):\n",
        "#     if count_colors[i] > 0.04:\n",
        "#         if count_colors[i] > 0.1:\n",
        "#             weight.append(0.05)\n",
        "#         else:\n",
        "#             weight.append(0.5)\n",
        "#     else:\n",
        "#         weight.append(1.0)\n",
        "\n",
        "# x = statistics.mean(weight)\n",
        "\n",
        "# for i in range(23):\n",
        "#     weight[i] = weight[i] / x"
      ],
      "metadata": {
        "id": "I-wuXsLR0Cin"
      },
      "execution_count": 62,
      "outputs": []
    },
    {
      "cell_type": "code",
      "source": [
        "# for x, y in val_loader:\n",
        "#     x = x.cuda()\n",
        "#     y = y.cuda()\n",
        "#     model.cuda()\n",
        "\n",
        "#     with torch.no_grad():\n",
        "#         output = model(x)\n",
        "#         print(eddynet_dice(y.long(), output))\n",
        "#         break"
      ],
      "metadata": {
        "id": "YCSABm2bNl6L"
      },
      "execution_count": 63,
      "outputs": []
    },
    {
      "cell_type": "code",
      "source": [
        "# print(count_colors)"
      ],
      "metadata": {
        "id": "MURucyUEZ4c8"
      },
      "execution_count": 64,
      "outputs": []
    },
    {
      "cell_type": "code",
      "source": [
        "import time\n",
        "def train(model, train_dl, valid_dl, loss_fn, optimizer, acc_fn, epochs=1):\n",
        "    start = time.time()\n",
        "    model.cuda()\n",
        "    train_loss, valid_loss = [], []\n",
        "    best_acc = 0.0\n",
        "\n",
        "    for epoch in range(epochs):\n",
        "        print('Epoch {}/{}'.format(epoch, epochs - 1))\n",
        "        print('-' * 10)\n",
        "        for phase in ['train', 'valid']:\n",
        "            if phase == 'train':\n",
        "                model.train(True)  # Set trainind mode = true\n",
        "                dataloader = train_dl\n",
        "            else:\n",
        "                model.train(False)  # Set model to evaluate mode\n",
        "                dataloader = valid_dl\n",
        "            running_loss = 0.0\n",
        "            running_acc = 0.0\n",
        "            step = 0\n",
        "            for x, y in dataloader:\n",
        "                x = x.cuda()\n",
        "                y = y.cuda()\n",
        "                step += 1\n",
        "\n",
        "                if phase == 'train':\n",
        "                    optimizer.zero_grad()\n",
        "                    outputs = model(x)\n",
        "                    # loss = loss_fn(outputs, y)\n",
        "                    loss = dice_loss(y.long(), outputs)\n",
        "\n",
        "                    loss.backward()\n",
        "                    optimizer.step()\n",
        "\n",
        "                else:\n",
        "                    with torch.no_grad():\n",
        "                        outputs = model(x)\n",
        "                        # loss = loss_fn(outputs, y.long())\n",
        "\n",
        "                        loss = dice_loss(y.long(), outputs)\n",
        "                acc = acc_fn(outputs, y)\n",
        "\n",
        "                running_acc  += acc*dataloader.batch_size\n",
        "                running_loss += loss*dataloader.batch_size \n",
        "                if step % 10 == 0:\n",
        "                    print('Current step: {}  Loss: {}  Acc: {}   AllocMem (Mb): {}'.format(step, loss, acc, torch.cuda.memory_allocated()/1024/1024))\n",
        "\n",
        "            epoch_loss = running_loss / len(dataloader.dataset)\n",
        "            epoch_acc = running_acc / len(dataloader.dataset)\n",
        "\n",
        "            print('{} Loss: {:.4f} Acc: {}'.format(phase, epoch_loss, epoch_acc))\n",
        "\n",
        "            train_loss.append(epoch_loss) if phase=='train' else valid_loss.append(epoch_loss)\n",
        "        torch.save({\n",
        "            'epoch': epoch,\n",
        "            'model_state_dict': model.state_dict(),\n",
        "            'optimizer_state_dict': optimizer.state_dict(),\n",
        "            'loss': loss,\n",
        "            }, 'model.pt')\n",
        "    time_elapsed = time.time() - start\n",
        "    print('Training complete in {:.0f}m {:.0f}s'.format(time_elapsed // 60, time_elapsed % 60))    \n",
        "    \n",
        "    return train_loss, valid_loss    \n",
        "\n",
        "def pixel_accuracy(output, mask):\n",
        "    with torch.no_grad():\n",
        "        output = torch.argmax(F.softmax(output, dim=1), dim=1)\n",
        "        correct = torch.eq(output, mask).int()\n",
        "        accuracy = float(correct.sum()) / float(correct.numel())\n",
        "    return accuracy"
      ],
      "metadata": {
        "id": "7cwvehMrHTt2"
      },
      "execution_count": 65,
      "outputs": []
    },
    {
      "cell_type": "code",
      "source": [
        "# criterion = DiceLoss()"
      ],
      "metadata": {
        "id": "emFMNNh11AWj"
      },
      "execution_count": 66,
      "outputs": []
    },
    {
      "cell_type": "code",
      "source": [
        "# !pip install -q segmentation-models-pytorch\n",
        "# import segmentation_models_pytorch as smp\n",
        "\n",
        "# model = smp.Unet('mobilenet_v2', encoder_weights='imagenet', classes=23, activation=None, encoder_depth=5, decoder_channels=[256, 128, 64, 32, 16])\n",
        "# # criterion = FocalLoss(gamma = 2)\n",
        "# criterion = DiceLoss()\n",
        "\n",
        "# # sched = torch.optim.lr_scheduler.OneCycleLR(optimizer, max_lr, epochs=epoch,\n",
        "#                                             # steps_per_epoch=len(train_loader))\n",
        "criterion = nn.CrossEntropyLoss()\n",
        "model = Unet(23)\n",
        "optimizer = torch.optim.Adam(model.parameters())\n"
      ],
      "metadata": {
        "id": "UtdIihaxDdwr"
      },
      "execution_count": 67,
      "outputs": []
    },
    {
      "cell_type": "code",
      "source": [
        "train_loss, valid_loss = train(model, train_loader, val_loader, criterion, optimizer, pixel_accuracy, epochs=50)\n",
        "# fit()"
      ],
      "metadata": {
        "id": "GQROYIJm8cN2"
      },
      "execution_count": null,
      "outputs": []
    },
    {
      "cell_type": "code",
      "source": [
        "all_colors = [0] * 24\n",
        "correct_colors = [0] * 24\n",
        "\n",
        "for x, y in val_loader:\n",
        "    x = x.cuda()\n",
        "    y = y.cuda()\n",
        "    model.cuda()\n",
        "\n",
        "    with torch.no_grad():\n",
        "        output = model(x)\n",
        "        output = torch.argmax(F.softmax(output, dim=1), dim=1)\n",
        "        output += 1\n",
        "        y += 1\n",
        "        correct = torch.eq(output, y).int()\n",
        "        correct = correct.cuda()\n",
        "        output = output * correct\n",
        "        y = y.cpu()\n",
        "        np_y = y.numpy()\n",
        "        unique_y, counts_y = np.unique(np_y, return_counts=True)\n",
        "        \n",
        "        output = output.cpu()\n",
        "        np_output = output.numpy()\n",
        "        unique_output, counts_output = np.unique(np_output, return_counts=True)\n",
        "\n",
        "        for j, i in enumerate(unique_y):\n",
        "            all_colors[i] += counts_y[j]\n",
        "\n",
        "        for j, i in enumerate(unique_output):\n",
        "            correct_colors[i] += counts_output[j]\n",
        "\n",
        "\n",
        "print(all_colors[1:24])\n",
        "print(correct_colors[1:24])\n",
        "\n",
        "class_accuracy = []\n",
        "for i in range(1, 24):\n",
        "    class_accuracy.append(correct_colors[i] / all_colors[i])\n",
        "\n",
        "with open(\"dice_10ep.txt\", \"w\") as output:\n",
        "    output.write(str(class_accuracy))\n",
        "\n",
        "print(class_accuracy)"
      ],
      "metadata": {
        "id": "nm8xq5y-q_91"
      },
      "execution_count": null,
      "outputs": []
    },
    {
      "cell_type": "code",
      "source": [
        "class DroneTestDataset(Dataset):\n",
        "    \n",
        "    def __init__(self, img_path, mask_path, X, transform=None):\n",
        "        self.img_path = img_path\n",
        "        self.mask_path = mask_path\n",
        "        self.X = X\n",
        "        self.transform = transform\n",
        "      \n",
        "    def __len__(self):\n",
        "        return len(self.X)\n",
        "    \n",
        "    def __getitem__(self, idx):\n",
        "        img = cv2.imread(self.img_path + self.X[idx] + '.jpg')\n",
        "        img = cv2.cvtColor(img, cv2.COLOR_BGR2RGB)\n",
        "        mask = cv2.imread(self.mask_path + self.X[idx] + '.png', cv2.IMREAD_GRAYSCALE)\n",
        "        \n",
        "        if self.transform is not None:\n",
        "            aug = self.transform(image=img, mask=mask)\n",
        "            img = Image.fromarray(aug['image'])\n",
        "            mask = aug['mask']\n",
        "        \n",
        "        if self.transform is None:\n",
        "            img = Image.fromarray(img)\n",
        "        \n",
        "        mask = torch.from_numpy(mask).long()\n",
        "        \n",
        "        return img, mask\n",
        "\n",
        "\n",
        "t_test = A.Resize(768, 1152, interpolation=cv2.INTER_NEAREST)\n",
        "test_set = DroneTestDataset(IMAGE_PATH, MASK_PATH, X_test, transform=t_test)"
      ],
      "metadata": {
        "id": "98yFtJPSi29B"
      },
      "execution_count": null,
      "outputs": []
    },
    {
      "cell_type": "code",
      "source": [
        "def predict_image_mask_pixel(model, image, mask, mean=[0.485, 0.456, 0.406], std=[0.229, 0.224, 0.225]):\n",
        "    model.eval()\n",
        "    t = T.Compose([T.ToTensor(), T.Normalize(mean, std)])\n",
        "    image = t(image)\n",
        "    model.to(device); image=image.to(device)\n",
        "    mask = mask.to(device)\n",
        "    with torch.no_grad():\n",
        "        \n",
        "        image = image.unsqueeze(0)\n",
        "        mask = mask.unsqueeze(0)\n",
        "        \n",
        "        output = model(image)\n",
        "        masked = torch.argmax(output, dim=1)\n",
        "        masked = masked.cpu().squeeze(0)\n",
        "    return masked"
      ],
      "metadata": {
        "id": "aOECJbByjS9V"
      },
      "execution_count": null,
      "outputs": []
    },
    {
      "cell_type": "code",
      "source": [
        "image, mask = test_set[0]\n",
        "output = predict_image_mask_pixel(model, image, mask, mean=[0.485, 0.456, 0.406], std=[0.229, 0.224, 0.225])\n",
        "\n",
        "fig, (ax1, ax2, ax3) = plt.subplots(1,3, figsize=(20,10))\n",
        "ax1.imshow(image)\n",
        "ax1.set_title('Picture');\n",
        "\n",
        "ax2.imshow(mask)\n",
        "ax2.set_title('Ground truth')\n",
        "ax2.set_axis_off()\n",
        "\n",
        "ax3.imshow(output)\n",
        "ax3.set_title('output')\n",
        "ax3.set_axis_off()"
      ],
      "metadata": {
        "id": "Bufg5LoJjY5X"
      },
      "execution_count": null,
      "outputs": []
    },
    {
      "cell_type": "code",
      "source": [
        "image, mask = test_set[1]\n",
        "output = predict_image_mask_pixel(model, image, mask, mean=[0.485, 0.456, 0.406], std=[0.229, 0.224, 0.225])\n",
        "\n",
        "fig, (ax1, ax2, ax3) = plt.subplots(1,3, figsize=(20,10))\n",
        "ax1.imshow(image)\n",
        "ax1.set_title('Picture');\n",
        "\n",
        "ax2.imshow(mask)\n",
        "ax2.set_title('Ground truth')\n",
        "ax2.set_axis_off()\n",
        "\n",
        "ax3.imshow(output)\n",
        "ax3.set_title('output')\n",
        "ax3.set_axis_off()"
      ],
      "metadata": {
        "id": "pime27JTEUhh"
      },
      "execution_count": null,
      "outputs": []
    },
    {
      "cell_type": "code",
      "source": [
        "image, mask = test_set[2]\n",
        "output = predict_image_mask_pixel(model, image, mask, mean=[0.485, 0.456, 0.406], std=[0.229, 0.224, 0.225])\n",
        "\n",
        "fig, (ax1, ax2, ax3) = plt.subplots(1,3, figsize=(20,10))\n",
        "ax1.imshow(image)\n",
        "ax1.set_title('Picture');\n",
        "\n",
        "ax2.imshow(mask)\n",
        "ax2.set_title('Ground truth')\n",
        "ax2.set_axis_off()\n",
        "\n",
        "ax3.imshow(output)\n",
        "ax3.set_title('output')\n",
        "ax3.set_axis_off()"
      ],
      "metadata": {
        "id": "XCIv8h-1EVWo"
      },
      "execution_count": null,
      "outputs": []
    }
  ]
}