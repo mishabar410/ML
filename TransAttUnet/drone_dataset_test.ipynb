{
  "nbformat": 4,
  "nbformat_minor": 0,
  "metadata": {
    "colab": {
      "provenance": []
    },
    "kernelspec": {
      "name": "python3",
      "display_name": "Python 3"
    },
    "language_info": {
      "name": "python"
    },
    "gpuClass": "standard"
  },
  "cells": [
    {
      "cell_type": "code",
      "source": [
        "! pip install -q kaggle\n",
        "from google.colab import files\n",
        "files.upload()\n",
        "! mkdir ~/.kaggle\n",
        "! cp kaggle.json ~/.kaggle/\n",
        "! chmod 600 ~/.kaggle/kaggle.json"
      ],
      "metadata": {
        "id": "ft9APKA9ZcEw",
        "outputId": "e655480a-c032-4c18-bb79-ced63cc68e28",
        "colab": {
          "base_uri": "https://localhost:8080/",
          "height": 73
        }
      },
      "execution_count": 1,
      "outputs": [
        {
          "output_type": "display_data",
          "data": {
            "text/plain": [
              "<IPython.core.display.HTML object>"
            ],
            "text/html": [
              "\n",
              "     <input type=\"file\" id=\"files-573e93b9-63e8-4a1c-a85a-0db9b41fe143\" name=\"files[]\" multiple disabled\n",
              "        style=\"border:none\" />\n",
              "     <output id=\"result-573e93b9-63e8-4a1c-a85a-0db9b41fe143\">\n",
              "      Upload widget is only available when the cell has been executed in the\n",
              "      current browser session. Please rerun this cell to enable.\n",
              "      </output>\n",
              "      <script>// Copyright 2017 Google LLC\n",
              "//\n",
              "// Licensed under the Apache License, Version 2.0 (the \"License\");\n",
              "// you may not use this file except in compliance with the License.\n",
              "// You may obtain a copy of the License at\n",
              "//\n",
              "//      http://www.apache.org/licenses/LICENSE-2.0\n",
              "//\n",
              "// Unless required by applicable law or agreed to in writing, software\n",
              "// distributed under the License is distributed on an \"AS IS\" BASIS,\n",
              "// WITHOUT WARRANTIES OR CONDITIONS OF ANY KIND, either express or implied.\n",
              "// See the License for the specific language governing permissions and\n",
              "// limitations under the License.\n",
              "\n",
              "/**\n",
              " * @fileoverview Helpers for google.colab Python module.\n",
              " */\n",
              "(function(scope) {\n",
              "function span(text, styleAttributes = {}) {\n",
              "  const element = document.createElement('span');\n",
              "  element.textContent = text;\n",
              "  for (const key of Object.keys(styleAttributes)) {\n",
              "    element.style[key] = styleAttributes[key];\n",
              "  }\n",
              "  return element;\n",
              "}\n",
              "\n",
              "// Max number of bytes which will be uploaded at a time.\n",
              "const MAX_PAYLOAD_SIZE = 100 * 1024;\n",
              "\n",
              "function _uploadFiles(inputId, outputId) {\n",
              "  const steps = uploadFilesStep(inputId, outputId);\n",
              "  const outputElement = document.getElementById(outputId);\n",
              "  // Cache steps on the outputElement to make it available for the next call\n",
              "  // to uploadFilesContinue from Python.\n",
              "  outputElement.steps = steps;\n",
              "\n",
              "  return _uploadFilesContinue(outputId);\n",
              "}\n",
              "\n",
              "// This is roughly an async generator (not supported in the browser yet),\n",
              "// where there are multiple asynchronous steps and the Python side is going\n",
              "// to poll for completion of each step.\n",
              "// This uses a Promise to block the python side on completion of each step,\n",
              "// then passes the result of the previous step as the input to the next step.\n",
              "function _uploadFilesContinue(outputId) {\n",
              "  const outputElement = document.getElementById(outputId);\n",
              "  const steps = outputElement.steps;\n",
              "\n",
              "  const next = steps.next(outputElement.lastPromiseValue);\n",
              "  return Promise.resolve(next.value.promise).then((value) => {\n",
              "    // Cache the last promise value to make it available to the next\n",
              "    // step of the generator.\n",
              "    outputElement.lastPromiseValue = value;\n",
              "    return next.value.response;\n",
              "  });\n",
              "}\n",
              "\n",
              "/**\n",
              " * Generator function which is called between each async step of the upload\n",
              " * process.\n",
              " * @param {string} inputId Element ID of the input file picker element.\n",
              " * @param {string} outputId Element ID of the output display.\n",
              " * @return {!Iterable<!Object>} Iterable of next steps.\n",
              " */\n",
              "function* uploadFilesStep(inputId, outputId) {\n",
              "  const inputElement = document.getElementById(inputId);\n",
              "  inputElement.disabled = false;\n",
              "\n",
              "  const outputElement = document.getElementById(outputId);\n",
              "  outputElement.innerHTML = '';\n",
              "\n",
              "  const pickedPromise = new Promise((resolve) => {\n",
              "    inputElement.addEventListener('change', (e) => {\n",
              "      resolve(e.target.files);\n",
              "    });\n",
              "  });\n",
              "\n",
              "  const cancel = document.createElement('button');\n",
              "  inputElement.parentElement.appendChild(cancel);\n",
              "  cancel.textContent = 'Cancel upload';\n",
              "  const cancelPromise = new Promise((resolve) => {\n",
              "    cancel.onclick = () => {\n",
              "      resolve(null);\n",
              "    };\n",
              "  });\n",
              "\n",
              "  // Wait for the user to pick the files.\n",
              "  const files = yield {\n",
              "    promise: Promise.race([pickedPromise, cancelPromise]),\n",
              "    response: {\n",
              "      action: 'starting',\n",
              "    }\n",
              "  };\n",
              "\n",
              "  cancel.remove();\n",
              "\n",
              "  // Disable the input element since further picks are not allowed.\n",
              "  inputElement.disabled = true;\n",
              "\n",
              "  if (!files) {\n",
              "    return {\n",
              "      response: {\n",
              "        action: 'complete',\n",
              "      }\n",
              "    };\n",
              "  }\n",
              "\n",
              "  for (const file of files) {\n",
              "    const li = document.createElement('li');\n",
              "    li.append(span(file.name, {fontWeight: 'bold'}));\n",
              "    li.append(span(\n",
              "        `(${file.type || 'n/a'}) - ${file.size} bytes, ` +\n",
              "        `last modified: ${\n",
              "            file.lastModifiedDate ? file.lastModifiedDate.toLocaleDateString() :\n",
              "                                    'n/a'} - `));\n",
              "    const percent = span('0% done');\n",
              "    li.appendChild(percent);\n",
              "\n",
              "    outputElement.appendChild(li);\n",
              "\n",
              "    const fileDataPromise = new Promise((resolve) => {\n",
              "      const reader = new FileReader();\n",
              "      reader.onload = (e) => {\n",
              "        resolve(e.target.result);\n",
              "      };\n",
              "      reader.readAsArrayBuffer(file);\n",
              "    });\n",
              "    // Wait for the data to be ready.\n",
              "    let fileData = yield {\n",
              "      promise: fileDataPromise,\n",
              "      response: {\n",
              "        action: 'continue',\n",
              "      }\n",
              "    };\n",
              "\n",
              "    // Use a chunked sending to avoid message size limits. See b/62115660.\n",
              "    let position = 0;\n",
              "    do {\n",
              "      const length = Math.min(fileData.byteLength - position, MAX_PAYLOAD_SIZE);\n",
              "      const chunk = new Uint8Array(fileData, position, length);\n",
              "      position += length;\n",
              "\n",
              "      const base64 = btoa(String.fromCharCode.apply(null, chunk));\n",
              "      yield {\n",
              "        response: {\n",
              "          action: 'append',\n",
              "          file: file.name,\n",
              "          data: base64,\n",
              "        },\n",
              "      };\n",
              "\n",
              "      let percentDone = fileData.byteLength === 0 ?\n",
              "          100 :\n",
              "          Math.round((position / fileData.byteLength) * 100);\n",
              "      percent.textContent = `${percentDone}% done`;\n",
              "\n",
              "    } while (position < fileData.byteLength);\n",
              "  }\n",
              "\n",
              "  // All done.\n",
              "  yield {\n",
              "    response: {\n",
              "      action: 'complete',\n",
              "    }\n",
              "  };\n",
              "}\n",
              "\n",
              "scope.google = scope.google || {};\n",
              "scope.google.colab = scope.google.colab || {};\n",
              "scope.google.colab._files = {\n",
              "  _uploadFiles,\n",
              "  _uploadFilesContinue,\n",
              "};\n",
              "})(self);\n",
              "</script> "
            ]
          },
          "metadata": {}
        },
        {
          "output_type": "stream",
          "name": "stdout",
          "text": [
            "Saving kaggle.json to kaggle.json\n"
          ]
        }
      ]
    },
    {
      "cell_type": "code",
      "source": [
        "!kaggle datasets download bulentsiyah/semantic-drone-dataset -p /content/sample_data/ --unzip"
      ],
      "metadata": {
        "id": "gih56CsBfm3s",
        "outputId": "94040a79-5bf5-4b11-c870-33d9cbd9e227",
        "colab": {
          "base_uri": "https://localhost:8080/"
        }
      },
      "execution_count": 2,
      "outputs": [
        {
          "output_type": "stream",
          "name": "stdout",
          "text": [
            "Downloading semantic-drone-dataset.zip to /content/sample_data\n",
            "100% 3.88G/3.89G [00:40<00:00, 128MB/s]\n",
            "100% 3.89G/3.89G [00:40<00:00, 102MB/s]\n"
          ]
        }
      ]
    },
    {
      "cell_type": "code",
      "source": [
        "# !pip3 install torch==1.8.1+cu111 torchvision==0.9.1+cu111 torchaudio==0.8.1 -f https://download.pytorch.org/whl/torch_stable.html\n",
        "\n",
        "import numpy as np \n",
        "import pandas as pd\n",
        "import matplotlib.pyplot as plt\n",
        "\n",
        "from sklearn.model_selection import train_test_split\n",
        "\n",
        "import torch\n",
        "import torch.nn as nn\n",
        "from torch.utils.data import Dataset, DataLoader\n",
        "from torchvision import transforms as T\n",
        "import torchvision\n",
        "import torch.nn.functional as F\n",
        "from torch.autograd import Variable\n",
        "\n",
        "from PIL import Image\n",
        "import cv2\n",
        "import albumentations as A\n",
        "\n",
        "import time\n",
        "import os\n",
        "from tqdm.notebook import tqdm\n",
        "\n",
        "# !pip install -q torchsummary\n",
        "\n",
        "from torchsummary import summary\n",
        "import statistics \n",
        "device = torch.device(\"cuda\" if torch.cuda.is_available() else \"cpu\")"
      ],
      "metadata": {
        "id": "bZVOdGB9iT2m"
      },
      "execution_count": 3,
      "outputs": []
    },
    {
      "cell_type": "code",
      "source": [
        "IMAGE_PATH = '../content/sample_data/dataset/semantic_drone_dataset/original_images/'\n",
        "MASK_PATH = '../content/sample_data/dataset/semantic_drone_dataset/label_images_semantic/'"
      ],
      "metadata": {
        "id": "dMkSr0Pwieaj"
      },
      "execution_count": 4,
      "outputs": []
    },
    {
      "cell_type": "code",
      "source": [
        "n_classes = 23 \n",
        "\n",
        "def create_df():\n",
        "    name = []\n",
        "    for dirname, _, filenames in os.walk(IMAGE_PATH):\n",
        "        for filename in filenames:\n",
        "            name.append(filename.split('.')[0])\n",
        "    \n",
        "    return pd.DataFrame({'id': name}, index = np.arange(0, len(name)))\n",
        "\n",
        "df = create_df()\n",
        "print('Total Images: ', len(df))"
      ],
      "metadata": {
        "id": "7ebGCZkfk8Dv",
        "outputId": "13c0ea46-81c6-4bb3-8195-4278fb0bee1f",
        "colab": {
          "base_uri": "https://localhost:8080/"
        }
      },
      "execution_count": 5,
      "outputs": [
        {
          "output_type": "stream",
          "name": "stdout",
          "text": [
            "Total Images:  400\n"
          ]
        }
      ]
    },
    {
      "cell_type": "code",
      "source": [
        "X_trainval, X_test = train_test_split(df['id'].values, test_size=0.1, random_state=19)\n",
        "X_train, X_val = train_test_split(X_trainval, test_size=0.15, random_state=19)\n",
        "\n",
        "print('Train Size   : ', len(X_train))\n",
        "print('Val Size     : ', len(X_val))\n",
        "print('Test Size    : ', len(X_test))"
      ],
      "metadata": {
        "id": "RMJMMPorlg8i",
        "outputId": "9079a687-5146-404c-d476-e4e4a028c7c8",
        "colab": {
          "base_uri": "https://localhost:8080/"
        }
      },
      "execution_count": 6,
      "outputs": [
        {
          "output_type": "stream",
          "name": "stdout",
          "text": [
            "Train Size   :  306\n",
            "Val Size     :  54\n",
            "Test Size    :  40\n"
          ]
        }
      ]
    },
    {
      "cell_type": "code",
      "source": [
        "img = Image.open(IMAGE_PATH + df['id'][100] + '.jpg')\n",
        "mask = Image.open(MASK_PATH + df['id'][100] + '.png')\n",
        "print('Image Size', np.asarray(img).shape)\n",
        "print('Mask Size', np.asarray(mask).shape)\n",
        "\n",
        "\n",
        "plt.imshow(img)\n",
        "plt.imshow(mask, alpha=0.6)\n",
        "plt.title('Picture with Mask Appplied')\n",
        "plt.show()"
      ],
      "metadata": {
        "id": "mgX-2lJ4nvP6",
        "outputId": "fa20b3e6-db5a-4161-adea-c40ab59f50c6",
        "colab": {
          "base_uri": "https://localhost:8080/",
          "height": 316
        }
      },
      "execution_count": 7,
      "outputs": [
        {
          "output_type": "stream",
          "name": "stdout",
          "text": [
            "Image Size (4000, 6000, 3)\n",
            "Mask Size (4000, 6000)\n"
          ]
        },
        {
          "output_type": "display_data",
          "data": {
            "text/plain": [
              "<Figure size 432x288 with 1 Axes>"
            ],
            "image/png": "[encoded data removed]"
          },
          "metadata": {
            "needs_background": "light"
          }
        }
      ]
    },
    {
      "cell_type": "code",
      "source": [
        "class DroneDataset(Dataset):\n",
        "\n",
        "  def __init__(self, img_path, mask_path, X, mean, std, transform=None, patch=False):\n",
        "    self.img_path = img_path\n",
        "    self.mask_path = mask_path\n",
        "    self.X = X\n",
        "    self.transform = transform\n",
        "    self.patches = patch\n",
        "    self.mean = mean\n",
        "    self.std = std\n",
        "  \n",
        "  def __len__(self):\n",
        "    return len(self.X)\n",
        "\n",
        "  def __getitem__(self, idx):\n",
        "        img = cv2.imread(self.img_path + self.X[idx] + '.jpg')\n",
        "        img = cv2.cvtColor(img, cv2.COLOR_BGR2RGB)\n",
        "        mask = cv2.imread(self.mask_path + self.X[idx] + '.png', cv2.IMREAD_GRAYSCALE)\n",
        "        \n",
        "        if self.transform is not None:\n",
        "            aug = self.transform(image=img, mask=mask)\n",
        "            img = Image.fromarray(aug['image'])\n",
        "            mask = aug['mask']\n",
        "        \n",
        "        if self.transform is None:\n",
        "            img = Image.fromarray(img)\n",
        "        \n",
        "        t = T.Compose([T.ToTensor(), T.Normalize(self.mean, self.std)])\n",
        "        img = t(img)\n",
        "        mask = torch.from_numpy(mask).long()\n",
        "        \n",
        "        return img, mask"
      ],
      "metadata": {
        "id": "fkI3oOm9opr-"
      },
      "execution_count": 8,
      "outputs": []
    },
    {
      "cell_type": "code",
      "source": [
        "mean=[0.485, 0.456, 0.406]\n",
        "std=[0.229, 0.224, 0.225]\n",
        "\n",
        "t_train = A.Compose([A.Resize(400, 600, interpolation=cv2.INTER_NEAREST), A.HorizontalFlip(), A.VerticalFlip(), \n",
        "                     A.GridDistortion(p=0.2), A.RandomBrightnessContrast((0,0.5),(0,0.5)),\n",
        "                     A.GaussNoise()])\n",
        "\n",
        "t_val = A.Compose([A.Resize(400, 600, interpolation=cv2.INTER_NEAREST), A.HorizontalFlip(),\n",
        "                   A.GridDistortion(p=0.2)])\n",
        "\n",
        "#datasets\n",
        "train_set = DroneDataset(IMAGE_PATH, MASK_PATH, X_train, mean, std, t_train, patch=False)\n",
        "val_set = DroneDataset(IMAGE_PATH, MASK_PATH, X_val, mean, std, t_val, patch=False)\n",
        "\n",
        "#dataloader\n",
        "batch_size = 3\n",
        "\n",
        "train_loader = DataLoader(train_set, batch_size=batch_size, shuffle=True)\n",
        "val_loader = DataLoader(val_set, batch_size=batch_size, shuffle=True)               "
      ],
      "metadata": {
        "id": "LMw3X87f1ziv"
      },
      "execution_count": 9,
      "outputs": []
    },
    {
      "cell_type": "code",
      "source": [
        "class DoubleConv(nn.Module):\n",
        "    def __init__(self, in_channels, out_channels):\n",
        "        super().__init__()\n",
        "        self.conv1 = nn.Conv2d(in_channels, out_channels, kernel_size=3, padding = 1)\n",
        "        self.bnorm1 = nn.BatchNorm2d(out_channels)\n",
        "        self.relu = nn.ReLU()\n",
        "        self.conv2 = nn.Conv2d(out_channels, out_channels, kernel_size=3, padding = 1)\n",
        "        self.bnorm2 = nn.BatchNorm2d(out_channels)\n",
        "    \n",
        "    def forward(self, x):\n",
        "        x1 = self.relu(self.bnorm1(self.conv1(x)))\n",
        "        x2 = self.relu(self.bnorm2(self.conv2(x1)))\n",
        "        return x2\n",
        "\n",
        "class Down(nn.Module):\n",
        "    def __init__(self, in_channels, out_channels):\n",
        "        super().__init__()\n",
        "        self.conv = DoubleConv(in_channels, out_channels)\n",
        "        self.mpool = nn.MaxPool2d(kernel_size = 3, stride = 2)\n",
        "\n",
        "    def forward(self, x):\n",
        "        return self.conv(self.mpool(x))\n",
        "\n",
        "class Up(nn.Module):\n",
        "    def __init__(self, in_channels, out_channels):\n",
        "        super().__init__()\n",
        "        self.conv = DoubleConv(in_channels, out_channels)\n",
        "        self.upsample = nn.Upsample(scale_factor = 2, mode = 'bilinear')\n",
        "\n",
        "    def forward(self, x1, x2):\n",
        "        x1 = self.upsample(x1)\n",
        "\n",
        "        diffY = x2.size()[2] - x1.size()[2]\n",
        "        diffX = x2.size()[3] - x1.size()[3]\n",
        "\n",
        "        x1 = F.pad(x1, [diffX // 2, diffX - diffX // 2,\n",
        "                        diffY // 2, diffY - diffY // 2])\n",
        "\n",
        "        x1 = torch.cat([x2, x1], 1)\n",
        "        return self.conv(x1)"
      ],
      "metadata": {
        "id": "-RXf_uJw113D"
      },
      "execution_count": 10,
      "outputs": []
    },
    {
      "cell_type": "code",
      "source": [
        "class GSA(nn.Module):\n",
        "    def __init__(self, in_c):\n",
        "        super().__init__()\n",
        "        self.M_conv = nn.Conv2d(in_c, in_c // 8, kernel_size=1)\n",
        "        self.N_conv = nn.Conv2d(in_c, in_c // 8, kernel_size=1)\n",
        "        self.W_conv = nn.Conv2d(in_channels = in_c, out_channels = in_c, kernel_size=1)\n",
        "        self.gamma = nn.Parameter(torch.zeros(1))\n",
        "    \n",
        "    def forward(self, x):\n",
        "        batch_size, channels, height, width = x.size()\n",
        "        M = self.M_conv(x).view(batch_size, -1, height * width).permute(0, 2, 1)\n",
        "        N = self.N_conv(x).view(batch_size, -1, height * width)\n",
        "        W = self.W_conv(x).view(batch_size, -1, height * width)\n",
        "        B = F.softmax(torch.bmm(M, N), dim = -1).permute(0, 2, 1)\n",
        "        result = torch.bmm(W, B).view(batch_size, channels, height, width)\n",
        "        \n",
        "        # return result + x\n",
        "        return self.gamma * result + x"
      ],
      "metadata": {
        "id": "IoTHpMYsZ7cx"
      },
      "execution_count": 11,
      "outputs": []
    },
    {
      "cell_type": "code",
      "source": [
        "class Position_Encoding(nn.Module):\n",
        "    def __init__(self, num_pos_feats=256, len_embedding=128):\n",
        "        super().__init__()\n",
        "        self.row_embed = nn.Embedding(len_embedding, num_pos_feats)\n",
        "        self.col_embed = nn.Embedding(len_embedding, num_pos_feats)\n",
        "        self.reset_parameters()\n",
        "\n",
        "    def reset_parameters(self):\n",
        "        nn.init.uniform_(self.row_embed.weight)\n",
        "        nn.init.uniform_(self.col_embed.weight)\n",
        "\n",
        "    def forward(self, tensor_list):\n",
        "        x = tensor_list\n",
        "\n",
        "        print(x.shape[-2:])\n",
        "        h, w = x.shape[-2:]\n",
        "        \n",
        "\n",
        "        i = torch.arange(w, device = x.device)\n",
        "        j = torch.arange(h, device = x.device)\n",
        "        \n",
        "        x_emb = self.col_embed(i)\n",
        "        y_emb = self.col_embed(j)\n",
        "\n",
        "\n",
        "        pos = torch.cat([\n",
        "            x_emb.unsqueeze(0).repeat(h, 1, 1),\n",
        "            y_emb.unsqueeze(1).repeat(1, w, 1),\n",
        "        ], dim = -1).permute(2, 0, 1).unsqueeze(0).repeat(x.shape[0], 1, 1, 1)\n",
        "\n",
        "        return pos\n",
        "\n",
        "class Scalar_dot_product_attention(nn.Module):\n",
        "    def __init__(self, coef):\n",
        "        super().__init__()\n",
        "        self.d_k = coef ** 0.5\n",
        "        self.dropout = nn.Dropout(p = 0.1)\n",
        "\n",
        "    def forward(self, x):\n",
        "        batch_size, channels, height, width = x.size()\n",
        "        q = x.view(batch_size, channels, -1)\n",
        "        k = x.view(batch_size, channels, -1).permute(0, 2, 1)\n",
        "        v = x.view(batch_size, channels, -1)\n",
        "        attention = torch.matmul(q / self.d_k, k)\n",
        "\n",
        "        attention = F.softmax(attention, dim = -1)\n",
        "        attention = self.dropout(attention)\n",
        "        return torch.matmul(attention, v).view(batch_size, channels, height, width)"
      ],
      "metadata": {
        "id": "lv5UIJ_waCu2"
      },
      "execution_count": 62,
      "outputs": []
    },
    {
      "cell_type": "code",
      "source": [
        "class Unet(nn.Module):\n",
        "    def __init__(self, number_of_classes):\n",
        "        super().__init__()\n",
        "        self.first_conv = DoubleConv(3, 64)\n",
        "\n",
        "        self.down1 = Down(64, 128)\n",
        "        self.down2 = Down(128, 256)\n",
        "        self.down3 = Down(256, 512 // 2)\n",
        "        # self.down4 = Down(512, 1024 // 2)\n",
        "\n",
        "        # self.up1 = Up(1024, 512 // 2)\n",
        "        # self.up1 = Up(512, 256 // 2)\n",
        "        self.up2 = Up(256 * 2, 128)\n",
        "        self.up3 = Up(256 * 2, 64)\n",
        "        self.up4 = Up(256, 64)\n",
        "\n",
        "        self.out = nn.Conv2d(64 * 2, number_of_classes, kernel_size = 1)\n",
        "\n",
        "        self.pos = Position_Encoding(128)\n",
        "        self.gsa = GSA(256)\n",
        "        self.prod = Scalar_dot_product_attention(256)\n",
        "\n",
        "    def forward(self, x):\n",
        "\n",
        "        x1 = self.first_conv(x) # 64\n",
        "        x2 = self.down1(x1)     # 128\n",
        "        x3 = self.down2(x2)     # 256\n",
        "        x4 = self.down3(x3)     # 256\n",
        "\n",
        "        # x5 = self.down4(x4)\n",
        "\n",
        "        x4_gsa = self.gsa(x4.clone())\n",
        "        x4 = x4 + self.pos(x4)\n",
        "        x4_prod = self.prod(x4.cpu())\n",
        "        x4 = x4_gsa.cuda() + x4_prod.cuda()\n",
        "\n",
        "        # x6 = self.up1(x5, x4)\n",
        "        # x5_scale = F.interpolate(x5, size = x6.shape[2:], mode = 'bilinear', align_corners=True)\n",
        "        # x6_cat = torch.cat((x6, x5_scale), 1)\n",
        "\n",
        "        x5 = self.up2(x4, x3) # 128\n",
        "        x4_scale = F.interpolate(x4, size = x5.shape[2:], mode = 'bilinear', align_corners=True) # 256\n",
        "        x5_cat = torch.cat((x4_scale, x5), 1) # 384\n",
        "\n",
        "                \n",
        "        x6 = self.up3(x5_cat, x2) # 64\n",
        "        x5_scale = F.interpolate(x5, size = x6.shape[2:], mode = 'bilinear', align_corners=True) # 128\n",
        "        x6_cat = torch.cat((x5_scale, x6), 1) # 196\n",
        "        \n",
        "        x7 = self.up4(x6_cat, x1) # 64\n",
        "        x6_scale = F.interpolate(x6, size = x7.shape[2:], mode = 'bilinear', align_corners=True) # 64\n",
        "        x7_cat = torch.cat((x6_scale, x7), 1) # 128\n",
        "\n",
        "        return self.out(x7_cat)"
      ],
      "metadata": {
        "id": "XeNNdq5AaIeq"
      },
      "execution_count": 63,
      "outputs": []
    },
    {
      "cell_type": "code",
      "source": [
        "# model = UNET(3, 23)\n",
        "# optimizer = torch.optim.Adam(model.parameters())\n",
        "\n",
        "# epochs = 15"
      ],
      "metadata": {
        "id": "6e8XR_XxUe_d"
      },
      "execution_count": 64,
      "outputs": []
    },
    {
      "cell_type": "markdown",
      "source": [
        "# smth"
      ],
      "metadata": {
        "id": "xvXf2mO26UVu"
      }
    },
    {
      "cell_type": "code",
      "source": [
        "# print(error)"
      ],
      "metadata": {
        "id": "8oPm3VNIgxNc"
      },
      "execution_count": 65,
      "outputs": []
    },
    {
      "cell_type": "code",
      "source": [
        "import torch\n",
        "torch.cuda.empty_cache()\n",
        "print(torch.cuda.memory_allocated()/1024/1024)"
      ],
      "metadata": {
        "id": "5RzTIdUTdYZF",
        "colab": {
          "base_uri": "https://localhost:8080/"
        },
        "outputId": "d0480705-0d92-44c7-9003-2e01713e9ca0"
      },
      "execution_count": 66,
      "outputs": [
        {
          "output_type": "stream",
          "name": "stdout",
          "text": [
            "0.0\n"
          ]
        }
      ]
    },
    {
      "cell_type": "code",
      "source": [
        "# checkpoint = torch.load('dice_7ep.pt')\n",
        "# model.load_state_dict(checkpoint['model_state_dict'])\n",
        "# optimizer.load_state_dict(checkpoint['optimizer_state_dict'])\n",
        "# epoch = checkpoint['epoch']\n",
        "# loss = checkpoint['loss']\n",
        "\n",
        "# model = model.cuda()"
      ],
      "metadata": {
        "id": "dsdlo65N5M3J"
      },
      "execution_count": 67,
      "outputs": []
    },
    {
      "cell_type": "code",
      "source": [
        "# weights = []\n",
        "# for i in class_accuracy:\n",
        "#     if (i < 0.05):\n",
        "#         weights.append(5.0)\n",
        "#     elif (i > 0.5):\n",
        "#         weights.append(0.7)\n",
        "#     else:\n",
        "#         weights.append(1.0)\n",
        "# print(weights)\n",
        "# class_weights = torch.FloatTensor(weights).cuda()"
      ],
      "metadata": {
        "id": "Z8yhMt4QlsAg"
      },
      "execution_count": 68,
      "outputs": []
    },
    {
      "cell_type": "code",
      "source": [
        "# len(weights)"
      ],
      "metadata": {
        "id": "yf9ng9HBn2D8"
      },
      "execution_count": 69,
      "outputs": []
    },
    {
      "cell_type": "code",
      "source": [
        "# criterion = nn.CrossEntropyLoss(weight=class_weights)"
      ],
      "metadata": {
        "id": "Oi4B5Z62vN79"
      },
      "execution_count": 70,
      "outputs": []
    },
    {
      "cell_type": "code",
      "source": [
        "# print(output.shape)\n",
        "# print(y.shape)"
      ],
      "metadata": {
        "id": "IaxTcfNxIcWw"
      },
      "execution_count": 71,
      "outputs": []
    },
    {
      "cell_type": "code",
      "source": [
        "# model.cuda()"
      ],
      "metadata": {
        "id": "-a1UzUcWz3lg"
      },
      "execution_count": 72,
      "outputs": []
    },
    {
      "cell_type": "code",
      "source": [
        "class FocalLoss(nn.Module):\n",
        "    def __init__(self, gamma=0, alpha=None, size_average=True):\n",
        "        super(FocalLoss, self).__init__()\n",
        "        self.gamma = gamma\n",
        "        # self.alpha = alpha\n",
        "        # if isinstance(alpha,(float, int, long)): self.alpha = torch.Tensor([alpha,1-alpha])\n",
        "        # if isinstance(alpha, list): self.alpha = torch.Tensor(alpha)\n",
        "        self.size_average = size_average\n",
        "\n",
        "    def forward(self, input, target):\n",
        "        input = input.view(input.size(0), input.size(1), -1)  # N,C,H,W => N,C,H*W\n",
        "        input = input.transpose(1, 2)    # N,C,H*W => N,H*W,C\n",
        "        input = input.contiguous().view(-1, input.size(2))   # N,H*W,C => N*H*W,C\n",
        "        target = target.view(-1, 1)\n",
        "\n",
        "        logpt = F.log_softmax(input, -1)\n",
        "        logpt = logpt.gather(1, target)\n",
        "        logpt = logpt.view(-1)\n",
        "        pt = logpt.data.exp()\n",
        "        pt.requiers_grad = True\n",
        "        # if self.alpha is not None:\n",
        "        #     if self.alpha.type() != input.data.type():\n",
        "        #         self.alpha = self.alpha.type_as(input.data)\n",
        "        #     at = self.alpha.gather(0,target.data.view(-1))\n",
        "        #     logpt = logpt * Variable(at)\n",
        "\n",
        "        loss = -1 * (1 - pt) ** self.gamma * logpt\n",
        "        if self.size_average: \n",
        "            return loss.mean()\n",
        "        else: \n",
        "            return loss.sum()"
      ],
      "metadata": {
        "id": "6W0gxeSjjuh7"
      },
      "execution_count": 73,
      "outputs": []
    },
    {
      "cell_type": "code",
      "source": [
        "# criterion = FocalLoss(gamma = 2)"
      ],
      "metadata": {
        "id": "_p6XMBUKgGeZ"
      },
      "execution_count": 74,
      "outputs": []
    },
    {
      "cell_type": "code",
      "source": [
        "# class TverskyLoss(nn.Module):\n",
        "#     def __init__(self, alpha=0.5, beta=0.5, eps=1e-7):\n",
        "#         super(TverskyLoss, self).__init__()\n",
        "#         self.alpha = alpha\n",
        "#         self.beta = beta\n",
        "#         self.eps = eps\n",
        "\n",
        "#     def forward(self, true, logits):\n",
        "#         true = true.long()\n",
        "#         true = logits.long()\n",
        "#         num_classes = logits.shape[1]\n",
        "#         true_1_hot = torch.eye(num_classes)[true.squeeze(1)]\n",
        "#         true_1_hot = true_1_hot.permute(0, 3, 1, 2).float()\n",
        "#         probas = F.softmax(logits, dim=1)\n",
        "\n",
        "#         true_1_hot = true_1_hot.type(logits.type())\n",
        "#         dims = (0,) + tuple(range(2, true.ndimension()))\n",
        "#         intersection = torch.sum(probas * true_1_hot, dims)\n",
        "#         fps = torch.sum(probas * (1 - true_1_hot), dims)\n",
        "#         fns = torch.sum((1 - probas) * true_1_hot, dims)\n",
        "#         num = intersection\n",
        "#         denom = intersection + (self.alpha * fps) + (self.beta * fns)\n",
        "#         tversky_loss = (num / (denom + self.eps)).mean()\n",
        "\n",
        "#         return (1 - tversky_loss)"
      ],
      "metadata": {
        "id": "3o-5MF_oxfHu"
      },
      "execution_count": 75,
      "outputs": []
    },
    {
      "cell_type": "code",
      "source": [
        "# criterion = TverskyLoss()"
      ],
      "metadata": {
        "id": "2Dm6tzK79Y4n"
      },
      "execution_count": 76,
      "outputs": []
    },
    {
      "cell_type": "code",
      "source": [
        "smooth = 1\n",
        "\n",
        "all_colors = [0] * 24\n",
        "correct_colors = [0] * 24\n",
        "guessed_colors = [0] * 24\n",
        "loss = []\n",
        "\n",
        "\n",
        "class DiceLoss(nn.Module):\n",
        "    def __init__(self):\n",
        "        super(DiceLoss, self).__init__()\n",
        "        \n",
        "    def forward(self, output, y):\n",
        "        smooth = 1\n",
        "        all_colors = [0] * 24\n",
        "        correct_colors = [0] * 24\n",
        "        guessed_colors = [0] * 24\n",
        "        loss = []\n",
        "\n",
        "        output = torch.argmax(F.softmax(output, dim=1), dim=1)\n",
        "        output += 1\n",
        "        y += 1\n",
        "        correct = torch.eq(output, y).int()\n",
        "        correct = correct.cuda()\n",
        "\n",
        "        # incorrect = torch.ne(output, y).int()\n",
        "        # incorrect = correct.cuda()\n",
        "\n",
        "        output = output.cpu()\n",
        "        np_output = output.numpy()\n",
        "        unique_output, counts_output = np.unique(np_output, return_counts=True)\n",
        "        output = output.cuda()\n",
        "\n",
        "        output = output * correct\n",
        "        y = y.cpu()\n",
        "        np_y = y.numpy()\n",
        "        unique_y, counts_y = np.unique(np_y, return_counts=True)\n",
        "            \n",
        "        for j, i in enumerate(unique_y):\n",
        "            guessed_colors[i] += counts_y[j]\n",
        "\n",
        "        output = output.cpu()\n",
        "        np_output = output.numpy()\n",
        "        unique_output, counts_output = np.unique(np_output, return_counts=True)\n",
        "\n",
        "        for j, i in enumerate(unique_y):\n",
        "            all_colors[i] += counts_y[j]\n",
        "\n",
        "        for j, i in enumerate(unique_output):\n",
        "            correct_colors[i] += counts_output[j]\n",
        "\n",
        "        for i in range(23):\n",
        "            if (count_colors[i] > 0.04):\n",
        "                if (count_colors[i] > 0.1):\n",
        "                    loss.append(2 * correct_colors[i] * 0.01 / (all_colors[i] + guessed_colors[i] + smooth))\n",
        "                else:\n",
        "                    loss.append(2 * correct_colors[i] * 0.1 / (all_colors[i] + guessed_colors[i] + smooth))\n",
        "            else:\n",
        "                loss.append(2 * correct_colors[i] / (all_colors[i] + guessed_colors[i] + smooth))\n",
        "\n",
        "        return statistics.mean(loss)\n",
        "    # for j, i in enumerate(unique_output):\n",
        "    #     incorrect_colors[i] += counts_output[j]"
      ],
      "metadata": {
        "id": "viz7-WRX1A-E"
      },
      "execution_count": 77,
      "outputs": []
    },
    {
      "cell_type": "code",
      "source": [
        "def dice_loss(true, logits, eps=1e-7):\n",
        "    num_classes = logits.shape[1]\n",
        "    \n",
        "    # true_1_hot = torch.eye(num_classes)[true.squeeze(1)]\n",
        "    true_1_hot = torch.eye(num_classes)\n",
        "    # print(true_1_hot)\n",
        "    true_1_hot = true_1_hot.cuda()\n",
        "    true_1_hot = true_1_hot[true.squeeze(1)]\n",
        "    # print(true_1_hot.shape)\n",
        "\n",
        "    true_1_hot = true_1_hot.permute(0, 3, 1, 2).float()\n",
        "    # print(true_1_hot.shape)\n",
        "    probas = F.softmax(logits, dim=1)\n",
        "\n",
        "    true_1_hot = true_1_hot.type(logits.type())\n",
        "    dims = (0,) + tuple(range(2, true.ndimension()))\n",
        "    intersection = torch.sum(probas * true_1_hot, dims)\n",
        "    cardinality = torch.sum(probas + true_1_hot, dims)\n",
        "    # print(intersection)\n",
        "    # print(cardinality)\n",
        "\n",
        "    dice_loss = (2. * intersection / (cardinality + eps)).mean()\n",
        "\n",
        "    return (1 - dice_loss)"
      ],
      "metadata": {
        "id": "BOxqzOAG7Ei1"
      },
      "execution_count": 78,
      "outputs": []
    },
    {
      "cell_type": "code",
      "source": [
        "# weights = torch.eye(23)\n",
        "# lst = []\n",
        "# for i in range(23):\n",
        "#     if count_colors[i] > 0.04:\n",
        "#         if count_colors[i] > 0.1:\n",
        "#             weights[i][i] = 0.1\n",
        "#             lst.append(0.1)\n",
        "#         else:\n",
        "#             weights[i][i] = 0.5\n",
        "#             lst.append(0.5)\n",
        "\n",
        "#     else:\n",
        "#         weights[i][i] = 1.0\n",
        "#         lst.append(1.0)\n",
        "\n",
        "# x = statistics.mean(lst)\n",
        "# for i in range(23):\n",
        "#     weights[i][i] /= x"
      ],
      "metadata": {
        "id": "3SvKS-C0hjcI"
      },
      "execution_count": 79,
      "outputs": []
    },
    {
      "cell_type": "code",
      "source": [
        "# weight = []\n",
        "# for i in range(23):\n",
        "#     if count_colors[i] > 0.04:\n",
        "#         if count_colors[i] > 0.1:\n",
        "#             weight.append(0.05)\n",
        "#         else:\n",
        "#             weight.append(0.5)\n",
        "#     else:\n",
        "#         weight.append(1.0)\n",
        "\n",
        "# x = statistics.mean(weight)\n",
        "\n",
        "# for i in range(23):\n",
        "#     weight[i] = weight[i] / x"
      ],
      "metadata": {
        "id": "I-wuXsLR0Cin"
      },
      "execution_count": 80,
      "outputs": []
    },
    {
      "cell_type": "code",
      "source": [
        "# for x, y in val_loader:\n",
        "#     x = x.cuda()\n",
        "#     y = y.cuda()\n",
        "#     model.cuda()\n",
        "\n",
        "#     with torch.no_grad():\n",
        "#         output = model(x)\n",
        "#         print(eddynet_dice(y.long(), output))\n",
        "#         break"
      ],
      "metadata": {
        "id": "YCSABm2bNl6L"
      },
      "execution_count": 81,
      "outputs": []
    },
    {
      "cell_type": "code",
      "source": [
        "# print(count_colors)"
      ],
      "metadata": {
        "id": "MURucyUEZ4c8"
      },
      "execution_count": 82,
      "outputs": []
    },
    {
      "cell_type": "markdown",
      "source": [
        "# train"
      ],
      "metadata": {
        "id": "D6WaVVMk6cGK"
      }
    },
    {
      "cell_type": "code",
      "source": [
        "import time\n",
        "def train(model, train_dl, valid_dl, loss_fn, optimizer, acc_fn, epochs=1):\n",
        "    start = time.time()\n",
        "    # model = model.cuda()\n",
        "    train_loss, valid_loss = [], []\n",
        "    best_acc = 0.0\n",
        "\n",
        "    for epoch in range(epochs):\n",
        "        print('Epoch {}/{}'.format(epoch, epochs - 1))\n",
        "        print('-' * 10)\n",
        "        for phase in ['train', 'valid']:\n",
        "            if phase == 'train':\n",
        "                model.train(True)  # Set trainind mode = true\n",
        "                dataloader = train_dl\n",
        "            else:\n",
        "                model.train(False)  # Set model to evaluate mode\n",
        "                dataloader = valid_dl\n",
        "            running_loss = 0.0\n",
        "            running_acc = 0.0\n",
        "            step = 0\n",
        "            for x, y in dataloader:\n",
        "                # x = x.cuda()\n",
        "                # y = y.cuda()\n",
        "                step += 1\n",
        "\n",
        "                if phase == 'train':\n",
        "                    optimizer.zero_grad()\n",
        "                    outputs = model(x)\n",
        "                    loss = loss_fn(outputs, y)\n",
        "                    # loss = dice_loss(y.long(), outputs)\n",
        "\n",
        "                    loss.backward()\n",
        "                    optimizer.step()\n",
        "\n",
        "                else:\n",
        "                    with torch.no_grad():\n",
        "                        outputs = model(x)\n",
        "                        loss = loss_fn(outputs, y.long())\n",
        "\n",
        "                        # loss = dice_loss(y.long(), outputs)\n",
        "                acc = acc_fn(outputs, y)\n",
        "\n",
        "                running_acc  += acc*dataloader.batch_size\n",
        "                running_loss += loss*dataloader.batch_size \n",
        "                if step % 10 == 0:\n",
        "                    print('Current step: {}  Loss: {}  Acc: {}   AllocMem (Mb): {}'.format(step, loss, acc, torch.cuda.memory_allocated()/1024/1024))\n",
        "\n",
        "            epoch_loss = running_loss / len(dataloader.dataset)\n",
        "            epoch_acc = running_acc / len(dataloader.dataset)\n",
        "\n",
        "            print('{} Loss: {:.4f} Acc: {}'.format(phase, epoch_loss, epoch_acc))\n",
        "\n",
        "            train_loss.append(epoch_loss) if phase=='train' else valid_loss.append(epoch_loss)\n",
        "        torch.save({\n",
        "            'epoch': epoch,\n",
        "            'model_state_dict': model.state_dict(),\n",
        "            'optimizer_state_dict': optimizer.state_dict(),\n",
        "            'loss': loss,\n",
        "            }, 'model.pt')\n",
        "    time_elapsed = time.time() - start\n",
        "    print('Training complete in {:.0f}m {:.0f}s'.format(time_elapsed // 60, time_elapsed % 60))    \n",
        "    \n",
        "    return train_loss, valid_loss    \n",
        "\n",
        "def pixel_accuracy(output, mask):\n",
        "    with torch.no_grad():\n",
        "        output = torch.argmax(F.softmax(output, dim=1), dim=1)\n",
        "        correct = torch.eq(output, mask).int()\n",
        "        accuracy = float(correct.sum()) / float(correct.numel())\n",
        "    return accuracy"
      ],
      "metadata": {
        "id": "7cwvehMrHTt2"
      },
      "execution_count": 83,
      "outputs": []
    },
    {
      "cell_type": "code",
      "source": [
        "# !pip install -q segmentation-models-pytorch\n",
        "# import segmentation_models_pytorch as smp\n",
        "\n",
        "# model = smp.Unet('mobilenet_v2', encoder_weights='imagenet', classes=23, activation=None, encoder_depth=5, decoder_channels=[256, 128, 64, 32, 16])\n",
        "# # criterion = FocalLoss(gamma = 2)\n",
        "# criterion = DiceLoss()\n",
        "\n",
        "# # sched = torch.optim.lr_scheduler.OneCycleLR(optimizer, max_lr, epochs=epoch,\n",
        "#                                             # steps_per_epoch=len(train_loader))\n",
        "criterion = nn.CrossEntropyLoss()\n",
        "model = Unet(23)\n",
        "optimizer = torch.optim.Adam(model.parameters())\n"
      ],
      "metadata": {
        "id": "UtdIihaxDdwr"
      },
      "execution_count": 84,
      "outputs": []
    },
    {
      "cell_type": "code",
      "source": [
        "# q = torch.randn(1, 256, 864).cuda()\n",
        "# k = torch.randn(1, 864, 256).cuda()\n",
        "# d_k = 256 ** 0.5\n",
        "# attention = torch.matmul(q / d_k, k)"
      ],
      "metadata": {
        "id": "0WV1x69Ift1G"
      },
      "execution_count": 85,
      "outputs": []
    },
    {
      "cell_type": "code",
      "source": [
        "torch.autograd.set_detect_anomaly(True)\n",
        "train_loss, valid_loss = train(model, train_loader, val_loader, criterion, optimizer, pixel_accuracy, epochs=50)\n",
        "# fit()"
      ],
      "metadata": {
        "id": "GQROYIJm8cN2",
        "colab": {
          "base_uri": "https://localhost:8080/",
          "height": 397
        },
        "outputId": "0cab0262-c2ad-49ab-9a5a-cab25e72ed7e"
      },
      "execution_count": 86,
      "outputs": [
        {
          "output_type": "stream",
          "name": "stdout",
          "text": [
            "Epoch 0/49\n",
            "----------\n",
            "torch.Size([49, 74])\n"
          ]
        },
        {
          "output_type": "error",
          "ename": "RuntimeError",
          "evalue": "ignored",
          "traceback": [
            "\u001b[0;31m---------------------------------------------------------------------------\u001b[0m",
            "\u001b[0;31mRuntimeError\u001b[0m                              Traceback (most recent call last)",
            "\u001b[0;32m<ipython-input-86-4ec23ec1a8f3>\u001b[0m in \u001b[0;36m<module>\u001b[0;34m\u001b[0m\n\u001b[1;32m      1\u001b[0m \u001b[0mtorch\u001b[0m\u001b[0;34m.\u001b[0m\u001b[0mautograd\u001b[0m\u001b[0;34m.\u001b[0m\u001b[0mset_detect_anomaly\u001b[0m\u001b[0;34m(\u001b[0m\u001b[0;32mTrue\u001b[0m\u001b[0;34m)\u001b[0m\u001b[0;34m\u001b[0m\u001b[0;34m\u001b[0m\u001b[0m\n\u001b[0;32m----> 2\u001b[0;31m \u001b[0mtrain_loss\u001b[0m\u001b[0;34m,\u001b[0m \u001b[0mvalid_loss\u001b[0m \u001b[0;34m=\u001b[0m \u001b[0mtrain\u001b[0m\u001b[0;34m(\u001b[0m\u001b[0mmodel\u001b[0m\u001b[0;34m,\u001b[0m \u001b[0mtrain_loader\u001b[0m\u001b[0;34m,\u001b[0m \u001b[0mval_loader\u001b[0m\u001b[0;34m,\u001b[0m \u001b[0mcriterion\u001b[0m\u001b[0;34m,\u001b[0m \u001b[0moptimizer\u001b[0m\u001b[0;34m,\u001b[0m \u001b[0mpixel_accuracy\u001b[0m\u001b[0;34m,\u001b[0m \u001b[0mepochs\u001b[0m\u001b[0;34m=\u001b[0m\u001b[0;36m50\u001b[0m\u001b[0;34m)\u001b[0m\u001b[0;34m\u001b[0m\u001b[0;34m\u001b[0m\u001b[0m\n\u001b[0m\u001b[1;32m      3\u001b[0m \u001b[0;31m# fit()\u001b[0m\u001b[0;34m\u001b[0m\u001b[0;34m\u001b[0m\u001b[0m\n",
            "\u001b[0;32m<ipython-input-83-323124cdfec4>\u001b[0m in \u001b[0;36mtrain\u001b[0;34m(model, train_dl, valid_dl, loss_fn, optimizer, acc_fn, epochs)\u001b[0m\n\u001b[1;32m     26\u001b[0m                 \u001b[0;32mif\u001b[0m \u001b[0mphase\u001b[0m \u001b[0;34m==\u001b[0m \u001b[0;34m'train'\u001b[0m\u001b[0;34m:\u001b[0m\u001b[0;34m\u001b[0m\u001b[0;34m\u001b[0m\u001b[0m\n\u001b[1;32m     27\u001b[0m                     \u001b[0moptimizer\u001b[0m\u001b[0;34m.\u001b[0m\u001b[0mzero_grad\u001b[0m\u001b[0;34m(\u001b[0m\u001b[0;34m)\u001b[0m\u001b[0;34m\u001b[0m\u001b[0;34m\u001b[0m\u001b[0m\n\u001b[0;32m---> 28\u001b[0;31m                     \u001b[0moutputs\u001b[0m \u001b[0;34m=\u001b[0m \u001b[0mmodel\u001b[0m\u001b[0;34m(\u001b[0m\u001b[0mx\u001b[0m\u001b[0;34m)\u001b[0m\u001b[0;34m\u001b[0m\u001b[0;34m\u001b[0m\u001b[0m\n\u001b[0m\u001b[1;32m     29\u001b[0m                     \u001b[0mloss\u001b[0m \u001b[0;34m=\u001b[0m \u001b[0mloss_fn\u001b[0m\u001b[0;34m(\u001b[0m\u001b[0moutputs\u001b[0m\u001b[0;34m,\u001b[0m \u001b[0my\u001b[0m\u001b[0;34m)\u001b[0m\u001b[0;34m\u001b[0m\u001b[0;34m\u001b[0m\u001b[0m\n\u001b[1;32m     30\u001b[0m                     \u001b[0;31m# loss = dice_loss(y.long(), outputs)\u001b[0m\u001b[0;34m\u001b[0m\u001b[0;34m\u001b[0m\u001b[0m\n",
            "\u001b[0;32m/usr/local/lib/python3.9/dist-packages/torch/nn/modules/module.py\u001b[0m in \u001b[0;36m_call_impl\u001b[0;34m(self, *input, **kwargs)\u001b[0m\n\u001b[1;32m   1192\u001b[0m         if not (self._backward_hooks or self._forward_hooks or self._forward_pre_hooks or _global_backward_hooks\n\u001b[1;32m   1193\u001b[0m                 or _global_forward_hooks or _global_forward_pre_hooks):\n\u001b[0;32m-> 1194\u001b[0;31m             \u001b[0;32mreturn\u001b[0m \u001b[0mforward_call\u001b[0m\u001b[0;34m(\u001b[0m\u001b[0;34m*\u001b[0m\u001b[0minput\u001b[0m\u001b[0;34m,\u001b[0m \u001b[0;34m**\u001b[0m\u001b[0mkwargs\u001b[0m\u001b[0;34m)\u001b[0m\u001b[0;34m\u001b[0m\u001b[0;34m\u001b[0m\u001b[0m\n\u001b[0m\u001b[1;32m   1195\u001b[0m         \u001b[0;31m# Do not call functions when jit is used\u001b[0m\u001b[0;34m\u001b[0m\u001b[0;34m\u001b[0m\u001b[0m\n\u001b[1;32m   1196\u001b[0m         \u001b[0mfull_backward_hooks\u001b[0m\u001b[0;34m,\u001b[0m \u001b[0mnon_full_backward_hooks\u001b[0m \u001b[0;34m=\u001b[0m \u001b[0;34m[\u001b[0m\u001b[0;34m]\u001b[0m\u001b[0;34m,\u001b[0m \u001b[0;34m[\u001b[0m\u001b[0;34m]\u001b[0m\u001b[0;34m\u001b[0m\u001b[0;34m\u001b[0m\u001b[0m\n",
            "\u001b[0;32m<ipython-input-63-ca25279865f8>\u001b[0m in \u001b[0;36mforward\u001b[0;34m(self, x)\u001b[0m\n\u001b[1;32m     33\u001b[0m         \u001b[0mx4\u001b[0m \u001b[0;34m=\u001b[0m \u001b[0mx4\u001b[0m \u001b[0;34m+\u001b[0m \u001b[0mself\u001b[0m\u001b[0;34m.\u001b[0m\u001b[0mpos\u001b[0m\u001b[0;34m(\u001b[0m\u001b[0mx4\u001b[0m\u001b[0;34m)\u001b[0m\u001b[0;34m\u001b[0m\u001b[0;34m\u001b[0m\u001b[0m\n\u001b[1;32m     34\u001b[0m         \u001b[0mx4_prod\u001b[0m \u001b[0;34m=\u001b[0m \u001b[0mself\u001b[0m\u001b[0;34m.\u001b[0m\u001b[0mprod\u001b[0m\u001b[0;34m(\u001b[0m\u001b[0mx4\u001b[0m\u001b[0;34m.\u001b[0m\u001b[0mcpu\u001b[0m\u001b[0;34m(\u001b[0m\u001b[0;34m)\u001b[0m\u001b[0;34m)\u001b[0m\u001b[0;34m\u001b[0m\u001b[0;34m\u001b[0m\u001b[0m\n\u001b[0;32m---> 35\u001b[0;31m         \u001b[0mx4\u001b[0m \u001b[0;34m=\u001b[0m \u001b[0mx4_gsa\u001b[0m\u001b[0;34m.\u001b[0m\u001b[0mcuda\u001b[0m\u001b[0;34m(\u001b[0m\u001b[0;34m)\u001b[0m \u001b[0;34m+\u001b[0m \u001b[0mx4_prod\u001b[0m\u001b[0;34m.\u001b[0m\u001b[0mcuda\u001b[0m\u001b[0;34m(\u001b[0m\u001b[0;34m)\u001b[0m\u001b[0;34m\u001b[0m\u001b[0;34m\u001b[0m\u001b[0m\n\u001b[0m\u001b[1;32m     36\u001b[0m \u001b[0;34m\u001b[0m\u001b[0m\n\u001b[1;32m     37\u001b[0m         \u001b[0;31m# x6 = self.up1(x5, x4)\u001b[0m\u001b[0;34m\u001b[0m\u001b[0;34m\u001b[0m\u001b[0m\n",
            "\u001b[0;32m/usr/local/lib/python3.9/dist-packages/torch/cuda/__init__.py\u001b[0m in \u001b[0;36m_lazy_init\u001b[0;34m()\u001b[0m\n\u001b[1;32m    227\u001b[0m         \u001b[0;32mif\u001b[0m \u001b[0;34m'CUDA_MODULE_LOADING'\u001b[0m \u001b[0;32mnot\u001b[0m \u001b[0;32min\u001b[0m \u001b[0mos\u001b[0m\u001b[0;34m.\u001b[0m\u001b[0menviron\u001b[0m\u001b[0;34m:\u001b[0m\u001b[0;34m\u001b[0m\u001b[0;34m\u001b[0m\u001b[0m\n\u001b[1;32m    228\u001b[0m             \u001b[0mos\u001b[0m\u001b[0;34m.\u001b[0m\u001b[0menviron\u001b[0m\u001b[0;34m[\u001b[0m\u001b[0;34m'CUDA_MODULE_LOADING'\u001b[0m\u001b[0;34m]\u001b[0m \u001b[0;34m=\u001b[0m \u001b[0;34m'LAZY'\u001b[0m\u001b[0;34m\u001b[0m\u001b[0;34m\u001b[0m\u001b[0m\n\u001b[0;32m--> 229\u001b[0;31m         \u001b[0mtorch\u001b[0m\u001b[0;34m.\u001b[0m\u001b[0m_C\u001b[0m\u001b[0;34m.\u001b[0m\u001b[0m_cuda_init\u001b[0m\u001b[0;34m(\u001b[0m\u001b[0;34m)\u001b[0m\u001b[0;34m\u001b[0m\u001b[0;34m\u001b[0m\u001b[0m\n\u001b[0m\u001b[1;32m    230\u001b[0m         \u001b[0;31m# Some of the queued calls may reentrantly call _lazy_init();\u001b[0m\u001b[0;34m\u001b[0m\u001b[0;34m\u001b[0m\u001b[0m\n\u001b[1;32m    231\u001b[0m         \u001b[0;31m# we need to just return without initializing in that case.\u001b[0m\u001b[0;34m\u001b[0m\u001b[0;34m\u001b[0m\u001b[0m\n",
            "\u001b[0;31mRuntimeError\u001b[0m: No CUDA GPUs are available"
          ]
        }
      ]
    },
    {
      "cell_type": "code",
      "source": [
        "!nvidia-smi"
      ],
      "metadata": {
        "id": "xYfIpD5LZtyE"
      },
      "execution_count": null,
      "outputs": []
    },
    {
      "cell_type": "code",
      "source": [
        "all_colors = [0] * 24\n",
        "correct_colors = [0] * 24\n",
        "\n",
        "for x, y in val_loader:\n",
        "    x = x.cuda()\n",
        "    y = y.cuda()\n",
        "    model.cuda()\n",
        "\n",
        "    with torch.no_grad():\n",
        "        output = model(x)\n",
        "        output = torch.argmax(F.softmax(output, dim=1), dim=1)\n",
        "        output += 1\n",
        "        y += 1\n",
        "        correct = torch.eq(output, y).int()\n",
        "        correct = correct.cuda()\n",
        "        output = output * correct\n",
        "        y = y.cpu()\n",
        "        np_y = y.numpy()\n",
        "        unique_y, counts_y = np.unique(np_y, return_counts=True)\n",
        "        \n",
        "        output = output.cpu()\n",
        "        np_output = output.numpy()\n",
        "        unique_output, counts_output = np.unique(np_output, return_counts=True)\n",
        "\n",
        "        for j, i in enumerate(unique_y):\n",
        "            all_colors[i] += counts_y[j]\n",
        "\n",
        "        for j, i in enumerate(unique_output):\n",
        "            correct_colors[i] += counts_output[j]\n",
        "\n",
        "\n",
        "print(all_colors[1:24])\n",
        "print(correct_colors[1:24])\n",
        "\n",
        "class_accuracy = []\n",
        "for i in range(1, 24):\n",
        "    class_accuracy.append(correct_colors[i] / all_colors[i])\n",
        "\n",
        "with open(\"dice_10ep.txt\", \"w\") as output:\n",
        "    output.write(str(class_accuracy))\n",
        "\n",
        "print(class_accuracy)"
      ],
      "metadata": {
        "id": "nm8xq5y-q_91"
      },
      "execution_count": null,
      "outputs": []
    },
    {
      "cell_type": "code",
      "source": [
        "class DroneTestDataset(Dataset):\n",
        "    \n",
        "    def __init__(self, img_path, mask_path, X, transform=None):\n",
        "        self.img_path = img_path\n",
        "        self.mask_path = mask_path\n",
        "        self.X = X\n",
        "        self.transform = transform\n",
        "      \n",
        "    def __len__(self):\n",
        "        return len(self.X)\n",
        "    \n",
        "    def __getitem__(self, idx):\n",
        "        img = cv2.imread(self.img_path + self.X[idx] + '.jpg')\n",
        "        img = cv2.cvtColor(img, cv2.COLOR_BGR2RGB)\n",
        "        mask = cv2.imread(self.mask_path + self.X[idx] + '.png', cv2.IMREAD_GRAYSCALE)\n",
        "        \n",
        "        if self.transform is not None:\n",
        "            aug = self.transform(image=img, mask=mask)\n",
        "            img = Image.fromarray(aug['image'])\n",
        "            mask = aug['mask']\n",
        "        \n",
        "        if self.transform is None:\n",
        "            img = Image.fromarray(img)\n",
        "        \n",
        "        mask = torch.from_numpy(mask).long()\n",
        "        \n",
        "        return img, mask\n",
        "\n",
        "704, 1056\n",
        "t_test = A.Resize(768, 1152, interpolation=cv2.INTER_NEAREST)\n",
        "test_set = DroneTestDataset(IMAGE_PATH, MASK_PATH, X_test, transform=t_test)"
      ],
      "metadata": {
        "id": "98yFtJPSi29B"
      },
      "execution_count": null,
      "outputs": []
    },
    {
      "cell_type": "code",
      "source": [
        "def predict_image_mask_pixel(model, image, mask, mean=[0.485, 0.456, 0.406], std=[0.229, 0.224, 0.225]):\n",
        "    model.eval()\n",
        "    t = T.Compose([T.ToTensor(), T.Normalize(mean, std)])\n",
        "    image = t(image)\n",
        "    model.to(device); image=image.to(device)\n",
        "    mask = mask.to(device)\n",
        "    with torch.no_grad():\n",
        "        \n",
        "        image = image.unsqueeze(0)\n",
        "        mask = mask.unsqueeze(0)\n",
        "        \n",
        "        output = model(image)\n",
        "        masked = torch.argmax(output, dim=1)\n",
        "        masked = masked.cpu().squeeze(0)\n",
        "    return masked"
      ],
      "metadata": {
        "id": "aOECJbByjS9V"
      },
      "execution_count": null,
      "outputs": []
    },
    {
      "cell_type": "code",
      "source": [
        "image, mask = test_set[0]\n",
        "output = predict_image_mask_pixel(model, image, mask, mean=[0.485, 0.456, 0.406], std=[0.229, 0.224, 0.225])\n",
        "\n",
        "fig, (ax1, ax2, ax3) = plt.subplots(1,3, figsize=(20,10))\n",
        "ax1.imshow(image)\n",
        "ax1.set_title('Picture');\n",
        "\n",
        "ax2.imshow(mask)\n",
        "ax2.set_title('Ground truth')\n",
        "ax2.set_axis_off()\n",
        "\n",
        "ax3.imshow(output)\n",
        "ax3.set_title('output')\n",
        "ax3.set_axis_off()"
      ],
      "metadata": {
        "id": "Bufg5LoJjY5X"
      },
      "execution_count": null,
      "outputs": []
    },
    {
      "cell_type": "code",
      "source": [
        "image, mask = test_set[1]\n",
        "output = predict_image_mask_pixel(model, image, mask, mean=[0.485, 0.456, 0.406], std=[0.229, 0.224, 0.225])\n",
        "\n",
        "fig, (ax1, ax2, ax3) = plt.subplots(1,3, figsize=(20,10))\n",
        "ax1.imshow(image)\n",
        "ax1.set_title('Picture');\n",
        "\n",
        "ax2.imshow(mask)\n",
        "ax2.set_title('Ground truth')\n",
        "ax2.set_axis_off()\n",
        "\n",
        "ax3.imshow(output)\n",
        "ax3.set_title('output')\n",
        "ax3.set_axis_off()"
      ],
      "metadata": {
        "id": "pime27JTEUhh"
      },
      "execution_count": null,
      "outputs": []
    },
    {
      "cell_type": "code",
      "source": [
        "image, mask = test_set[2]\n",
        "output = predict_image_mask_pixel(model, image, mask, mean=[0.485, 0.456, 0.406], std=[0.229, 0.224, 0.225])\n",
        "\n",
        "fig, (ax1, ax2, ax3) = plt.subplots(1,3, figsize=(20,10))\n",
        "ax1.imshow(image)\n",
        "ax1.set_title('Picture');\n",
        "\n",
        "ax2.imshow(mask)\n",
        "ax2.set_title('Ground truth')\n",
        "ax2.set_axis_off()\n",
        "\n",
        "ax3.imshow(output)\n",
        "ax3.set_title('output')\n",
        "ax3.set_axis_off()"
      ],
      "metadata": {
        "id": "XCIv8h-1EVWo"
      },
      "execution_count": null,
      "outputs": []
    }
  ]
}