{
  "nbformat": 4,
  "nbformat_minor": 0,
  "metadata": {
    "colab": {
      "provenance": [],
      "authorship_tag": "ABX9TyNarXNaeDYhtuZTAC5pxWiB",
      "include_colab_link": true
    },
    "kernelspec": {
      "name": "python3",
      "display_name": "Python 3"
    },
    "language_info": {
      "name": "python"
    }
  },
  "cells": [
    {
      "cell_type": "markdown",
      "metadata": {
        "id": "view-in-github",
        "colab_type": "text"
      },
      "source": [
        "<a href=\"https://colab.research.google.com/github/mishabar410/ML-2022/blob/main/TransAttUnet/Model.ipynb\" target=\"_parent\"><img src=\"https://colab.research.google.com/assets/colab-badge.svg\" alt=\"Open In Colab\"/></a>"
      ]
    },
    {
      "cell_type": "code",
      "execution_count": null,
      "metadata": {
        "id": "e_6B5lFAyYBV"
      },
      "outputs": [],
      "source": [
        "from torch import nn\n",
        "improt torch.functional as F"
      ]
    },
    {
      "cell_type": "code",
      "source": [
        "class DoubleConv(nn.Module):\n",
        "    def __init__(self, in, out):\n",
        "        super().__init__()\n",
        "\n",
        "        self.conv1 = nn.Conv2d(in, out, kernel_size=3)\n",
        "        self.bnorm1 = nn.BatchNorm2d(out)\n",
        "        self.relu = nn.ReLU()\n",
        "        self.conv2 = nn.Conv2d(out, out, kernel_size=3)\n",
        "        self.bnorm2 = nn.BatchNorm2d(out)\n",
        "    \n",
        "    def forward(self, x)\n",
        "        x1 = self.relu(self.bnorm1(self.conv1(x)))\n",
        "        x2 = self.relu(self.bnorm2(self.conv2(x)))\n",
        "        return x2\n",
        "\n",
        "class Down(nn.Module):\n",
        "    def __init__(self, in, out):\n",
        "        self.conv = DoubleConv(in, out)\n",
        "        self.mpool = self.MaxPool2d(kernel_size = 3, stride = 2)\n",
        "\n",
        "    def forward(self, x):\n",
        "        return self.conv(self.mpool(x))\n",
        "\n",
        "class Up(nn.Module):\n",
        "    def __init__(self, in, out):\n",
        "        self.conv = DoubleConv(in, out)\n",
        "        self.upsample = nn.Upsample(scale_factor = 2, mode = 'bilinear')\n",
        "\n",
        "    def forward(self, x1, x2):\n",
        "        x1 = self.upsaple(x1)\n",
        "        x1 = torch.cat([x1, x2], 1)\n",
        "        return self.conv(x1)"
      ],
      "metadata": {
        "id": "yNNF_-4zy00C"
      },
      "execution_count": null,
      "outputs": []
    },
    {
      "cell_type": "code",
      "source": [
        "class GSA(nn.Module):\n",
        "    def __init__(self):\n",
        "        self.K_conv = nn.Conv2d(in, in // 8)\n",
        "        self.Q_conv = nn.Conv2d(in, in // 8)\n",
        "        self.W_conv = nn.Conv2d(in, in)\n",
        "        self.lambda = torch.parameter(torch.zeros(1))\n",
        "    \n",
        "    def forward(x):\n",
        "        batch_size, channels, height, width = x.size()\n",
        "        M = self.M_conv(x).view(batch_size, -1, height * width)\n",
        "        N = self.N_conv(x).view(batch_size, -1, height * width).permute(0, 2, 1)\n",
        "        W = self.W_conv(x).view(batch_size, -1, height * width)\n",
        "        B = F.softmax(torch.matmul(M, N)).permute(0, 2, 1).permute(0, 2, 1)\n",
        "        result = torch.matmul(W, B).view(batch_size, channels, height, width)\n",
        "        \n",
        "        return self.lambda * result + x"
      ],
      "metadata": {
        "id": "xM9PdMQx-Ave"
      },
      "execution_count": null,
      "outputs": []
    }
  ]
}