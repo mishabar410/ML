{
  "nbformat": 4,
  "nbformat_minor": 0,
  "metadata": {
    "colab": {
      "provenance": [],
      "authorship_tag": "ABX9TyM8jjpT/JPGWctfsHywINaP",
      "include_colab_link": true
    },
    "kernelspec": {
      "name": "python3",
      "display_name": "Python 3"
    },
    "language_info": {
      "name": "python"
    }
  },
  "cells": [
    {
      "cell_type": "markdown",
      "metadata": {
        "id": "view-in-github",
        "colab_type": "text"
      },
      "source": [
        "<a href=\"https://colab.research.google.com/github/mishabar410/ML-2022/blob/main/TransAttUnet/Model.ipynb\" target=\"_parent\"><img src=\"https://colab.research.google.com/assets/colab-badge.svg\" alt=\"Open In Colab\"/></a>"
      ]
    },
    {
      "cell_type": "code",
      "execution_count": null,
      "metadata": {
        "id": "e_6B5lFAyYBV"
      },
      "outputs": [],
      "source": [
        "from torch import nn\n",
        "improt torch.functional as F"
      ]
    },
    {
      "cell_type": "code",
      "source": [
        "class DoubleConv(nn.Module):\n",
        "    def __init__(self, in, out):\n",
        "        super().__init__()\n",
        "        self.conv1 = nn.Conv2d(in, out, kernel_size=3)\n",
        "        self.bnorm1 = nn.BatchNorm2d(out)\n",
        "        self.relu = nn.ReLU()\n",
        "        self.conv2 = nn.Conv2d(out, out, kernel_size=3)\n",
        "        self.bnorm2 = nn.BatchNorm2d(out)\n",
        "    \n",
        "    def forward(self, x)\n",
        "        x1 = self.relu(self.bnorm1(self.conv1(x)))\n",
        "        x2 = self.relu(self.bnorm2(self.conv2(x)))\n",
        "        return x2\n",
        "\n",
        "class Down(nn.Module):\n",
        "    def __init__(self, in, out):\n",
        "        super().__init__()\n",
        "        self.conv = DoubleConv(in, out)\n",
        "        self.mpool = self.MaxPool2d(kernel_size = 3, stride = 2)\n",
        "\n",
        "    def forward(self, x):\n",
        "        return self.conv(self.mpool(x))\n",
        "\n",
        "class Up(nn.Module):\n",
        "    def __init__(self, in, out):\n",
        "        self.conv = DoubleConv(in, out)\n",
        "        self.upsample = nn.Upsample(scale_factor = 2, mode = 'bilinear')\n",
        "\n",
        "    def forward(self, x1, x2):\n",
        "        x1 = self.upsaple(x1)\n",
        "        x1 = torch.cat([x1, x2], 1)\n",
        "        return self.conv(x1)"
      ],
      "metadata": {
        "id": "yNNF_-4zy00C"
      },
      "execution_count": null,
      "outputs": []
    },
    {
      "cell_type": "code",
      "source": [
        "class GSA(nn.Module):\n",
        "    def __init__(self):\n",
        "        super().__init__()\n",
        "        self.K_conv = nn.Conv2d(in, in // 8)\n",
        "        self.Q_conv = nn.Conv2d(in, in // 8)\n",
        "        self.W_conv = nn.Conv2d(in, in)\n",
        "        self.lambda = torch.parameter(torch.zeros(1))\n",
        "    \n",
        "    def forward(x):\n",
        "        batch_size, channels, height, width = x.size()\n",
        "        M = self.M_conv(x).view(batch_size, -1, height * width)\n",
        "        N = self.N_conv(x).view(batch_size, -1, height * width).permute(0, 2, 1)\n",
        "        W = self.W_conv(x).view(batch_size, -1, height * width)\n",
        "        B = F.softmax(torch.matmul(M, N)).permute(0, 2, 1).permute(0, 2, 1)\n",
        "        result = torch.matmul(W, B).view(batch_size, channels, height, width)\n",
        "        \n",
        "        return self.lambda * result + x"
      ],
      "metadata": {
        "id": "xM9PdMQx-Ave"
      },
      "execution_count": null,
      "outputs": []
    },
    {
      "cell_type": "code",
      "source": [
        "class Position_Encoding(nn.Module):\n",
        "    def __init__(self, num_pos_feats=256, len_embedding=32):\n",
        "        super().__init__()\n",
        "        self.row_embed = nn.Embeding(len_embedding, num_pos_feats)\n",
        "        self.col_embed = nn.Embedding(len_embedding, num_pos_feats)\n",
        "        self.reset_parameters()\n",
        "\n",
        "    def reset_parameters(self):\n",
        "        nn.init.uniform_(self.row_embed.weight)\n",
        "        nn.init.uniform(self.col_embed.weingt)\n",
        "\n",
        "    def forward(self, tensor_list):\n",
        "        x = tensor_list\n",
        "        h, w = x.shape[-2:]\n",
        "        i = torch.arange(w, device = x.device)\n",
        "        j = torch.arange(h, device = x.device)\n",
        "\n",
        "        x_emb = self.col_embed(i)\n",
        "        y_emb = self.col_embed(j)\n",
        "\n",
        "        pos = torch.cat([\n",
        "            x_emb.unsqueeze(0).repeat(h, 1, 1),\n",
        "            y_emb.unsqueeze(1).repeat(1, w, 1),\n",
        "        ], dim = -1).permute(2, 0, 1).unsqueeze(0).repeat(x.shape[0], 1, 1, 1)\n",
        "\n",
        "        return pos\n",
        "\n",
        "class Scalar_dot_product_attention(nn.Module):\n",
        "    def __init__(self, coef):\n",
        "        super().__init__()\n",
        "        self.d_k = coef ** 0.5\n",
        "        self.dropout = nn.Dropout(p = 0.1)\n",
        "\n",
        "    def forward(self, x):\n",
        "        batch_size, channels, height, width = x.size()\n",
        "        q = x.view(batch_size, channels, -1)\n",
        "        k = x.view(batch_size, channels, -1).permute(0, 2, 1)\n",
        "        v = x.view(batch_size, channels, -1)\n",
        "        attention = F.softmax(torch.matmul(q / self.d_k, k), -1)\n",
        "        attention = self.dropout(attention)\n",
        "        return torch.matmul(attention, v).view(batch_size, channels, height, width)"
      ],
      "metadata": {
        "id": "41R8ZOfMEnHm"
      },
      "execution_count": null,
      "outputs": []
    },
    {
      "cell_type": "code",
      "source": [
        "class Unet(nn.Module):\n",
        "    def __init__(self):\n",
        "        super().__init__()\n",
        "\n",
        "    def forward(self, x):\n",
        "        "
      ],
      "metadata": {
        "id": "j-BR8T22eokV"
      },
      "execution_count": null,
      "outputs": []
    }
  ]
}