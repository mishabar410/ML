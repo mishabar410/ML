{
  "nbformat": 4,
  "nbformat_minor": 0,
  "metadata": {
    "colab": {
      "provenance": []
    },
    "kernelspec": {
      "name": "python3",
      "display_name": "Python 3"
    },
    "language_info": {
      "name": "python"
    },
    "accelerator": "GPU",
    "gpuClass": "standard"
  },
  "cells": [
    {
      "cell_type": "code",
      "source": [
        "! pip install -q kaggle\n",
        "from google.colab import files\n",
        "# files.upload()\n",
        "! mkdir ~/.kaggle\n",
        "! cp kaggle.json ~/.kaggle/\n",
        "! chmod 600 ~/.kaggle/kaggle.json"
      ],
      "metadata": {
        "id": "ft9APKA9ZcEw",
        "outputId": "62bcc616-bba8-42c1-a6e8-80555d5812ea",
        "colab": {
          "base_uri": "https://localhost:8080/"
        }
      },
      "execution_count": 1,
      "outputs": [
        {
          "output_type": "stream",
          "name": "stdout",
          "text": [
            "mkdir: cannot create directory ‘/root/.kaggle’: File exists\n"
          ]
        }
      ]
    },
    {
      "cell_type": "code",
      "source": [
        "from google.colab import files\n",
        "# files.upload()"
      ],
      "metadata": {
        "id": "DxFLgT9dV1Ud"
      },
      "execution_count": 2,
      "outputs": []
    },
    {
      "cell_type": "code",
      "source": [
        "my_file = open(\"count_colors.txt\", \"r\")\n",
        "count_colors = my_file.read()\n",
        "count_colors = count_colors.split(\", \")\n",
        "for i in range(23):\n",
        "    count_colors[i] = float(count_colors[i])\n",
        "\n",
        "print(count_colors)"
      ],
      "metadata": {
        "id": "WUfOJKztXdkW",
        "outputId": "10ce5ae0-6f1f-4fd1-b2d4-fda92246a03e",
        "colab": {
          "base_uri": "https://localhost:8080/"
        }
      },
      "execution_count": 3,
      "outputs": [
        {
          "output_type": "stream",
          "name": "stdout",
          "text": [
            "[0.0024193874813757, 0.3871593847271174, 0.03272240899272358, 0.18459427862628064, 0.07275418318799627, 0.024021267712778408, 0.007342901075145393, 0.006501435963073246, 0.071088467078033, 0.07442635678869804, 0.02695574667969805, 0.0056416929432470874, 0.0002914926265214534, 0.009737487220410432, 0.0005435941199539963, 0.010817066259182736, 0.00011945258905903959, 0.008996880289076145, 0.0018377913141553682, 0.021172934046064476, 0.012597698450075622, 0.0023059791739813464, 0.035952112655352544]\n"
          ]
        }
      ]
    },
    {
      "cell_type": "code",
      "source": [
        "# !kaggle datasets download bulentsiyah/semantic-drone-dataset -p /content/sample_data/ --unzip"
      ],
      "metadata": {
        "id": "gih56CsBfm3s"
      },
      "execution_count": 4,
      "outputs": []
    },
    {
      "cell_type": "code",
      "source": [
        "import numpy as np \n",
        "import pandas as pd\n",
        "import matplotlib.pyplot as plt\n",
        "\n",
        "from sklearn.model_selection import train_test_split\n",
        "\n",
        "import torch\n",
        "import torch.nn as nn\n",
        "from torch.utils.data import Dataset, DataLoader\n",
        "from torchvision import transforms as T\n",
        "import torchvision\n",
        "import torch.nn.functional as F\n",
        "from torch.autograd import Variable\n",
        "\n",
        "from PIL import Image\n",
        "import cv2\n",
        "import albumentations as A\n",
        "\n",
        "import time\n",
        "import os\n",
        "from tqdm.notebook import tqdm\n",
        "\n",
        "# !pip install -q torchsummary\n",
        "\n",
        "from torchsummary import summary\n",
        "import statistics \n",
        "device = torch.device(\"cuda\" if torch.cuda.is_available() else \"cpu\")"
      ],
      "metadata": {
        "id": "bZVOdGB9iT2m"
      },
      "execution_count": 5,
      "outputs": []
    },
    {
      "cell_type": "code",
      "source": [
        "IMAGE_PATH = '../content/sample_data/dataset/semantic_drone_dataset/original_images/'\n",
        "MASK_PATH = '../content/sample_data/dataset/semantic_drone_dataset/label_images_semantic/'"
      ],
      "metadata": {
        "id": "dMkSr0Pwieaj"
      },
      "execution_count": 6,
      "outputs": []
    },
    {
      "cell_type": "code",
      "source": [
        "n_classes = 23 \n",
        "\n",
        "def create_df():\n",
        "    name = []\n",
        "    for dirname, _, filenames in os.walk(IMAGE_PATH):\n",
        "        for filename in filenames:\n",
        "            name.append(filename.split('.')[0])\n",
        "    \n",
        "    return pd.DataFrame({'id': name}, index = np.arange(0, len(name)))\n",
        "\n",
        "df = create_df()\n",
        "print('Total Images: ', len(df))"
      ],
      "metadata": {
        "id": "7ebGCZkfk8Dv",
        "outputId": "1f14c494-6fc1-4fa6-efd0-d8da4c636342",
        "colab": {
          "base_uri": "https://localhost:8080/"
        }
      },
      "execution_count": 7,
      "outputs": [
        {
          "output_type": "stream",
          "name": "stdout",
          "text": [
            "Total Images:  400\n"
          ]
        }
      ]
    },
    {
      "cell_type": "code",
      "source": [
        "X_trainval, X_test = train_test_split(df['id'].values, test_size=0.1, random_state=19)\n",
        "X_train, X_val = train_test_split(X_trainval, test_size=0.15, random_state=19)\n",
        "\n",
        "print('Train Size   : ', len(X_train))\n",
        "print('Val Size     : ', len(X_val))\n",
        "print('Test Size    : ', len(X_test))"
      ],
      "metadata": {
        "id": "RMJMMPorlg8i",
        "outputId": "6afd13ae-d352-4b0e-d14b-7a26d284a299",
        "colab": {
          "base_uri": "https://localhost:8080/"
        }
      },
      "execution_count": 8,
      "outputs": [
        {
          "output_type": "stream",
          "name": "stdout",
          "text": [
            "Train Size   :  306\n",
            "Val Size     :  54\n",
            "Test Size    :  40\n"
          ]
        }
      ]
    },
    {
      "cell_type": "code",
      "source": [
        "img = Image.open(IMAGE_PATH + df['id'][100] + '.jpg')\n",
        "mask = Image.open(MASK_PATH + df['id'][100] + '.png')\n",
        "print('Image Size', np.asarray(img).shape)\n",
        "print('Mask Size', np.asarray(mask).shape)\n",
        "\n",
        "\n",
        "plt.imshow(img)\n",
        "plt.imshow(mask, alpha=0.6)\n",
        "plt.title('Picture with Mask Appplied')\n",
        "plt.show()"
      ],
      "metadata": {
        "id": "mgX-2lJ4nvP6",
        "outputId": "f65c68ac-89d5-4547-dbbe-7a67f207bd08",
        "colab": {
          "base_uri": "https://localhost:8080/",
          "height": 316
        }
      },
      "execution_count": 9,
      "outputs": [
        {
          "output_type": "stream",
          "name": "stdout",
          "text": [
            "Image Size (4000, 6000, 3)\n",
            "Mask Size (4000, 6000)\n"
          ]
        },
        {
          "output_type": "display_data",
          "data": {
            "text/plain": [
              "<Figure size 432x288 with 1 Axes>"
            ],
            "image/png": "[encoded data removed]"
          },
          "metadata": {
            "needs_background": "light"
          }
        }
      ]
    },
    {
      "cell_type": "code",
      "source": [
        "class DroneDataset(Dataset):\n",
        "\n",
        "  def __init__(self, img_path, mask_path, X, mean, std, transform=None, patch=False):\n",
        "    self.img_path = img_path\n",
        "    self.mask_path = mask_path\n",
        "    self.X = X\n",
        "    self.transform = transform\n",
        "    self.patches = patch\n",
        "    self.mean = mean\n",
        "    self.std = std\n",
        "  \n",
        "  def __len__(self):\n",
        "    return len(self.X)\n",
        "\n",
        "  def __getitem__(self, idx):\n",
        "        img = cv2.imread(self.img_path + self.X[idx] + '.jpg')\n",
        "        img = cv2.cvtColor(img, cv2.COLOR_BGR2RGB)\n",
        "        mask = cv2.imread(self.mask_path + self.X[idx] + '.png', cv2.IMREAD_GRAYSCALE)\n",
        "        \n",
        "        if self.transform is not None:\n",
        "            aug = self.transform(image=img, mask=mask)\n",
        "            img = Image.fromarray(aug['image'])\n",
        "            mask = aug['mask']\n",
        "        \n",
        "        if self.transform is None:\n",
        "            img = Image.fromarray(img)\n",
        "        \n",
        "        t = T.Compose([T.ToTensor(), T.Normalize(self.mean, self.std)])\n",
        "        img = t(img)\n",
        "        mask = torch.from_numpy(mask).long()\n",
        "        \n",
        "        return img, mask"
      ],
      "metadata": {
        "id": "fkI3oOm9opr-"
      },
      "execution_count": 10,
      "outputs": []
    },
    {
      "cell_type": "code",
      "source": [
        "mean=[0.485, 0.456, 0.406]\n",
        "std=[0.229, 0.224, 0.225]\n",
        "\n",
        "t_train = A.Compose([A.Resize(704, 1056, interpolation=cv2.INTER_NEAREST), A.HorizontalFlip(), A.VerticalFlip(), \n",
        "                     A.GridDistortion(p=0.2), A.RandomBrightnessContrast((0,0.5),(0,0.5)),\n",
        "                     A.GaussNoise()])\n",
        "\n",
        "t_val = A.Compose([A.Resize(704, 1056, interpolation=cv2.INTER_NEAREST), A.HorizontalFlip(),\n",
        "                   A.GridDistortion(p=0.2)])\n",
        "\n",
        "#datasets\n",
        "train_set = DroneDataset(IMAGE_PATH, MASK_PATH, X_train, mean, std, t_train, patch=False)\n",
        "val_set = DroneDataset(IMAGE_PATH, MASK_PATH, X_val, mean, std, t_val, patch=False)\n",
        "\n",
        "#dataloader\n",
        "batch_size= 3\n",
        "\n",
        "train_loader = DataLoader(train_set, batch_size=batch_size, shuffle=True)\n",
        "val_loader = DataLoader(val_set, batch_size=batch_size, shuffle=True)               "
      ],
      "metadata": {
        "id": "LMw3X87f1ziv"
      },
      "execution_count": 11,
      "outputs": []
    },
    {
      "cell_type": "code",
      "source": [
        "# import numpy\n",
        "\n",
        "# t_find = A.Resize(704, 1056, interpolation=cv2.INTER_NEAREST)\n",
        "# find_set = DroneDataset(IMAGE_PATH, MASK_PATH, X_train, mean, std, t_find, patch=False)\n",
        "\n",
        "# count_colors = [0] \n",
        "# count_colors *= 23\n",
        "\n",
        "# for i in range(306):\n",
        "#     # print(count_colors)\n",
        "#     _ , mask = find_set[i]\n",
        "#     np_mask = mask.numpy()\n",
        "\n",
        "#     unique, counts = numpy.unique(np_mask, return_counts=True)\n",
        "#     for j, i in enumerate(unique):\n",
        "#         count_colors[i] += counts[j]\n",
        "\n",
        "# print(count_colors)"
      ],
      "metadata": {
        "id": "HIb8wYbipTto"
      },
      "execution_count": 12,
      "outputs": []
    },
    {
      "cell_type": "code",
      "source": [
        "# x = sum(count_colors)\n",
        "# for i in range(23):\n",
        "#     count_colors[i] /= x\n",
        "\n",
        "# print(count_colors)"
      ],
      "metadata": {
        "id": "5Dus50EsCYCQ"
      },
      "execution_count": 13,
      "outputs": []
    },
    {
      "cell_type": "code",
      "source": [
        "list_of_colors = []"
      ],
      "metadata": {
        "id": "mv9rkgvKELRD"
      },
      "execution_count": 14,
      "outputs": []
    },
    {
      "cell_type": "code",
      "source": [
        "# for j, i in enumerate(count_colors):\n",
        "#     if i/sum(count_colors) < 0.005:\n",
        "#         list_of_colors.append(j)\n",
        "#         print(j)\n",
        "#     # print(i)\n",
        "#     # print(i/sum(count_colors))"
      ],
      "metadata": {
        "id": "RIuQq0cRUMTD"
      },
      "execution_count": 15,
      "outputs": []
    },
    {
      "cell_type": "code",
      "source": [
        "# list_of_colors = [0, 12, 14, 16, 18, 21]\n",
        "# weights = []\n",
        "# for i in range(23):\n",
        "#     if (i in list_of_colors):\n",
        "#         weights.append(5.0)\n",
        "#     else:\n",
        "#         weights.append(1.0)\n",
        "#     # for j in list_of_colors:\n",
        "#     #     if i == j:\n",
        "#     #         weights.append(5.0)\n",
        "#     #         continue\n",
        "#     # weights.append(1.0)\n",
        "\n",
        "# class_weights = torch.FloatTensor(weights).cuda()"
      ],
      "metadata": {
        "id": "RJl2x8BUEoN-"
      },
      "execution_count": 16,
      "outputs": []
    },
    {
      "cell_type": "code",
      "source": [
        "# print(weights)"
      ],
      "metadata": {
        "id": "0FJCKivH2DXE"
      },
      "execution_count": 17,
      "outputs": []
    },
    {
      "cell_type": "code",
      "source": [
        "from torch import nn\n",
        "class UNET(nn.Module):\n",
        "    def __init__(self, in_channels, out_channels):\n",
        "        super().__init__()\n",
        "\n",
        "        self.down1 = self.down_block(in_channels, 64, 7, 3)\n",
        "        self.down2 = self.down_block(64, 128, 3, 1)\n",
        "        self.down3 = self.down_block(128, 256,  3, 1)\n",
        "        self.down4 = self.down_block(256, 512,  3, 1)\n",
        "        self.down5 = self.down_block(512, 1024, 3, 1)\n",
        "\n",
        "        self.last = self.down_block(128, 64, 3, 1)\n",
        "        self.last1 = torch.nn.Conv2d(64, out_channels, kernel_size=1)\n",
        "        self.pool = torch.nn.MaxPool2d(kernel_size=3, stride=2, padding=1)\n",
        "        \n",
        "\n",
        "        self.upconv5 = self.expand_block(1024, 512, 3, 1)\n",
        "        # self.upconv4 = self.expand_block(512 * 2, 256, 3, 1)\n",
        "        self.upconv4 = self.expand_block(512, 256, 3, 1)\n",
        "\n",
        "        self.upconv3 = self.expand_block(256 * 2, 128, 3, 1)\n",
        "        # self.upconv3 = self.expand_block(256, 128, 3, 1)\n",
        "\n",
        "        self.upconv2 = self.expand_block(128 * 2, 64, 3, 1)\n",
        "\n",
        "      \n",
        "    def down_block(self, in_channels, out_channels, kernel_size, padding):\n",
        "        down = nn.Sequential(\n",
        "            torch.nn.Conv2d(in_channels, out_channels, kernel_size=kernel_size, stride=1, padding=padding),\n",
        "            torch.nn.BatchNorm2d(out_channels),\n",
        "            torch.nn.ReLU(),\n",
        "            torch.nn.Conv2d(out_channels, out_channels, kernel_size=kernel_size, stride=1, padding=padding),\n",
        "            torch.nn.BatchNorm2d(out_channels),\n",
        "            torch.nn.ReLU()\n",
        "        )\n",
        "        return down\n",
        "\n",
        "    def expand_block(self, in_channels, out_channels, kernel_size, padding):\n",
        "        expand = nn.Sequential(torch.nn.Conv2d(in_channels, out_channels, kernel_size, stride=1, padding=padding),\n",
        "                            torch.nn.BatchNorm2d(out_channels),\n",
        "                            torch.nn.ReLU(),\n",
        "                            torch.nn.Conv2d(out_channels, out_channels, kernel_size, stride=1, padding=padding),\n",
        "                            torch.nn.BatchNorm2d(out_channels),\n",
        "                            torch.nn.ReLU(),\n",
        "                            torch.nn.ConvTranspose2d(out_channels, out_channels, kernel_size=3, stride=2, padding=1, output_padding=1) \n",
        "                            )\n",
        "        return expand\n",
        "\n",
        "    def forward(self, x):\n",
        "        # downsampling part\n",
        "        conv1 = self.down1(x)\n",
        "        conv2 = self.down2(self.pool(conv1))\n",
        "        conv3 = self.down3(self.pool(conv2))\n",
        "        conv4 = self.down4(self.pool(conv3))\n",
        "        # conv5 = self.down5(self.pool(conv4))\n",
        "\n",
        "        # upconv5 = self.upconv5(conv5)\n",
        "        # upconv4 = self.upconv4(torch.cat([upconv5, conv4], 1))\n",
        "        upconv4 = self.upconv4(conv4)\n",
        "        upconv3 = self.upconv3(torch.cat([upconv4, conv3], 1))\n",
        "        upconv2 = self.upconv2(torch.cat([upconv3, conv2], 1))\n",
        "        upconv1 = self.last1(self.last(torch.cat([upconv2, conv1], 1)))\n",
        "        return upconv1 "
      ],
      "metadata": {
        "id": "-RXf_uJw113D"
      },
      "execution_count": 18,
      "outputs": []
    },
    {
      "cell_type": "code",
      "source": [
        "model = UNET(3, 23)\n",
        "optimizer = torch.optim.Adam(model.parameters())\n",
        "\n",
        "epochs = 15"
      ],
      "metadata": {
        "id": "6e8XR_XxUe_d"
      },
      "execution_count": 19,
      "outputs": []
    },
    {
      "cell_type": "code",
      "source": [
        "# print(error)"
      ],
      "metadata": {
        "id": "8oPm3VNIgxNc"
      },
      "execution_count": 20,
      "outputs": []
    },
    {
      "cell_type": "code",
      "source": [
        "import torch\n",
        "torch.cuda.empty_cache()\n",
        "print(torch.cuda.memory_allocated()/1024/1024)"
      ],
      "metadata": {
        "id": "5RzTIdUTdYZF",
        "colab": {
          "base_uri": "https://localhost:8080/"
        },
        "outputId": "f825b7fb-2d15-4285-9aee-9b2a6627bc03"
      },
      "execution_count": 21,
      "outputs": [
        {
          "output_type": "stream",
          "name": "stdout",
          "text": [
            "0.0\n"
          ]
        }
      ]
    },
    {
      "cell_type": "code",
      "source": [
        "# checkpoint = torch.load('dice_7ep.pt')\n",
        "# model.load_state_dict(checkpoint['model_state_dict'])\n",
        "# optimizer.load_state_dict(checkpoint['optimizer_state_dict'])\n",
        "# epoch = checkpoint['epoch']\n",
        "# loss = checkpoint['loss']\n",
        "\n",
        "# model = model.cuda()"
      ],
      "metadata": {
        "id": "dsdlo65N5M3J"
      },
      "execution_count": 22,
      "outputs": []
    },
    {
      "cell_type": "code",
      "source": [
        "# weights = []\n",
        "# for i in class_accuracy:\n",
        "#     if (i < 0.05):\n",
        "#         weights.append(5.0)\n",
        "#     elif (i > 0.5):\n",
        "#         weights.append(0.7)\n",
        "#     else:\n",
        "#         weights.append(1.0)\n",
        "# print(weights)\n",
        "# class_weights = torch.FloatTensor(weights).cuda()"
      ],
      "metadata": {
        "id": "Z8yhMt4QlsAg"
      },
      "execution_count": 23,
      "outputs": []
    },
    {
      "cell_type": "code",
      "source": [
        "# len(weights)"
      ],
      "metadata": {
        "id": "yf9ng9HBn2D8"
      },
      "execution_count": 24,
      "outputs": []
    },
    {
      "cell_type": "code",
      "source": [
        "# criterion = nn.CrossEntropyLoss(weight=class_weights)"
      ],
      "metadata": {
        "id": "Oi4B5Z62vN79"
      },
      "execution_count": 25,
      "outputs": []
    },
    {
      "cell_type": "code",
      "source": [
        "# print(output.shape)\n",
        "# print(y.shape)"
      ],
      "metadata": {
        "id": "IaxTcfNxIcWw"
      },
      "execution_count": 26,
      "outputs": []
    },
    {
      "cell_type": "code",
      "source": [
        "model.cuda()"
      ],
      "metadata": {
        "id": "-a1UzUcWz3lg",
        "outputId": "2375a12b-bda2-4af9-a99f-0348e258a41c",
        "colab": {
          "base_uri": "https://localhost:8080/"
        }
      },
      "execution_count": 27,
      "outputs": [
        {
          "output_type": "execute_result",
          "data": {
            "text/plain": [
              "UNET(\n",
              "  (down1): Sequential(\n",
              "    (0): Conv2d(3, 64, kernel_size=(7, 7), stride=(1, 1), padding=(3, 3))\n",
              "    (1): BatchNorm2d(64, eps=1e-05, momentum=0.1, affine=True, track_running_stats=True)\n",
              "    (2): ReLU()\n",
              "    (3): Conv2d(64, 64, kernel_size=(7, 7), stride=(1, 1), padding=(3, 3))\n",
              "    (4): BatchNorm2d(64, eps=1e-05, momentum=0.1, affine=True, track_running_stats=True)\n",
              "    (5): ReLU()\n",
              "  )\n",
              "  (down2): Sequential(\n",
              "    (0): Conv2d(64, 128, kernel_size=(3, 3), stride=(1, 1), padding=(1, 1))\n",
              "    (1): BatchNorm2d(128, eps=1e-05, momentum=0.1, affine=True, track_running_stats=True)\n",
              "    (2): ReLU()\n",
              "    (3): Conv2d(128, 128, kernel_size=(3, 3), stride=(1, 1), padding=(1, 1))\n",
              "    (4): BatchNorm2d(128, eps=1e-05, momentum=0.1, affine=True, track_running_stats=True)\n",
              "    (5): ReLU()\n",
              "  )\n",
              "  (down3): Sequential(\n",
              "    (0): Conv2d(128, 256, kernel_size=(3, 3), stride=(1, 1), padding=(1, 1))\n",
              "    (1): BatchNorm2d(256, eps=1e-05, momentum=0.1, affine=True, track_running_stats=True)\n",
              "    (2): ReLU()\n",
              "    (3): Conv2d(256, 256, kernel_size=(3, 3), stride=(1, 1), padding=(1, 1))\n",
              "    (4): BatchNorm2d(256, eps=1e-05, momentum=0.1, affine=True, track_running_stats=True)\n",
              "    (5): ReLU()\n",
              "  )\n",
              "  (down4): Sequential(\n",
              "    (0): Conv2d(256, 512, kernel_size=(3, 3), stride=(1, 1), padding=(1, 1))\n",
              "    (1): BatchNorm2d(512, eps=1e-05, momentum=0.1, affine=True, track_running_stats=True)\n",
              "    (2): ReLU()\n",
              "    (3): Conv2d(512, 512, kernel_size=(3, 3), stride=(1, 1), padding=(1, 1))\n",
              "    (4): BatchNorm2d(512, eps=1e-05, momentum=0.1, affine=True, track_running_stats=True)\n",
              "    (5): ReLU()\n",
              "  )\n",
              "  (down5): Sequential(\n",
              "    (0): Conv2d(512, 1024, kernel_size=(3, 3), stride=(1, 1), padding=(1, 1))\n",
              "    (1): BatchNorm2d(1024, eps=1e-05, momentum=0.1, affine=True, track_running_stats=True)\n",
              "    (2): ReLU()\n",
              "    (3): Conv2d(1024, 1024, kernel_size=(3, 3), stride=(1, 1), padding=(1, 1))\n",
              "    (4): BatchNorm2d(1024, eps=1e-05, momentum=0.1, affine=True, track_running_stats=True)\n",
              "    (5): ReLU()\n",
              "  )\n",
              "  (last): Sequential(\n",
              "    (0): Conv2d(128, 64, kernel_size=(3, 3), stride=(1, 1), padding=(1, 1))\n",
              "    (1): BatchNorm2d(64, eps=1e-05, momentum=0.1, affine=True, track_running_stats=True)\n",
              "    (2): ReLU()\n",
              "    (3): Conv2d(64, 64, kernel_size=(3, 3), stride=(1, 1), padding=(1, 1))\n",
              "    (4): BatchNorm2d(64, eps=1e-05, momentum=0.1, affine=True, track_running_stats=True)\n",
              "    (5): ReLU()\n",
              "  )\n",
              "  (last1): Conv2d(64, 23, kernel_size=(1, 1), stride=(1, 1))\n",
              "  (pool): MaxPool2d(kernel_size=3, stride=2, padding=1, dilation=1, ceil_mode=False)\n",
              "  (upconv5): Sequential(\n",
              "    (0): Conv2d(1024, 512, kernel_size=(3, 3), stride=(1, 1), padding=(1, 1))\n",
              "    (1): BatchNorm2d(512, eps=1e-05, momentum=0.1, affine=True, track_running_stats=True)\n",
              "    (2): ReLU()\n",
              "    (3): Conv2d(512, 512, kernel_size=(3, 3), stride=(1, 1), padding=(1, 1))\n",
              "    (4): BatchNorm2d(512, eps=1e-05, momentum=0.1, affine=True, track_running_stats=True)\n",
              "    (5): ReLU()\n",
              "    (6): ConvTranspose2d(512, 512, kernel_size=(3, 3), stride=(2, 2), padding=(1, 1), output_padding=(1, 1))\n",
              "  )\n",
              "  (upconv4): Sequential(\n",
              "    (0): Conv2d(512, 256, kernel_size=(3, 3), stride=(1, 1), padding=(1, 1))\n",
              "    (1): BatchNorm2d(256, eps=1e-05, momentum=0.1, affine=True, track_running_stats=True)\n",
              "    (2): ReLU()\n",
              "    (3): Conv2d(256, 256, kernel_size=(3, 3), stride=(1, 1), padding=(1, 1))\n",
              "    (4): BatchNorm2d(256, eps=1e-05, momentum=0.1, affine=True, track_running_stats=True)\n",
              "    (5): ReLU()\n",
              "    (6): ConvTranspose2d(256, 256, kernel_size=(3, 3), stride=(2, 2), padding=(1, 1), output_padding=(1, 1))\n",
              "  )\n",
              "  (upconv3): Sequential(\n",
              "    (0): Conv2d(512, 128, kernel_size=(3, 3), stride=(1, 1), padding=(1, 1))\n",
              "    (1): BatchNorm2d(128, eps=1e-05, momentum=0.1, affine=True, track_running_stats=True)\n",
              "    (2): ReLU()\n",
              "    (3): Conv2d(128, 128, kernel_size=(3, 3), stride=(1, 1), padding=(1, 1))\n",
              "    (4): BatchNorm2d(128, eps=1e-05, momentum=0.1, affine=True, track_running_stats=True)\n",
              "    (5): ReLU()\n",
              "    (6): ConvTranspose2d(128, 128, kernel_size=(3, 3), stride=(2, 2), padding=(1, 1), output_padding=(1, 1))\n",
              "  )\n",
              "  (upconv2): Sequential(\n",
              "    (0): Conv2d(256, 64, kernel_size=(3, 3), stride=(1, 1), padding=(1, 1))\n",
              "    (1): BatchNorm2d(64, eps=1e-05, momentum=0.1, affine=True, track_running_stats=True)\n",
              "    (2): ReLU()\n",
              "    (3): Conv2d(64, 64, kernel_size=(3, 3), stride=(1, 1), padding=(1, 1))\n",
              "    (4): BatchNorm2d(64, eps=1e-05, momentum=0.1, affine=True, track_running_stats=True)\n",
              "    (5): ReLU()\n",
              "    (6): ConvTranspose2d(64, 64, kernel_size=(3, 3), stride=(2, 2), padding=(1, 1), output_padding=(1, 1))\n",
              "  )\n",
              ")"
            ]
          },
          "metadata": {},
          "execution_count": 27
        }
      ]
    },
    {
      "cell_type": "code",
      "source": [
        "class FocalLoss(nn.Module):\n",
        "    def __init__(self, gamma=0, alpha=None, size_average=True):\n",
        "        super(FocalLoss, self).__init__()\n",
        "        self.gamma = gamma\n",
        "        # self.alpha = alpha\n",
        "        # if isinstance(alpha,(float, int, long)): self.alpha = torch.Tensor([alpha,1-alpha])\n",
        "        # if isinstance(alpha, list): self.alpha = torch.Tensor(alpha)\n",
        "        self.size_average = size_average\n",
        "\n",
        "    def forward(self, input, target):\n",
        "        input = input.view(input.size(0), input.size(1), -1)  # N,C,H,W => N,C,H*W\n",
        "        input = input.transpose(1, 2)    # N,C,H*W => N,H*W,C\n",
        "        input = input.contiguous().view(-1, input.size(2))   # N,H*W,C => N*H*W,C\n",
        "        target = target.view(-1, 1)\n",
        "\n",
        "        logpt = F.log_softmax(input, -1)\n",
        "        logpt = logpt.gather(1, target)\n",
        "        logpt = logpt.view(-1)\n",
        "        pt = logpt.data.exp()\n",
        "        pt.requiers_grad = True\n",
        "        # if self.alpha is not None:\n",
        "        #     if self.alpha.type() != input.data.type():\n",
        "        #         self.alpha = self.alpha.type_as(input.data)\n",
        "        #     at = self.alpha.gather(0,target.data.view(-1))\n",
        "        #     logpt = logpt * Variable(at)\n",
        "\n",
        "        loss = -1 * (1 - pt) ** self.gamma * logpt\n",
        "        if self.size_average: \n",
        "            return loss.mean()\n",
        "        else: \n",
        "            return loss.sum()"
      ],
      "metadata": {
        "id": "6W0gxeSjjuh7"
      },
      "execution_count": 28,
      "outputs": []
    },
    {
      "cell_type": "code",
      "source": [
        "criterion = FocalLoss(gamma = 5)"
      ],
      "metadata": {
        "id": "_p6XMBUKgGeZ"
      },
      "execution_count": 29,
      "outputs": []
    },
    {
      "cell_type": "code",
      "source": [
        "# class TverskyLoss(nn.Module):\n",
        "#     def __init__(self, alpha=0.5, beta=0.5, eps=1e-7):\n",
        "#         super(TverskyLoss, self).__init__()\n",
        "#         self.alpha = alpha\n",
        "#         self.beta = beta\n",
        "#         self.eps = eps\n",
        "\n",
        "#     def forward(self, true, logits):\n",
        "#         true = true.long()\n",
        "#         true = logits.long()\n",
        "#         num_classes = logits.shape[1]\n",
        "#         true_1_hot = torch.eye(num_classes)[true.squeeze(1)]\n",
        "#         true_1_hot = true_1_hot.permute(0, 3, 1, 2).float()\n",
        "#         probas = F.softmax(logits, dim=1)\n",
        "\n",
        "#         true_1_hot = true_1_hot.type(logits.type())\n",
        "#         dims = (0,) + tuple(range(2, true.ndimension()))\n",
        "#         intersection = torch.sum(probas * true_1_hot, dims)\n",
        "#         fps = torch.sum(probas * (1 - true_1_hot), dims)\n",
        "#         fns = torch.sum((1 - probas) * true_1_hot, dims)\n",
        "#         num = intersection\n",
        "#         denom = intersection + (self.alpha * fps) + (self.beta * fns)\n",
        "#         tversky_loss = (num / (denom + self.eps)).mean()\n",
        "\n",
        "#         return (1 - tversky_loss)"
      ],
      "metadata": {
        "id": "3o-5MF_oxfHu"
      },
      "execution_count": 30,
      "outputs": []
    },
    {
      "cell_type": "code",
      "source": [
        "# criterion = TverskyLoss()"
      ],
      "metadata": {
        "id": "2Dm6tzK79Y4n"
      },
      "execution_count": 31,
      "outputs": []
    },
    {
      "cell_type": "code",
      "source": [
        "smooth = 1\n",
        "\n",
        "all_colors = [0] * 24\n",
        "correct_colors = [0] * 24\n",
        "guessed_colors = [0] * 24\n",
        "loss = []\n",
        "\n",
        "\n",
        "class DiceLoss(nn.Module):\n",
        "    def __init__(self):\n",
        "        super(DiceLoss, self).__init__()\n",
        "        \n",
        "    def forward(self, output, y):\n",
        "        smooth = 1\n",
        "        all_colors = [0] * 24\n",
        "        correct_colors = [0] * 24\n",
        "        guessed_colors = [0] * 24\n",
        "        loss = []\n",
        "\n",
        "        output = torch.argmax(F.softmax(output, dim=1), dim=1)\n",
        "        output += 1\n",
        "        y += 1\n",
        "        correct = torch.eq(output, y).int()\n",
        "        correct = correct.cuda()\n",
        "\n",
        "        # incorrect = torch.ne(output, y).int()\n",
        "        # incorrect = correct.cuda()\n",
        "\n",
        "        output = output.cpu()\n",
        "        np_output = output.numpy()\n",
        "        unique_output, counts_output = np.unique(np_output, return_counts=True)\n",
        "        output = output.cuda()\n",
        "\n",
        "        output = output * correct\n",
        "        y = y.cpu()\n",
        "        np_y = y.numpy()\n",
        "        unique_y, counts_y = np.unique(np_y, return_counts=True)\n",
        "            \n",
        "        for j, i in enumerate(unique_y):\n",
        "            guessed_colors[i] += counts_y[j]\n",
        "\n",
        "        output = output.cpu()\n",
        "        np_output = output.numpy()\n",
        "        unique_output, counts_output = np.unique(np_output, return_counts=True)\n",
        "\n",
        "        for j, i in enumerate(unique_y):\n",
        "            all_colors[i] += counts_y[j]\n",
        "\n",
        "        for j, i in enumerate(unique_output):\n",
        "            correct_colors[i] += counts_output[j]\n",
        "\n",
        "        for i in range(23):\n",
        "            if (count_colors[i] > 0.04):\n",
        "                if (count_colors[i] > 0.1):\n",
        "                    loss.append(2 * correct_colors[i] * 0.01 / (all_colors[i] + guessed_colors[i] + smooth))\n",
        "                else:\n",
        "                    loss.append(2 * correct_colors[i] * 0.1 / (all_colors[i] + guessed_colors[i] + smooth))\n",
        "            else:\n",
        "                loss.append(2 * correct_colors[i] / (all_colors[i] + guessed_colors[i] + smooth))\n",
        "\n",
        "        return statistics.mean(loss)\n",
        "    # for j, i in enumerate(unique_output):\n",
        "    #     incorrect_colors[i] += counts_output[j]"
      ],
      "metadata": {
        "id": "viz7-WRX1A-E"
      },
      "execution_count": 32,
      "outputs": []
    },
    {
      "cell_type": "code",
      "source": [
        "def dice_loss(true, logits, eps=1e-7):\n",
        "    num_classes = logits.shape[1]\n",
        "    \n",
        "    # true_1_hot = torch.eye(num_classes)[true.squeeze(1)]\n",
        "    true_1_hot = torch.eye(num_classes)\n",
        "    # print(true_1_hot)\n",
        "    true_1_hot = true_1_hot[true.squeeze(1)]\n",
        "    # print(true_1_hot.shape)\n",
        "\n",
        "    true_1_hot = true_1_hot.permute(0, 3, 1, 2).float()\n",
        "    # print(true_1_hot.shape)\n",
        "    probas = F.softmax(logits, dim=1)\n",
        "\n",
        "    true_1_hot = true_1_hot.type(logits.type())\n",
        "    dims = (0,) + tuple(range(2, true.ndimension()))\n",
        "    intersection = torch.sum(probas * true_1_hot, dims)\n",
        "    cardinality = torch.sum(probas + true_1_hot, dims)\n",
        "    # print(intersection)\n",
        "    # print(cardinality)\n",
        "\n",
        "    dice_loss = (2. * intersection / (cardinality + eps)).mean()\n",
        "\n",
        "    return (1 - dice_loss)"
      ],
      "metadata": {
        "id": "BOxqzOAG7Ei1"
      },
      "execution_count": 33,
      "outputs": []
    },
    {
      "cell_type": "code",
      "source": [
        "weights = torch.eye(23)\n",
        "lst = []\n",
        "for i in range(23):\n",
        "    if count_colors[i] > 0.04:\n",
        "        if count_colors[i] > 0.1:\n",
        "            weights[i][i] = 0.1\n",
        "            lst.append(0.1)\n",
        "        else:\n",
        "            weights[i][i] = 0.5\n",
        "            lst.append(0.5)\n",
        "\n",
        "    else:\n",
        "        weights[i][i] = 1.0\n",
        "        lst.append(1.0)\n",
        "\n",
        "x = statistics.mean(lst)\n",
        "for i in range(23):\n",
        "    weights[i][i] /= x"
      ],
      "metadata": {
        "id": "3SvKS-C0hjcI"
      },
      "execution_count": 34,
      "outputs": []
    },
    {
      "cell_type": "code",
      "source": [
        "def weighted_dice_loss(true, logits, eps=1e-7):\n",
        "    num_classes = logits.shape[1]\n",
        "    \n",
        "    true_1_hot = torch.eye(num_classes)\n",
        "    true_1_hot_weights = true_1_hot * weights\n",
        "\n",
        "    true_1_hot_weights = true_1_hot_weights[true.squeeze(1)]\n",
        "    true_1_hot_weights = true_1_hot_weights.permute(0, 3, 1, 2).float()\n",
        "    \n",
        "    true_1_hot = true_1_hot[true.squeeze(1)]\n",
        "    true_1_hot = true_1_hot.permute(0, 3, 1, 2).float()\n",
        "\n",
        "    probas = F.softmax(logits, dim=1)\n",
        "\n",
        "    true_1_hot = true_1_hot.type(logits.type())\n",
        "    true_1_hot_weights = true_1_hot_weights.type(logits.type())\n",
        "\n",
        "    true_1_hot_weights = true_1_hot_weights.cuda()\n",
        "\n",
        "    dims = (0,) + tuple(range(2, true.ndimension()))\n",
        "    intersection = torch.sum(probas * true_1_hot_weights, dims)\n",
        "    cardinality = torch.sum(probas + true_1_hot, dims)\n",
        "\n",
        "    dice_loss = (2. * intersection / (cardinality + eps)).mean()\n",
        "\n",
        "    return (1 - dice_loss)"
      ],
      "metadata": {
        "id": "hHSGzls5haoL"
      },
      "execution_count": 35,
      "outputs": []
    },
    {
      "cell_type": "code",
      "source": [
        "weight = []\n",
        "for i in range(23):\n",
        "    if count_colors[i] > 0.04:\n",
        "        if count_colors[i] > 0.1:\n",
        "            weight.append(0.05)\n",
        "        else:\n",
        "            weight.append(0.5)\n",
        "    else:\n",
        "        weight.append(1.0)\n",
        "\n",
        "x = statistics.mean(weight)\n",
        "\n",
        "for i in range(23):\n",
        "    weight[i] = weight[i] / x"
      ],
      "metadata": {
        "id": "I-wuXsLR0Cin"
      },
      "execution_count": 36,
      "outputs": []
    },
    {
      "cell_type": "code",
      "source": [
        "def eddynet_dice(true, logits, eps=1e-7):\n",
        "\n",
        "    # def dice_coef_anti(y_true, y_pred):\n",
        "    #     y_true_anti = y_true[:,:,1]\n",
        "    #     y_pred_anti = y_pred[:,:,1]\n",
        "    #     intersection_anti = K.sum(y_true_anti * y_pred_anti)\n",
        "    #     return (2 * intersection_anti + smooth) / (K.sum(y_true_anti)+ K.sum(y_pred_anti) + smooth)\n",
        "\n",
        "    # def dice_coef_cyc(y_true, y_pred):\n",
        "    #     y_true_cyc = y_true[:,:,2]\n",
        "    #     y_pred_cyc = y_pred[:,:,2]\n",
        "    #     intersection_cyc = K.sum(y_true_cyc * y_pred_cyc)\n",
        "    #     return (2 * intersection_cyc + smooth) / (K.sum(y_true_cyc) + K.sum(y_pred_cyc) + smooth)\n",
        "\n",
        "    # def dice_coef_nn(y_true, y_pred):\n",
        "    #     y_true_nn = y_true[:,:,0]\n",
        "    #     y_pred_nn = y_pred[:,:,0]\n",
        "    #     intersection_nn = K.sum(y_true_nn * y_pred_nn)\n",
        "    #     return (2 * intersection_nn + smooth) / (K.sum(y_true_nn) + K.sum(y_pred_nn) + smooth)\n",
        "        \n",
        "    # def mean_dice_coef(y_true, y_pred):\n",
        "    #     return (dice_coef_anti(y_true, y_pred) + dice_coef_cyc(y_true, y_pred) + dice_coef_nn(y_true, y_pred))/3.\n",
        "\n",
        "    # def weighted_mean_dice_coef(y_true, y_pred):\n",
        "    #     return (0.36*dice_coef_anti(y_true, y_pred) + 0.62*dice_coef_cyc(y_true, y_pred) + 0.02*dice_coef_nn(y_true, y_pred))\n",
        "    \n",
        "    # def dice_coef_loss(y_true, y_pred):\n",
        "    #     return 1 - weighted_mean_dice_coef(y_true, y_pred)\n",
        "    loss = 0\n",
        "    num_classes = logits.shape[1]\n",
        "    \n",
        "    true_1_hot = torch.eye(num_classes)\n",
        "    true_1_hot = true_1_hot[true.squeeze(1)]\n",
        "    true_1_hot = true_1_hot.permute(0, 3, 1, 2).float()\n",
        "    probas = F.softmax(logits, dim=1)\n",
        "    for i in range(23):\n",
        "        print(true_1_hot[:, i, :, :].shape)\n",
        "\n",
        "        true_i = true_1_hot[:, i, :, :].cuda()\n",
        "        pred_i = probas[:, i, :, :].cuda()\n",
        "        weight[i] = weight[i]\n",
        "        intersection = torch.sum(2 * true_i * pred_i  + 1)\n",
        "        print(intersection)\n",
        "        cardinality = torch.sum(true_i) + torch.sum(pred_i) + 1\n",
        "        print(cardinality)\n",
        "\n",
        "        loss += intersection * weight[i] / cardinality\n",
        "\n",
        "    return (1 - loss)  "
      ],
      "metadata": {
        "id": "atvDOF1JwX0Q"
      },
      "execution_count": 43,
      "outputs": []
    },
    {
      "cell_type": "code",
      "source": [
        "for x, y in val_loader:\n",
        "    x = x.cuda()\n",
        "    y = y.cuda()\n",
        "    model.cuda()\n",
        "\n",
        "    with torch.no_grad():\n",
        "        output = model(x)\n",
        "        print(eddynet_dice(y.long(), output))\n",
        "        break"
      ],
      "metadata": {
        "id": "YCSABm2bNl6L",
        "outputId": "13b5ffa6-bf10-430d-ebce-a89e3be9f5e0",
        "colab": {
          "base_uri": "https://localhost:8080/"
        }
      },
      "execution_count": 44,
      "outputs": [
        {
          "output_type": "stream",
          "name": "stdout",
          "text": [
            "torch.Size([3, 704, 1056])\n",
            "tensor(2230565.5000, device='cuda:0')\n",
            "tensor(42276.0977, device='cuda:0')\n",
            "torch.Size([3, 704, 1056])\n",
            "tensor(2314633.7500, device='cuda:0')\n",
            "tensor(1143471., device='cuda:0')\n",
            "torch.Size([3, 704, 1056])\n",
            "tensor(2232222., device='cuda:0')\n",
            "tensor(148241.5000, device='cuda:0')\n",
            "torch.Size([3, 704, 1056])\n",
            "tensor(2237607.7500, device='cuda:0')\n",
            "tensor(233842.1250, device='cuda:0')\n",
            "torch.Size([3, 704, 1056])\n",
            "tensor(2253685., device='cuda:0')\n",
            "tensor(302042.1875, device='cuda:0')\n",
            "torch.Size([3, 704, 1056])\n",
            "tensor(2230272., device='cuda:0')\n",
            "tensor(535089.1250, device='cuda:0')\n",
            "torch.Size([3, 704, 1056])\n",
            "tensor(2230272., device='cuda:0')\n",
            "tensor(30213.4570, device='cuda:0')\n",
            "torch.Size([3, 704, 1056])\n",
            "tensor(2230272., device='cuda:0')\n",
            "tensor(99174.9453, device='cuda:0')\n",
            "torch.Size([3, 704, 1056])\n",
            "tensor(2252444.2500, device='cuda:0')\n",
            "tensor(374523.6250, device='cuda:0')\n",
            "torch.Size([3, 704, 1056])\n",
            "tensor(2251302., device='cuda:0')\n",
            "tensor(277536.3438, device='cuda:0')\n",
            "torch.Size([3, 704, 1056])\n",
            "tensor(2243702.5000, device='cuda:0')\n",
            "tensor(292808.2812, device='cuda:0')\n",
            "torch.Size([3, 704, 1056])\n",
            "tensor(2230474.7500, device='cuda:0')\n",
            "tensor(45363.7812, device='cuda:0')\n",
            "torch.Size([3, 704, 1056])\n",
            "tensor(2230279.5000, device='cuda:0')\n",
            "tensor(32549.7129, device='cuda:0')\n",
            "torch.Size([3, 704, 1056])\n",
            "tensor(2230418.5000, device='cuda:0')\n",
            "tensor(24428.4629, device='cuda:0')\n",
            "torch.Size([3, 704, 1056])\n",
            "tensor(2230276., device='cuda:0')\n",
            "tensor(27818.9414, device='cuda:0')\n",
            "torch.Size([3, 704, 1056])\n",
            "tensor(2230477.5000, device='cuda:0')\n",
            "tensor(37784.9531, device='cuda:0')\n",
            "torch.Size([3, 704, 1056])\n",
            "tensor(2230272., device='cuda:0')\n",
            "tensor(41535.1055, device='cuda:0')\n",
            "torch.Size([3, 704, 1056])\n",
            "tensor(2231141.2500, device='cuda:0')\n",
            "tensor(64501.8320, device='cuda:0')\n",
            "torch.Size([3, 704, 1056])\n",
            "tensor(2230305., device='cuda:0')\n",
            "tensor(29128.3027, device='cuda:0')\n",
            "torch.Size([3, 704, 1056])\n",
            "tensor(2233450.5000, device='cuda:0')\n",
            "tensor(166666.6719, device='cuda:0')\n",
            "torch.Size([3, 704, 1056])\n",
            "tensor(2236100.7500, device='cuda:0')\n",
            "tensor(275468.9688, device='cuda:0')\n",
            "torch.Size([3, 704, 1056])\n",
            "tensor(2230351.2500, device='cuda:0')\n",
            "tensor(25957.8477, device='cuda:0')\n",
            "torch.Size([3, 704, 1056])\n",
            "tensor(2239679., device='cuda:0')\n",
            "tensor(210143.7500, device='cuda:0')\n",
            "tensor(-959.4566, device='cuda:0')\n"
          ]
        }
      ]
    },
    {
      "cell_type": "code",
      "source": [
        "print(count_colors)"
      ],
      "metadata": {
        "id": "MURucyUEZ4c8",
        "outputId": "fa3e05dc-84e4-4d83-fb18-1dc83d6e96c3",
        "colab": {
          "base_uri": "https://localhost:8080/"
        }
      },
      "execution_count": 39,
      "outputs": [
        {
          "output_type": "stream",
          "name": "stdout",
          "text": [
            "[0.0024193874813757, 0.3871593847271174, 0.03272240899272358, 0.18459427862628064, 0.07275418318799627, 0.024021267712778408, 0.007342901075145393, 0.006501435963073246, 0.071088467078033, 0.07442635678869804, 0.02695574667969805, 0.0056416929432470874, 0.0002914926265214534, 0.009737487220410432, 0.0005435941199539963, 0.010817066259182736, 0.00011945258905903959, 0.008996880289076145, 0.0018377913141553682, 0.021172934046064476, 0.012597698450075622, 0.0023059791739813464, 0.035952112655352544]\n"
          ]
        }
      ]
    },
    {
      "cell_type": "code",
      "source": [
        "import time\n",
        "def train(model, train_dl, valid_dl, loss_fn, optimizer, acc_fn, epochs=1):\n",
        "    start = time.time()\n",
        "    model.cuda()\n",
        "    train_loss, valid_loss = [], []\n",
        "    best_acc = 0.0\n",
        "\n",
        "    for epoch in range(epochs):\n",
        "        print('Epoch {}/{}'.format(epoch, epochs - 1))\n",
        "        print('-' * 10)\n",
        "        for phase in ['train', 'valid']:\n",
        "            if phase == 'train':\n",
        "                model.train(True)  # Set trainind mode = true\n",
        "                dataloader = train_dl\n",
        "            else:\n",
        "                model.train(False)  # Set model to evaluate mode\n",
        "                dataloader = valid_dl\n",
        "            running_loss = 0.0\n",
        "            running_acc = 0.0\n",
        "            step = 0\n",
        "            for x, y in dataloader:\n",
        "                x = x.cuda()\n",
        "                y = y.cuda()\n",
        "                step += 1\n",
        "\n",
        "                if phase == 'train':\n",
        "                    optimizer.zero_grad()\n",
        "                    outputs = model(x)\n",
        "                    # loss = loss_fn(outputs, y)\n",
        "                    loss = eddynet_dice(y.long(), outputs)\n",
        "\n",
        "                    loss.backward()\n",
        "                    optimizer.step()\n",
        "\n",
        "                else:\n",
        "                    with torch.no_grad():\n",
        "                        outputs = model(x)\n",
        "                        loss = eddynet_dice(y.long(), outputs)\n",
        "                acc = acc_fn(outputs, y)\n",
        "\n",
        "                running_acc  += acc*dataloader.batch_size\n",
        "                running_loss += loss*dataloader.batch_size \n",
        "                if step % 10 == 0:\n",
        "                    print('Current step: {}  Loss: {}  Acc: {}   AllocMem (Mb): {}'.format(step, loss, acc, torch.cuda.memory_allocated()/1024/1024))\n",
        "\n",
        "            epoch_loss = running_loss / len(dataloader.dataset)\n",
        "            epoch_acc = running_acc / len(dataloader.dataset)\n",
        "\n",
        "            print('{} Loss: {:.4f} Acc: {}'.format(phase, epoch_loss, epoch_acc))\n",
        "\n",
        "            train_loss.append(epoch_loss) if phase=='train' else valid_loss.append(epoch_loss)\n",
        "        torch.save({\n",
        "            'epoch': epoch,\n",
        "            'model_state_dict': model.state_dict(),\n",
        "            'optimizer_state_dict': optimizer.state_dict(),\n",
        "            'loss': loss,\n",
        "            }, 'model.pt')\n",
        "    time_elapsed = time.time() - start\n",
        "    print('Training complete in {:.0f}m {:.0f}s'.format(time_elapsed // 60, time_elapsed % 60))    \n",
        "    \n",
        "    return train_loss, valid_loss    \n",
        "\n",
        "def pixel_accuracy(output, mask):\n",
        "    with torch.no_grad():\n",
        "        output = torch.argmax(F.softmax(output, dim=1), dim=1)\n",
        "        correct = torch.eq(output, mask).int()\n",
        "        accuracy = float(correct.sum()) / float(correct.numel())\n",
        "    return accuracy"
      ],
      "metadata": {
        "id": "7cwvehMrHTt2"
      },
      "execution_count": 40,
      "outputs": []
    },
    {
      "cell_type": "code",
      "source": [
        "# criterion = DiceLoss()"
      ],
      "metadata": {
        "id": "emFMNNh11AWj"
      },
      "execution_count": 41,
      "outputs": []
    },
    {
      "cell_type": "code",
      "source": [
        "train_loss, valid_loss = train(model, train_loader, val_loader, criterion, optimizer, pixel_accuracy, epochs=50)\n",
        "# fit()"
      ],
      "metadata": {
        "id": "GQROYIJm8cN2",
        "colab": {
          "base_uri": "https://localhost:8080/",
          "height": 380
        },
        "outputId": "dd91776c-96ba-4d18-f649-61dd86a0a196"
      },
      "execution_count": 42,
      "outputs": [
        {
          "output_type": "stream",
          "name": "stdout",
          "text": [
            "Epoch 0/49\n",
            "----------\n",
            "Current step: 10  Loss: -602.0631713867188  Acc: 0.02016435663452709   AllocMem (Mb): 461.8564453125\n",
            "Current step: 20  Loss: -905.8037109375  Acc: 0.04734579459366391   AllocMem (Mb): 461.8564453125\n"
          ]
        },
        {
          "output_type": "error",
          "ename": "KeyboardInterrupt",
          "evalue": "ignored",
          "traceback": [
            "\u001b[0;31m---------------------------------------------------------------------------\u001b[0m",
            "\u001b[0;31mKeyboardInterrupt\u001b[0m                         Traceback (most recent call last)",
            "\u001b[0;32m<ipython-input-42-20d6471bee8b>\u001b[0m in \u001b[0;36m<module>\u001b[0;34m\u001b[0m\n\u001b[0;32m----> 1\u001b[0;31m \u001b[0mtrain_loss\u001b[0m\u001b[0;34m,\u001b[0m \u001b[0mvalid_loss\u001b[0m \u001b[0;34m=\u001b[0m \u001b[0mtrain\u001b[0m\u001b[0;34m(\u001b[0m\u001b[0mmodel\u001b[0m\u001b[0;34m,\u001b[0m \u001b[0mtrain_loader\u001b[0m\u001b[0;34m,\u001b[0m \u001b[0mval_loader\u001b[0m\u001b[0;34m,\u001b[0m \u001b[0mcriterion\u001b[0m\u001b[0;34m,\u001b[0m \u001b[0moptimizer\u001b[0m\u001b[0;34m,\u001b[0m \u001b[0mpixel_accuracy\u001b[0m\u001b[0;34m,\u001b[0m \u001b[0mepochs\u001b[0m\u001b[0;34m=\u001b[0m\u001b[0;36m50\u001b[0m\u001b[0;34m)\u001b[0m\u001b[0;34m\u001b[0m\u001b[0;34m\u001b[0m\u001b[0m\n\u001b[0m\u001b[1;32m      2\u001b[0m \u001b[0;31m# fit()\u001b[0m\u001b[0;34m\u001b[0m\u001b[0;34m\u001b[0m\u001b[0;34m\u001b[0m\u001b[0m\n",
            "\u001b[0;32m<ipython-input-40-23dbec8a6faa>\u001b[0m in \u001b[0;36mtrain\u001b[0;34m(model, train_dl, valid_dl, loss_fn, optimizer, acc_fn, epochs)\u001b[0m\n\u001b[1;32m     37\u001b[0m                         \u001b[0moutputs\u001b[0m \u001b[0;34m=\u001b[0m \u001b[0mmodel\u001b[0m\u001b[0;34m(\u001b[0m\u001b[0mx\u001b[0m\u001b[0;34m)\u001b[0m\u001b[0;34m\u001b[0m\u001b[0;34m\u001b[0m\u001b[0m\n\u001b[1;32m     38\u001b[0m                         \u001b[0mloss\u001b[0m \u001b[0;34m=\u001b[0m \u001b[0meddynet_dice\u001b[0m\u001b[0;34m(\u001b[0m\u001b[0my\u001b[0m\u001b[0;34m.\u001b[0m\u001b[0mlong\u001b[0m\u001b[0;34m(\u001b[0m\u001b[0;34m)\u001b[0m\u001b[0;34m,\u001b[0m \u001b[0moutputs\u001b[0m\u001b[0;34m)\u001b[0m\u001b[0;34m\u001b[0m\u001b[0;34m\u001b[0m\u001b[0m\n\u001b[0;32m---> 39\u001b[0;31m                 \u001b[0macc\u001b[0m \u001b[0;34m=\u001b[0m \u001b[0macc_fn\u001b[0m\u001b[0;34m(\u001b[0m\u001b[0moutputs\u001b[0m\u001b[0;34m,\u001b[0m \u001b[0my\u001b[0m\u001b[0;34m)\u001b[0m\u001b[0;34m\u001b[0m\u001b[0;34m\u001b[0m\u001b[0m\n\u001b[0m\u001b[1;32m     40\u001b[0m \u001b[0;34m\u001b[0m\u001b[0m\n\u001b[1;32m     41\u001b[0m                 \u001b[0mrunning_acc\u001b[0m  \u001b[0;34m+=\u001b[0m \u001b[0macc\u001b[0m\u001b[0;34m*\u001b[0m\u001b[0mdataloader\u001b[0m\u001b[0;34m.\u001b[0m\u001b[0mbatch_size\u001b[0m\u001b[0;34m\u001b[0m\u001b[0;34m\u001b[0m\u001b[0m\n",
            "\u001b[0;32m<ipython-input-40-23dbec8a6faa>\u001b[0m in \u001b[0;36mpixel_accuracy\u001b[0;34m(output, mask)\u001b[0m\n\u001b[1;32m     65\u001b[0m         \u001b[0moutput\u001b[0m \u001b[0;34m=\u001b[0m \u001b[0mtorch\u001b[0m\u001b[0;34m.\u001b[0m\u001b[0margmax\u001b[0m\u001b[0;34m(\u001b[0m\u001b[0mF\u001b[0m\u001b[0;34m.\u001b[0m\u001b[0msoftmax\u001b[0m\u001b[0;34m(\u001b[0m\u001b[0moutput\u001b[0m\u001b[0;34m,\u001b[0m \u001b[0mdim\u001b[0m\u001b[0;34m=\u001b[0m\u001b[0;36m1\u001b[0m\u001b[0;34m)\u001b[0m\u001b[0;34m,\u001b[0m \u001b[0mdim\u001b[0m\u001b[0;34m=\u001b[0m\u001b[0;36m1\u001b[0m\u001b[0;34m)\u001b[0m\u001b[0;34m\u001b[0m\u001b[0;34m\u001b[0m\u001b[0m\n\u001b[1;32m     66\u001b[0m         \u001b[0mcorrect\u001b[0m \u001b[0;34m=\u001b[0m \u001b[0mtorch\u001b[0m\u001b[0;34m.\u001b[0m\u001b[0meq\u001b[0m\u001b[0;34m(\u001b[0m\u001b[0moutput\u001b[0m\u001b[0;34m,\u001b[0m \u001b[0mmask\u001b[0m\u001b[0;34m)\u001b[0m\u001b[0;34m.\u001b[0m\u001b[0mint\u001b[0m\u001b[0;34m(\u001b[0m\u001b[0;34m)\u001b[0m\u001b[0;34m\u001b[0m\u001b[0;34m\u001b[0m\u001b[0m\n\u001b[0;32m---> 67\u001b[0;31m         \u001b[0maccuracy\u001b[0m \u001b[0;34m=\u001b[0m \u001b[0mfloat\u001b[0m\u001b[0;34m(\u001b[0m\u001b[0mcorrect\u001b[0m\u001b[0;34m.\u001b[0m\u001b[0msum\u001b[0m\u001b[0;34m(\u001b[0m\u001b[0;34m)\u001b[0m\u001b[0;34m)\u001b[0m \u001b[0;34m/\u001b[0m \u001b[0mfloat\u001b[0m\u001b[0;34m(\u001b[0m\u001b[0mcorrect\u001b[0m\u001b[0;34m.\u001b[0m\u001b[0mnumel\u001b[0m\u001b[0;34m(\u001b[0m\u001b[0;34m)\u001b[0m\u001b[0;34m)\u001b[0m\u001b[0;34m\u001b[0m\u001b[0;34m\u001b[0m\u001b[0m\n\u001b[0m\u001b[1;32m     68\u001b[0m     \u001b[0;32mreturn\u001b[0m \u001b[0maccuracy\u001b[0m\u001b[0;34m\u001b[0m\u001b[0;34m\u001b[0m\u001b[0m\n",
            "\u001b[0;31mKeyboardInterrupt\u001b[0m: "
          ]
        }
      ]
    },
    {
      "cell_type": "code",
      "source": [
        "all_colors = [0] * 24\n",
        "correct_colors = [0] * 24\n",
        "\n",
        "for x, y in val_loader:\n",
        "    x = x.cuda()\n",
        "    y = y.cuda()\n",
        "    model.cuda()\n",
        "\n",
        "    with torch.no_grad():\n",
        "        output = model(x)\n",
        "        output = torch.argmax(F.softmax(output, dim=1), dim=1)\n",
        "        output += 1\n",
        "        y += 1\n",
        "        correct = torch.eq(output, y).int()\n",
        "        correct = correct.cuda()\n",
        "        output = output * correct\n",
        "        y = y.cpu()\n",
        "        np_y = y.numpy()\n",
        "        unique_y, counts_y = np.unique(np_y, return_counts=True)\n",
        "        \n",
        "        output = output.cpu()\n",
        "        np_output = output.numpy()\n",
        "        unique_output, counts_output = np.unique(np_output, return_counts=True)\n",
        "\n",
        "        for j, i in enumerate(unique_y):\n",
        "            all_colors[i] += counts_y[j]\n",
        "\n",
        "        for j, i in enumerate(unique_output):\n",
        "            correct_colors[i] += counts_output[j]\n",
        "\n",
        "\n",
        "print(all_colors[1:24])\n",
        "print(correct_colors[1:24])\n",
        "\n",
        "class_accuracy = []\n",
        "for i in range(1, 24):\n",
        "    class_accuracy.append(correct_colors[i] / all_colors[i])\n",
        "\n",
        "with open(\"dice_10ep.txt\", \"w\") as output:\n",
        "    output.write(str(class_accuracy))\n",
        "\n",
        "print(class_accuracy)"
      ],
      "metadata": {
        "id": "nm8xq5y-q_91"
      },
      "execution_count": null,
      "outputs": []
    },
    {
      "cell_type": "code",
      "source": [
        "class DroneTestDataset(Dataset):\n",
        "    \n",
        "    def __init__(self, img_path, mask_path, X, transform=None):\n",
        "        self.img_path = img_path\n",
        "        self.mask_path = mask_path\n",
        "        self.X = X\n",
        "        self.transform = transform\n",
        "      \n",
        "    def __len__(self):\n",
        "        return len(self.X)\n",
        "    \n",
        "    def __getitem__(self, idx):\n",
        "        img = cv2.imread(self.img_path + self.X[idx] + '.jpg')\n",
        "        img = cv2.cvtColor(img, cv2.COLOR_BGR2RGB)\n",
        "        mask = cv2.imread(self.mask_path + self.X[idx] + '.png', cv2.IMREAD_GRAYSCALE)\n",
        "        \n",
        "        if self.transform is not None:\n",
        "            aug = self.transform(image=img, mask=mask)\n",
        "            img = Image.fromarray(aug['image'])\n",
        "            mask = aug['mask']\n",
        "        \n",
        "        if self.transform is None:\n",
        "            img = Image.fromarray(img)\n",
        "        \n",
        "        mask = torch.from_numpy(mask).long()\n",
        "        \n",
        "        return img, mask\n",
        "\n",
        "\n",
        "t_test = A.Resize(768, 1152, interpolation=cv2.INTER_NEAREST)\n",
        "test_set = DroneTestDataset(IMAGE_PATH, MASK_PATH, X_test, transform=t_test)"
      ],
      "metadata": {
        "id": "98yFtJPSi29B"
      },
      "execution_count": null,
      "outputs": []
    },
    {
      "cell_type": "code",
      "source": [
        "def predict_image_mask_pixel(model, image, mask, mean=[0.485, 0.456, 0.406], std=[0.229, 0.224, 0.225]):\n",
        "    model.eval()\n",
        "    t = T.Compose([T.ToTensor(), T.Normalize(mean, std)])\n",
        "    image = t(image)\n",
        "    model.to(device); image=image.to(device)\n",
        "    mask = mask.to(device)\n",
        "    with torch.no_grad():\n",
        "        \n",
        "        image = image.unsqueeze(0)\n",
        "        mask = mask.unsqueeze(0)\n",
        "        \n",
        "        output = model(image)\n",
        "        masked = torch.argmax(output, dim=1)\n",
        "        masked = masked.cpu().squeeze(0)\n",
        "    return masked"
      ],
      "metadata": {
        "id": "aOECJbByjS9V"
      },
      "execution_count": null,
      "outputs": []
    },
    {
      "cell_type": "code",
      "source": [
        "image, mask = test_set[0]\n",
        "output = predict_image_mask_pixel(model, image, mask, mean=[0.485, 0.456, 0.406], std=[0.229, 0.224, 0.225])\n",
        "\n",
        "fig, (ax1, ax2, ax3) = plt.subplots(1,3, figsize=(20,10))\n",
        "ax1.imshow(image)\n",
        "ax1.set_title('Picture');\n",
        "\n",
        "ax2.imshow(mask)\n",
        "ax2.set_title('Ground truth')\n",
        "ax2.set_axis_off()\n",
        "\n",
        "ax3.imshow(output)\n",
        "ax3.set_title('output')\n",
        "ax3.set_axis_off()"
      ],
      "metadata": {
        "id": "Bufg5LoJjY5X"
      },
      "execution_count": null,
      "outputs": []
    },
    {
      "cell_type": "code",
      "source": [
        "image, mask = test_set[2]\n",
        "output = predict_image_mask_pixel(model, image, mask, mean=[0.485, 0.456, 0.406], std=[0.229, 0.224, 0.225])\n",
        "\n",
        "fig, (ax1, ax2, ax3) = plt.subplots(1,3, figsize=(20,10))\n",
        "ax1.imshow(image)\n",
        "ax1.set_title('Picture');\n",
        "\n",
        "ax2.imshow(mask)\n",
        "ax2.set_title('Ground truth')\n",
        "ax2.set_axis_off()\n",
        "\n",
        "ax3.imshow(output)\n",
        "ax3.set_title('output')\n",
        "ax3.set_axis_off()"
      ],
      "metadata": {
        "id": "pime27JTEUhh"
      },
      "execution_count": null,
      "outputs": []
    },
    {
      "cell_type": "code",
      "source": [
        "image, mask = test_set[4]\n",
        "output = predict_image_mask_pixel(model, image, mask, mean=[0.485, 0.456, 0.406], std=[0.229, 0.224, 0.225])\n",
        "\n",
        "fig, (ax1, ax2, ax3) = plt.subplots(1,3, figsize=(20,10))\n",
        "ax1.imshow(image)\n",
        "ax1.set_title('Picture');\n",
        "\n",
        "ax2.imshow(mask)\n",
        "ax2.set_title('Ground truth')\n",
        "ax2.set_axis_off()\n",
        "\n",
        "ax3.imshow(output)\n",
        "ax3.set_title('output')\n",
        "ax3.set_axis_off()"
      ],
      "metadata": {
        "id": "XCIv8h-1EVWo"
      },
      "execution_count": null,
      "outputs": []
    }
  ]
}