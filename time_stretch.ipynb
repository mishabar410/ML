{
  "nbformat": 4,
  "nbformat_minor": 0,
  "metadata": {
    "colab": {
      "provenance": [],
      "authorship_tag": "ABX9TyMuSOHkhr5Bkw9wVl2eeHsw",
      "include_colab_link": true
    },
    "kernelspec": {
      "name": "python3",
      "display_name": "Python 3"
    },
    "language_info": {
      "name": "python"
    }
  },
  "cells": [
    {
      "cell_type": "markdown",
      "metadata": {
        "id": "view-in-github",
        "colab_type": "text"
      },
      "source": [
        "<a href=\"https://colab.research.google.com/github/mishabar410/ML-2022/blob/main/time_stretch.ipynb\" target=\"_parent\"><img src=\"https://colab.research.google.com/assets/colab-badge.svg\" alt=\"Open In Colab\"/></a>"
      ]
    },
    {
      "cell_type": "code",
      "source": [
        "import librosa\n",
        "import numpy as np\n",
        "\n",
        "# Load the audio file\n",
        "filename = 'test_mono.wav'\n",
        "y, sr = librosa.load(filename, sr=None, mono=True)\n",
        "\n",
        "# Set the stretching factor\n",
        "stretch_factor = 1.5\n",
        "\n",
        "# Set the window size and hop size\n",
        "win_size = 2048\n",
        "hop_size = int(win_size/4)\n",
        "\n",
        "# Calculate the FFT of the signal\n",
        "y_fft = librosa.stft(y, n_fft=win_size, hop_length=hop_size)\n",
        "\n",
        "# Divide the signal into frames and calculate the phase angle\n",
        "y_mag, y_phase = librosa.magphase(y_fft)\n",
        "num_frames = y_mag.shape[1]\n",
        "\n",
        "# Initialize the output signal\n",
        "output = np.zeros_like(y_mag)\n",
        "\n",
        "# Set the time indices for the output signal\n",
        "time_indices = np.arange(0, num_frames, stretch_factor)\n",
        "\n",
        "# Loop through the output time indices\n",
        "for i, t in enumerate(time_indices):\n",
        "\n",
        "    # Find the nearest integer frame index\n",
        "    frame_index = int(round(t))\n",
        "\n",
        "    # Interpolate the magnitude and phase of the signal\n",
        "    if frame_index >= num_frames:\n",
        "        # If the frame index is out of bounds, use the last frame\n",
        "        mag = y_mag[:, -1]\n",
        "        phase = y_phase[:, -1]\n",
        "    else:\n",
        "        # Otherwise, interpolate between frames\n",
        "        mag = y_mag[:, frame_index-1] + (t-frame_index)*(y_mag[:, frame_index]-y_mag[:, frame_index-1])\n",
        "        phase = y_phase[:, frame_index-1] + (t-frame_index)*(y_phase[:, frame_index]-y_phase[:, frame_index-1])\n",
        "\n",
        "    # Reconstruct the complex spectrum of the signal\n",
        "    y_stretch = mag * np.exp(1j*phase)\n",
        "\n",
        "    # Add the stretched frame to the output signal\n",
        "    output[:, i] = y_stretch\n",
        "\n",
        "# Invert the FFT to get the time-domain signal\n",
        "y_stretch = librosa.istft(output, hop_length=hop_size)\n",
        "\n",
        "# Save the output signal to a new audio file\n",
        "\n",
        "# import soundfile as sf\n",
        "# import soundfile as sf\n",
        "# sf.write('test_stretch.wav', 48000, 'PCM_24')\n",
        "\n",
        "scipy.io.wavfile.write('test_stretch.wav', sr, y_stretch)"
      ],
      "metadata": {
        "colab": {
          "base_uri": "https://localhost:8080/",
          "height": 269
        },
        "id": "z4y9rs0w1G9N",
        "outputId": "07e86fdc-b280-494c-e625-53450a794fcd"
      },
      "execution_count": 56,
      "outputs": [
        {
          "output_type": "stream",
          "name": "stderr",
          "text": [
            "<ipython-input-56-1dbfcc969496>:48: ComplexWarning: Casting complex values to real discards the imaginary part\n",
            "  output[:, i] = y_stretch\n"
          ]
        },
        {
          "output_type": "error",
          "ename": "IndexError",
          "evalue": "ignored",
          "traceback": [
            "\u001b[0;31m---------------------------------------------------------------------------\u001b[0m",
            "\u001b[0;31mIndexError\u001b[0m                                Traceback (most recent call last)",
            "\u001b[0;32m<ipython-input-56-1dbfcc969496>\u001b[0m in \u001b[0;36m<module>\u001b[0;34m\u001b[0m\n\u001b[1;32m     46\u001b[0m \u001b[0;34m\u001b[0m\u001b[0m\n\u001b[1;32m     47\u001b[0m     \u001b[0;31m# Add the stretched frame to the output signal\u001b[0m\u001b[0;34m\u001b[0m\u001b[0;34m\u001b[0m\u001b[0;34m\u001b[0m\u001b[0m\n\u001b[0;32m---> 48\u001b[0;31m     \u001b[0moutput\u001b[0m\u001b[0;34m[\u001b[0m\u001b[0;34m:\u001b[0m\u001b[0;34m,\u001b[0m \u001b[0mi\u001b[0m\u001b[0;34m]\u001b[0m \u001b[0;34m=\u001b[0m \u001b[0my_stretch\u001b[0m\u001b[0;34m\u001b[0m\u001b[0;34m\u001b[0m\u001b[0m\n\u001b[0m\u001b[1;32m     49\u001b[0m \u001b[0;34m\u001b[0m\u001b[0m\n\u001b[1;32m     50\u001b[0m \u001b[0;31m# Invert the FFT to get the time-domain signal\u001b[0m\u001b[0;34m\u001b[0m\u001b[0;34m\u001b[0m\u001b[0;34m\u001b[0m\u001b[0m\n",
            "\u001b[0;31mIndexError\u001b[0m: index 525 is out of bounds for axis 1 with size 525"
          ]
        }
      ]
    }
  ]
}