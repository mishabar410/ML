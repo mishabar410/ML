{
  "nbformat": 4,
  "nbformat_minor": 0,
  "metadata": {
    "colab": {
      "provenance": [],
      "authorship_tag": "ABX9TyNpUX0+lQQTtTeneDNAfW/A",
      "include_colab_link": true
    },
    "kernelspec": {
      "name": "python3",
      "display_name": "Python 3"
    },
    "language_info": {
      "name": "python"
    }
  },
  "cells": [
    {
      "cell_type": "markdown",
      "metadata": {
        "id": "view-in-github",
        "colab_type": "text"
      },
      "source": [
        "<a href=\"https://colab.research.google.com/github/mishabar410/ML-2022/blob/main/time_stretch.ipynb\" target=\"_parent\"><img src=\"https://colab.research.google.com/assets/colab-badge.svg\" alt=\"Open In Colab\"/></a>"
      ]
    },
    {
      "cell_type": "code",
      "source": [
        "import librosa\n",
        "import numpy as np\n",
        "\n",
        "# Load the audio file\n",
        "filename = 'test_mono.wav'\n",
        "y, sr = librosa.load(filename, sr=None, mono=True)\n",
        "\n",
        "# Set the stretching factor\n",
        "stretch_factor = 2\n",
        "\n",
        "# Set the window size and hop size\n",
        "win_size = 2048\n",
        "hop_size = int(win_size/4)\n",
        "\n",
        "# Calculate the FFT of the signal\n",
        "y_fft = librosa.stft(y, n_fft=win_size, hop_length=hop_size)\n",
        "\n",
        "# Divide the signal into frames and calculate the phase angle\n",
        "y_mag, y_phase = librosa.magphase(y_fft)\n",
        "num_frames = y_mag.shape[1]\n",
        "print(y_mag.shape)\n",
        "# Initialize the output signal\n",
        "output = np.zeros_like(y_mag)\n",
        "\n",
        "# Set the time indices for the output signal\n",
        "time_indices = np.arange(0, num_frames, stretch_factor)\n",
        "\n",
        "# Loop through the output time indices\n",
        "for i, t in enumerate(time_indices):\n",
        "\n",
        "    # Find the nearest integer frame index\n",
        "    frame_index = int(round(t))\n",
        "\n",
        "    # Interpolate the magnitude and phase of the signal\n",
        "    if frame_index >= num_frames:\n",
        "        # If the frame index is out of bounds, use the last frame\n",
        "        mag = y_mag[:, -1]\n",
        "        phase = y_phase[:, -1]\n",
        "    else:\n",
        "        # Otherwise, interpolate between frames\n",
        "        mag = y_mag[:, frame_index-1] + (t-frame_index)*(y_mag[:, frame_index]-y_mag[:, frame_index-1])\n",
        "        phase = y_phase[:, frame_index-1] + (t-frame_index)*(y_phase[:, frame_index]-y_phase[:, frame_index-1])\n",
        "\n",
        "    # Reconstruct the complex spectrum of the signal\n",
        "    y_stretch = mag * np.exp(1j*phase)\n",
        "\n",
        "    # Add the stretched frame to the output signal\n",
        "    output[:, i] = y_stretch\n",
        "\n",
        "# Invert the FFT to get the time-domain signal\n",
        "y_stretch = librosa.istft(output, hop_length=hop_size)\n",
        "\n",
        "# Save the output signal to a new audio file\n",
        "\n",
        "scipy.io.wavfile.write('test_stretch.wav', sr, y_stretch)"
      ],
      "metadata": {
        "colab": {
          "base_uri": "https://localhost:8080/"
        },
        "id": "z4y9rs0w1G9N",
        "outputId": "bac64349-92fb-4417-edaf-8fdca9729067"
      },
      "execution_count": 77,
      "outputs": [
        {
          "output_type": "stream",
          "name": "stdout",
          "text": [
            "(1025, 525)\n"
          ]
        },
        {
          "output_type": "stream",
          "name": "stderr",
          "text": [
            "<ipython-input-77-f47b5086fc0e>:48: ComplexWarning: Casting complex values to real discards the imaginary part\n",
            "  output[:, i] = y_stretch\n"
          ]
        }
      ]
    },
    {
      "cell_type": "code",
      "source": [
        "import librosa\n",
        "import numpy as np\n",
        "from scipy.io import wavfile\n",
        "\n",
        "# Load the audio file\n",
        "filename = 'test_mono.wav'\n",
        "sr, y = wavfile.read(filename)\n",
        "\n",
        "# Convert to float32\n",
        "y = y.astype(np.float32) / 32767.0\n",
        "\n",
        "# Set the stretching factor\n",
        "stretch_factor = 2\n",
        "\n",
        "# Set the window size and hop size\n",
        "win_size = 2048\n",
        "hop_size = int(win_size/4)\n",
        "\n",
        "# Calculate the FFT of the signal\n",
        "y_fft = librosa.stft(y, n_fft=win_size, hop_length=hop_size)\n",
        "\n",
        "# Divide the signal into frames and calculate the phase angle\n",
        "y_mag, y_phase = librosa.magphase(y_fft)\n",
        "num_frames = y_mag.shape[1]\n",
        "\n",
        "# Initialize the output signal\n",
        "output = np.zeros((y_mag.shape[0], int(num_frames * stretch_factor)), dtype=np.complex64)\n",
        "\n",
        "# Set the time indices for the output signal\n",
        "time_indices = np.arange(0, num_frames, 1/stretch_factor)\n",
        "\n",
        "# Loop through the output time indices\n",
        "for i, t in enumerate(time_indices):\n",
        "\n",
        "    # Find the nearest integer frame index\n",
        "    frame_index = int(round(t))\n",
        "\n",
        "    # Interpolate the magnitude and phase of the signal\n",
        "    if frame_index >= num_frames:\n",
        "        # If the frame index is out of bounds, use the last frame\n",
        "        mag = y_mag[:, -1]\n",
        "        phase = y_phase[:, -1]\n",
        "    else:\n",
        "        # Otherwise, interpolate between frames\n",
        "        mag = y_mag[:, frame_index-1] + (t-frame_index)*(y_mag[:, frame_index]-y_mag[:, frame_index-1])\n",
        "        phase = y_phase[:, frame_index-1] + (t-frame_index)*(y_phase[:, frame_index]-y_phase[:, frame_index-1])\n",
        "\n",
        "    # Reconstruct the complex spectrum of the signal\n",
        "    y_stretch = mag * np.exp(1j*phase)\n",
        "\n",
        "    # Add the stretched frame to the output signal\n",
        "    output[:, i:i+1] = y_stretch.reshape(-1, 1)\n",
        "\n",
        "# Invert the FFT to get the time-domain signal\n",
        "y_stretch = librosa.istft(output, hop_length=hop_size)\n",
        "\n",
        "# Convert back to int16\n",
        "y_stretch = np.int16(y_stretch * 32767.0)\n",
        "\n",
        "# Save the output signal to a new audio file\n",
        "wavfile.write('test_stretch.wav', sr, y_stretch)\n"
      ],
      "metadata": {
        "id": "iAmpwhIr82oW"
      },
      "execution_count": 79,
      "outputs": []
    },
    {
      "cell_type": "code",
      "source": [
        "s1=[[2,3],[4,5,6]]\n",
        "print(s1[:, 1])"
      ],
      "metadata": {
        "colab": {
          "base_uri": "https://localhost:8080/",
          "height": 182
        },
        "id": "nl9ucPBh_AXJ",
        "outputId": "218ca1b4-a3a7-4ef6-e79a-7c2c058deb15"
      },
      "execution_count": 64,
      "outputs": [
        {
          "output_type": "error",
          "ename": "TypeError",
          "evalue": "ignored",
          "traceback": [
            "\u001b[0;31m---------------------------------------------------------------------------\u001b[0m",
            "\u001b[0;31mTypeError\u001b[0m                                 Traceback (most recent call last)",
            "\u001b[0;32m<ipython-input-64-aef8468a3de4>\u001b[0m in \u001b[0;36m<module>\u001b[0;34m\u001b[0m\n\u001b[1;32m      1\u001b[0m \u001b[0ms1\u001b[0m\u001b[0;34m=\u001b[0m\u001b[0;34m[\u001b[0m\u001b[0;34m[\u001b[0m\u001b[0;36m2\u001b[0m\u001b[0;34m,\u001b[0m\u001b[0;36m3\u001b[0m\u001b[0;34m]\u001b[0m\u001b[0;34m,\u001b[0m\u001b[0;34m[\u001b[0m\u001b[0;36m4\u001b[0m\u001b[0;34m,\u001b[0m\u001b[0;36m5\u001b[0m\u001b[0;34m,\u001b[0m\u001b[0;36m6\u001b[0m\u001b[0;34m]\u001b[0m\u001b[0;34m]\u001b[0m\u001b[0;34m\u001b[0m\u001b[0;34m\u001b[0m\u001b[0m\n\u001b[0;32m----> 2\u001b[0;31m \u001b[0mprint\u001b[0m\u001b[0;34m(\u001b[0m\u001b[0ms1\u001b[0m\u001b[0;34m[\u001b[0m\u001b[0;34m:\u001b[0m\u001b[0;34m,\u001b[0m \u001b[0;36m1\u001b[0m\u001b[0;34m]\u001b[0m\u001b[0;34m)\u001b[0m\u001b[0;34m\u001b[0m\u001b[0;34m\u001b[0m\u001b[0m\n\u001b[0m",
            "\u001b[0;31mTypeError\u001b[0m: list indices must be integers or slices, not tuple"
          ]
        }
      ]
    }
  ]
}